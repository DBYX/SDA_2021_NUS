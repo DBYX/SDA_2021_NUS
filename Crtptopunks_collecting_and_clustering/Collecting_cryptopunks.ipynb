{
 "cells": [
  {
   "cell_type": "code",
   "execution_count": 1,
   "metadata": {},
   "outputs": [],
   "source": [
    "import requests\n",
    "from bs4 import BeautifulSoup\n",
    "import pandas as pd\n",
    "from PIL import Image\n",
    "from io import BytesIO\n",
    "import os"
   ]
  },
  {
   "cell_type": "code",
   "execution_count": 2,
   "metadata": {},
   "outputs": [],
   "source": [
    "def creat_dir_not_exist(path):\n",
    "    if not os.path.exists(path):\n",
    "        os.mkdir(path)"
   ]
  },
  {
   "cell_type": "code",
   "execution_count": 3,
   "metadata": {},
   "outputs": [],
   "source": [
    "# set headers\n",
    "headers = {'user-agent':'Mozilla/5.0 (Windows NT 10.0; Win64; x64) AppleWebKit/537.36 (KHTML, like Gecko) Chrome/87.0.4280.88 Safari/537.36'}"
   ]
  },
  {
   "cell_type": "code",
   "execution_count": 4,
   "metadata": {
    "scrolled": true
   },
   "outputs": [],
   "source": [
    "# note that it will scrape all the pictures and save them in your sys_path under \"cryptopunks\" folder\n",
    "# it will take a long long time to download all of the 10000 pictures\n",
    "for i in range(2):\n",
    "    url = \"https://www.larvalabs.com/public/images/cryptopunks/punk\"+str(i).zfill(4)+\".png\"\n",
    "    #print(url)\n",
    "    res = requests.get(url,headers = headers)\n",
    "    image = Image.open(BytesIO(res.content))\n",
    "    directory = './cryptopunks'\n",
    "    creat_dir_not_exist(directory)\n",
    "    image.save(directory+ '/'+str(i).zfill(4) + '.png')"
   ]
  },
  {
   "cell_type": "code",
   "execution_count": 5,
   "metadata": {},
   "outputs": [],
   "source": [
    "# define a function to get any picture you want if you know the index\n",
    "def getimage(i):\n",
    "    url = \"https://www.larvalabs.com/public/images/cryptopunks/punk\"+str(i).zfill(4)+\".png\"\n",
    "    #print(url)\n",
    "    res = requests.get(url,headers = headers)\n",
    "    image = Image.open(BytesIO(res.content))\n",
    "    return image"
   ]
  },
  {
   "cell_type": "code",
   "execution_count": 6,
   "metadata": {},
   "outputs": [
    {
     "data": {
      "image/png": "[encoded data removed]",
      "text/plain": [
       "<PIL.PngImagePlugin.PngImageFile image mode=RGBA size=24x24 at 0x234F16C0D68>"
      ]
     },
     "execution_count": 6,
     "metadata": {},
     "output_type": "execute_result"
    }
   ],
   "source": [
    "getimage(100)"
   ]
  },
  {
   "cell_type": "code",
   "execution_count": null,
   "metadata": {},
   "outputs": [],
   "source": []
  }
 ],
 "metadata": {
  "kernelspec": {
   "display_name": "Python 3",
   "language": "python",
   "name": "python3"
  },
  "language_info": {
   "codemirror_mode": {
    "name": "ipython",
    "version": 3
   },
   "file_extension": ".py",
   "mimetype": "text/x-python",
   "name": "python",
   "nbconvert_exporter": "python",
   "pygments_lexer": "ipython3",
   "version": "3.6.5"
  }
 },
 "nbformat": 4,
 "nbformat_minor": 2
}
