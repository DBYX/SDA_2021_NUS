{
 "cells": [
  {
   "cell_type": "code",
   "execution_count": 1,
   "metadata": {},
   "outputs": [],
   "source": [
    "# install PCV if your didn't use it before,the download address is: https://github.com/jesolem/PCV. \n",
    "# Download it and unzip it.Then in cmd console, you cd to the directory where you unzip and use the command: python setup.py install.\n",
    "import os\n",
    "import PIL.Image as Image\n",
    "from PCV.clustering import hcluster\n",
    "from matplotlib.pyplot import *\n",
    "from numpy import *\n",
    "import requests\n",
    "from bs4 import BeautifulSoup\n",
    "import pandas as pd"
   ]
  },
  {
   "cell_type": "code",
   "execution_count": 2,
   "metadata": {},
   "outputs": [
    {
     "data": {
      "text/plain": [
       "['F:\\\\新加坡国立大学\\\\FE5225 Machine Learning and FinTech\\\\Group7\\\\crypto_punks\\\\0000.png',\n",
       " 'F:\\\\新加坡国立大学\\\\FE5225 Machine Learning and FinTech\\\\Group7\\\\crypto_punks\\\\0001.png',\n",
       " 'F:\\\\新加坡国立大学\\\\FE5225 Machine Learning and FinTech\\\\Group7\\\\crypto_punks\\\\0002.png',\n",
       " 'F:\\\\新加坡国立大学\\\\FE5225 Machine Learning and FinTech\\\\Group7\\\\crypto_punks\\\\0003.png',\n",
       " 'F:\\\\新加坡国立大学\\\\FE5225 Machine Learning and FinTech\\\\Group7\\\\crypto_punks\\\\0004.png',\n",
       " 'F:\\\\新加坡国立大学\\\\FE5225 Machine Learning and FinTech\\\\Group7\\\\crypto_punks\\\\0005.png',\n",
       " 'F:\\\\新加坡国立大学\\\\FE5225 Machine Learning and FinTech\\\\Group7\\\\crypto_punks\\\\0006.png',\n",
       " 'F:\\\\新加坡国立大学\\\\FE5225 Machine Learning and FinTech\\\\Group7\\\\crypto_punks\\\\0007.png',\n",
       " 'F:\\\\新加坡国立大学\\\\FE5225 Machine Learning and FinTech\\\\Group7\\\\crypto_punks\\\\0008.png',\n",
       " 'F:\\\\新加坡国立大学\\\\FE5225 Machine Learning and FinTech\\\\Group7\\\\crypto_punks\\\\0009.png',\n",
       " 'F:\\\\新加坡国立大学\\\\FE5225 Machine Learning and FinTech\\\\Group7\\\\crypto_punks\\\\0010.png',\n",
       " 'F:\\\\新加坡国立大学\\\\FE5225 Machine Learning and FinTech\\\\Group7\\\\crypto_punks\\\\0011.png',\n",
       " 'F:\\\\新加坡国立大学\\\\FE5225 Machine Learning and FinTech\\\\Group7\\\\crypto_punks\\\\0012.png',\n",
       " 'F:\\\\新加坡国立大学\\\\FE5225 Machine Learning and FinTech\\\\Group7\\\\crypto_punks\\\\0013.png',\n",
       " 'F:\\\\新加坡国立大学\\\\FE5225 Machine Learning and FinTech\\\\Group7\\\\crypto_punks\\\\0014.png',\n",
       " 'F:\\\\新加坡国立大学\\\\FE5225 Machine Learning and FinTech\\\\Group7\\\\crypto_punks\\\\0015.png',\n",
       " 'F:\\\\新加坡国立大学\\\\FE5225 Machine Learning and FinTech\\\\Group7\\\\crypto_punks\\\\0016.png',\n",
       " 'F:\\\\新加坡国立大学\\\\FE5225 Machine Learning and FinTech\\\\Group7\\\\crypto_punks\\\\0017.png',\n",
       " 'F:\\\\新加坡国立大学\\\\FE5225 Machine Learning and FinTech\\\\Group7\\\\crypto_punks\\\\0018.png',\n",
       " 'F:\\\\新加坡国立大学\\\\FE5225 Machine Learning and FinTech\\\\Group7\\\\crypto_punks\\\\0019.png',\n",
       " 'F:\\\\新加坡国立大学\\\\FE5225 Machine Learning and FinTech\\\\Group7\\\\crypto_punks\\\\0020.png',\n",
       " 'F:\\\\新加坡国立大学\\\\FE5225 Machine Learning and FinTech\\\\Group7\\\\crypto_punks\\\\0021.png',\n",
       " 'F:\\\\新加坡国立大学\\\\FE5225 Machine Learning and FinTech\\\\Group7\\\\crypto_punks\\\\0022.png',\n",
       " 'F:\\\\新加坡国立大学\\\\FE5225 Machine Learning and FinTech\\\\Group7\\\\crypto_punks\\\\0023.png',\n",
       " 'F:\\\\新加坡国立大学\\\\FE5225 Machine Learning and FinTech\\\\Group7\\\\crypto_punks\\\\0024.png',\n",
       " 'F:\\\\新加坡国立大学\\\\FE5225 Machine Learning and FinTech\\\\Group7\\\\crypto_punks\\\\0025.png',\n",
       " 'F:\\\\新加坡国立大学\\\\FE5225 Machine Learning and FinTech\\\\Group7\\\\crypto_punks\\\\0026.png',\n",
       " 'F:\\\\新加坡国立大学\\\\FE5225 Machine Learning and FinTech\\\\Group7\\\\crypto_punks\\\\0027.png',\n",
       " 'F:\\\\新加坡国立大学\\\\FE5225 Machine Learning and FinTech\\\\Group7\\\\crypto_punks\\\\0028.png',\n",
       " 'F:\\\\新加坡国立大学\\\\FE5225 Machine Learning and FinTech\\\\Group7\\\\crypto_punks\\\\0029.png',\n",
       " 'F:\\\\新加坡国立大学\\\\FE5225 Machine Learning and FinTech\\\\Group7\\\\crypto_punks\\\\0030.png',\n",
       " 'F:\\\\新加坡国立大学\\\\FE5225 Machine Learning and FinTech\\\\Group7\\\\crypto_punks\\\\0031.png',\n",
       " 'F:\\\\新加坡国立大学\\\\FE5225 Machine Learning and FinTech\\\\Group7\\\\crypto_punks\\\\0032.png',\n",
       " 'F:\\\\新加坡国立大学\\\\FE5225 Machine Learning and FinTech\\\\Group7\\\\crypto_punks\\\\0033.png',\n",
       " 'F:\\\\新加坡国立大学\\\\FE5225 Machine Learning and FinTech\\\\Group7\\\\crypto_punks\\\\0034.png',\n",
       " 'F:\\\\新加坡国立大学\\\\FE5225 Machine Learning and FinTech\\\\Group7\\\\crypto_punks\\\\0035.png',\n",
       " 'F:\\\\新加坡国立大学\\\\FE5225 Machine Learning and FinTech\\\\Group7\\\\crypto_punks\\\\0036.png',\n",
       " 'F:\\\\新加坡国立大学\\\\FE5225 Machine Learning and FinTech\\\\Group7\\\\crypto_punks\\\\0037.png',\n",
       " 'F:\\\\新加坡国立大学\\\\FE5225 Machine Learning and FinTech\\\\Group7\\\\crypto_punks\\\\0038.png',\n",
       " 'F:\\\\新加坡国立大学\\\\FE5225 Machine Learning and FinTech\\\\Group7\\\\crypto_punks\\\\0039.png',\n",
       " 'F:\\\\新加坡国立大学\\\\FE5225 Machine Learning and FinTech\\\\Group7\\\\crypto_punks\\\\0040.png',\n",
       " 'F:\\\\新加坡国立大学\\\\FE5225 Machine Learning and FinTech\\\\Group7\\\\crypto_punks\\\\0041.png',\n",
       " 'F:\\\\新加坡国立大学\\\\FE5225 Machine Learning and FinTech\\\\Group7\\\\crypto_punks\\\\0042.png',\n",
       " 'F:\\\\新加坡国立大学\\\\FE5225 Machine Learning and FinTech\\\\Group7\\\\crypto_punks\\\\0043.png',\n",
       " 'F:\\\\新加坡国立大学\\\\FE5225 Machine Learning and FinTech\\\\Group7\\\\crypto_punks\\\\0044.png',\n",
       " 'F:\\\\新加坡国立大学\\\\FE5225 Machine Learning and FinTech\\\\Group7\\\\crypto_punks\\\\0045.png',\n",
       " 'F:\\\\新加坡国立大学\\\\FE5225 Machine Learning and FinTech\\\\Group7\\\\crypto_punks\\\\0046.png',\n",
       " 'F:\\\\新加坡国立大学\\\\FE5225 Machine Learning and FinTech\\\\Group7\\\\crypto_punks\\\\0047.png',\n",
       " 'F:\\\\新加坡国立大学\\\\FE5225 Machine Learning and FinTech\\\\Group7\\\\crypto_punks\\\\0048.png',\n",
       " 'F:\\\\新加坡国立大学\\\\FE5225 Machine Learning and FinTech\\\\Group7\\\\crypto_punks\\\\0049.png',\n",
       " 'F:\\\\新加坡国立大学\\\\FE5225 Machine Learning and FinTech\\\\Group7\\\\crypto_punks\\\\0050.png',\n",
       " 'F:\\\\新加坡国立大学\\\\FE5225 Machine Learning and FinTech\\\\Group7\\\\crypto_punks\\\\0051.png',\n",
       " 'F:\\\\新加坡国立大学\\\\FE5225 Machine Learning and FinTech\\\\Group7\\\\crypto_punks\\\\0052.png',\n",
       " 'F:\\\\新加坡国立大学\\\\FE5225 Machine Learning and FinTech\\\\Group7\\\\crypto_punks\\\\0053.png',\n",
       " 'F:\\\\新加坡国立大学\\\\FE5225 Machine Learning and FinTech\\\\Group7\\\\crypto_punks\\\\0054.png',\n",
       " 'F:\\\\新加坡国立大学\\\\FE5225 Machine Learning and FinTech\\\\Group7\\\\crypto_punks\\\\0055.png',\n",
       " 'F:\\\\新加坡国立大学\\\\FE5225 Machine Learning and FinTech\\\\Group7\\\\crypto_punks\\\\0056.png',\n",
       " 'F:\\\\新加坡国立大学\\\\FE5225 Machine Learning and FinTech\\\\Group7\\\\crypto_punks\\\\0057.png',\n",
       " 'F:\\\\新加坡国立大学\\\\FE5225 Machine Learning and FinTech\\\\Group7\\\\crypto_punks\\\\0058.png',\n",
       " 'F:\\\\新加坡国立大学\\\\FE5225 Machine Learning and FinTech\\\\Group7\\\\crypto_punks\\\\0059.png',\n",
       " 'F:\\\\新加坡国立大学\\\\FE5225 Machine Learning and FinTech\\\\Group7\\\\crypto_punks\\\\0060.png',\n",
       " 'F:\\\\新加坡国立大学\\\\FE5225 Machine Learning and FinTech\\\\Group7\\\\crypto_punks\\\\0061.png',\n",
       " 'F:\\\\新加坡国立大学\\\\FE5225 Machine Learning and FinTech\\\\Group7\\\\crypto_punks\\\\0062.png',\n",
       " 'F:\\\\新加坡国立大学\\\\FE5225 Machine Learning and FinTech\\\\Group7\\\\crypto_punks\\\\0063.png',\n",
       " 'F:\\\\新加坡国立大学\\\\FE5225 Machine Learning and FinTech\\\\Group7\\\\crypto_punks\\\\0064.png',\n",
       " 'F:\\\\新加坡国立大学\\\\FE5225 Machine Learning and FinTech\\\\Group7\\\\crypto_punks\\\\0065.png',\n",
       " 'F:\\\\新加坡国立大学\\\\FE5225 Machine Learning and FinTech\\\\Group7\\\\crypto_punks\\\\0066.png',\n",
       " 'F:\\\\新加坡国立大学\\\\FE5225 Machine Learning and FinTech\\\\Group7\\\\crypto_punks\\\\0067.png',\n",
       " 'F:\\\\新加坡国立大学\\\\FE5225 Machine Learning and FinTech\\\\Group7\\\\crypto_punks\\\\0068.png',\n",
       " 'F:\\\\新加坡国立大学\\\\FE5225 Machine Learning and FinTech\\\\Group7\\\\crypto_punks\\\\0069.png',\n",
       " 'F:\\\\新加坡国立大学\\\\FE5225 Machine Learning and FinTech\\\\Group7\\\\crypto_punks\\\\0070.png',\n",
       " 'F:\\\\新加坡国立大学\\\\FE5225 Machine Learning and FinTech\\\\Group7\\\\crypto_punks\\\\0071.png',\n",
       " 'F:\\\\新加坡国立大学\\\\FE5225 Machine Learning and FinTech\\\\Group7\\\\crypto_punks\\\\0072.png',\n",
       " 'F:\\\\新加坡国立大学\\\\FE5225 Machine Learning and FinTech\\\\Group7\\\\crypto_punks\\\\0073.png',\n",
       " 'F:\\\\新加坡国立大学\\\\FE5225 Machine Learning and FinTech\\\\Group7\\\\crypto_punks\\\\0074.png',\n",
       " 'F:\\\\新加坡国立大学\\\\FE5225 Machine Learning and FinTech\\\\Group7\\\\crypto_punks\\\\0075.png',\n",
       " 'F:\\\\新加坡国立大学\\\\FE5225 Machine Learning and FinTech\\\\Group7\\\\crypto_punks\\\\0076.png',\n",
       " 'F:\\\\新加坡国立大学\\\\FE5225 Machine Learning and FinTech\\\\Group7\\\\crypto_punks\\\\0077.png',\n",
       " 'F:\\\\新加坡国立大学\\\\FE5225 Machine Learning and FinTech\\\\Group7\\\\crypto_punks\\\\0078.png',\n",
       " 'F:\\\\新加坡国立大学\\\\FE5225 Machine Learning and FinTech\\\\Group7\\\\crypto_punks\\\\0079.png',\n",
       " 'F:\\\\新加坡国立大学\\\\FE5225 Machine Learning and FinTech\\\\Group7\\\\crypto_punks\\\\0080.png',\n",
       " 'F:\\\\新加坡国立大学\\\\FE5225 Machine Learning and FinTech\\\\Group7\\\\crypto_punks\\\\0081.png',\n",
       " 'F:\\\\新加坡国立大学\\\\FE5225 Machine Learning and FinTech\\\\Group7\\\\crypto_punks\\\\0082.png',\n",
       " 'F:\\\\新加坡国立大学\\\\FE5225 Machine Learning and FinTech\\\\Group7\\\\crypto_punks\\\\0083.png',\n",
       " 'F:\\\\新加坡国立大学\\\\FE5225 Machine Learning and FinTech\\\\Group7\\\\crypto_punks\\\\0084.png',\n",
       " 'F:\\\\新加坡国立大学\\\\FE5225 Machine Learning and FinTech\\\\Group7\\\\crypto_punks\\\\0085.png',\n",
       " 'F:\\\\新加坡国立大学\\\\FE5225 Machine Learning and FinTech\\\\Group7\\\\crypto_punks\\\\0086.png',\n",
       " 'F:\\\\新加坡国立大学\\\\FE5225 Machine Learning and FinTech\\\\Group7\\\\crypto_punks\\\\0087.png',\n",
       " 'F:\\\\新加坡国立大学\\\\FE5225 Machine Learning and FinTech\\\\Group7\\\\crypto_punks\\\\0088.png',\n",
       " 'F:\\\\新加坡国立大学\\\\FE5225 Machine Learning and FinTech\\\\Group7\\\\crypto_punks\\\\0089.png',\n",
       " 'F:\\\\新加坡国立大学\\\\FE5225 Machine Learning and FinTech\\\\Group7\\\\crypto_punks\\\\0090.png',\n",
       " 'F:\\\\新加坡国立大学\\\\FE5225 Machine Learning and FinTech\\\\Group7\\\\crypto_punks\\\\0091.png',\n",
       " 'F:\\\\新加坡国立大学\\\\FE5225 Machine Learning and FinTech\\\\Group7\\\\crypto_punks\\\\0092.png',\n",
       " 'F:\\\\新加坡国立大学\\\\FE5225 Machine Learning and FinTech\\\\Group7\\\\crypto_punks\\\\0093.png',\n",
       " 'F:\\\\新加坡国立大学\\\\FE5225 Machine Learning and FinTech\\\\Group7\\\\crypto_punks\\\\0094.png',\n",
       " 'F:\\\\新加坡国立大学\\\\FE5225 Machine Learning and FinTech\\\\Group7\\\\crypto_punks\\\\0095.png',\n",
       " 'F:\\\\新加坡国立大学\\\\FE5225 Machine Learning and FinTech\\\\Group7\\\\crypto_punks\\\\0096.png',\n",
       " 'F:\\\\新加坡国立大学\\\\FE5225 Machine Learning and FinTech\\\\Group7\\\\crypto_punks\\\\0097.png',\n",
       " 'F:\\\\新加坡国立大学\\\\FE5225 Machine Learning and FinTech\\\\Group7\\\\crypto_punks\\\\0098.png',\n",
       " 'F:\\\\新加坡国立大学\\\\FE5225 Machine Learning and FinTech\\\\Group7\\\\crypto_punks\\\\0099.png',\n",
       " 'F:\\\\新加坡国立大学\\\\FE5225 Machine Learning and FinTech\\\\Group7\\\\crypto_punks\\\\0100.png',\n",
       " 'F:\\\\新加坡国立大学\\\\FE5225 Machine Learning and FinTech\\\\Group7\\\\crypto_punks\\\\0101.png',\n",
       " 'F:\\\\新加坡国立大学\\\\FE5225 Machine Learning and FinTech\\\\Group7\\\\crypto_punks\\\\0102.png',\n",
       " 'F:\\\\新加坡国立大学\\\\FE5225 Machine Learning and FinTech\\\\Group7\\\\crypto_punks\\\\0103.png',\n",
       " 'F:\\\\新加坡国立大学\\\\FE5225 Machine Learning and FinTech\\\\Group7\\\\crypto_punks\\\\0104.png',\n",
       " 'F:\\\\新加坡国立大学\\\\FE5225 Machine Learning and FinTech\\\\Group7\\\\crypto_punks\\\\0105.png',\n",
       " 'F:\\\\新加坡国立大学\\\\FE5225 Machine Learning and FinTech\\\\Group7\\\\crypto_punks\\\\0106.png',\n",
       " 'F:\\\\新加坡国立大学\\\\FE5225 Machine Learning and FinTech\\\\Group7\\\\crypto_punks\\\\0107.png',\n",
       " 'F:\\\\新加坡国立大学\\\\FE5225 Machine Learning and FinTech\\\\Group7\\\\crypto_punks\\\\0108.png',\n",
       " 'F:\\\\新加坡国立大学\\\\FE5225 Machine Learning and FinTech\\\\Group7\\\\crypto_punks\\\\0109.png',\n",
       " 'F:\\\\新加坡国立大学\\\\FE5225 Machine Learning and FinTech\\\\Group7\\\\crypto_punks\\\\0110.png',\n",
       " 'F:\\\\新加坡国立大学\\\\FE5225 Machine Learning and FinTech\\\\Group7\\\\crypto_punks\\\\0111.png',\n",
       " 'F:\\\\新加坡国立大学\\\\FE5225 Machine Learning and FinTech\\\\Group7\\\\crypto_punks\\\\0112.png',\n",
       " 'F:\\\\新加坡国立大学\\\\FE5225 Machine Learning and FinTech\\\\Group7\\\\crypto_punks\\\\0113.png',\n",
       " 'F:\\\\新加坡国立大学\\\\FE5225 Machine Learning and FinTech\\\\Group7\\\\crypto_punks\\\\0114.png',\n",
       " 'F:\\\\新加坡国立大学\\\\FE5225 Machine Learning and FinTech\\\\Group7\\\\crypto_punks\\\\0115.png',\n",
       " 'F:\\\\新加坡国立大学\\\\FE5225 Machine Learning and FinTech\\\\Group7\\\\crypto_punks\\\\0116.png',\n",
       " 'F:\\\\新加坡国立大学\\\\FE5225 Machine Learning and FinTech\\\\Group7\\\\crypto_punks\\\\0117.png',\n",
       " 'F:\\\\新加坡国立大学\\\\FE5225 Machine Learning and FinTech\\\\Group7\\\\crypto_punks\\\\0118.png',\n",
       " 'F:\\\\新加坡国立大学\\\\FE5225 Machine Learning and FinTech\\\\Group7\\\\crypto_punks\\\\0119.png',\n",
       " 'F:\\\\新加坡国立大学\\\\FE5225 Machine Learning and FinTech\\\\Group7\\\\crypto_punks\\\\0120.png',\n",
       " 'F:\\\\新加坡国立大学\\\\FE5225 Machine Learning and FinTech\\\\Group7\\\\crypto_punks\\\\0121.png',\n",
       " 'F:\\\\新加坡国立大学\\\\FE5225 Machine Learning and FinTech\\\\Group7\\\\crypto_punks\\\\0122.png',\n",
       " 'F:\\\\新加坡国立大学\\\\FE5225 Machine Learning and FinTech\\\\Group7\\\\crypto_punks\\\\0123.png',\n",
       " 'F:\\\\新加坡国立大学\\\\FE5225 Machine Learning and FinTech\\\\Group7\\\\crypto_punks\\\\0124.png',\n",
       " 'F:\\\\新加坡国立大学\\\\FE5225 Machine Learning and FinTech\\\\Group7\\\\crypto_punks\\\\0125.png',\n",
       " 'F:\\\\新加坡国立大学\\\\FE5225 Machine Learning and FinTech\\\\Group7\\\\crypto_punks\\\\0126.png',\n",
       " 'F:\\\\新加坡国立大学\\\\FE5225 Machine Learning and FinTech\\\\Group7\\\\crypto_punks\\\\0127.png',\n",
       " 'F:\\\\新加坡国立大学\\\\FE5225 Machine Learning and FinTech\\\\Group7\\\\crypto_punks\\\\0128.png',\n",
       " 'F:\\\\新加坡国立大学\\\\FE5225 Machine Learning and FinTech\\\\Group7\\\\crypto_punks\\\\0129.png',\n",
       " 'F:\\\\新加坡国立大学\\\\FE5225 Machine Learning and FinTech\\\\Group7\\\\crypto_punks\\\\0130.png',\n",
       " 'F:\\\\新加坡国立大学\\\\FE5225 Machine Learning and FinTech\\\\Group7\\\\crypto_punks\\\\0131.png',\n",
       " 'F:\\\\新加坡国立大学\\\\FE5225 Machine Learning and FinTech\\\\Group7\\\\crypto_punks\\\\0132.png',\n",
       " 'F:\\\\新加坡国立大学\\\\FE5225 Machine Learning and FinTech\\\\Group7\\\\crypto_punks\\\\0133.png',\n",
       " 'F:\\\\新加坡国立大学\\\\FE5225 Machine Learning and FinTech\\\\Group7\\\\crypto_punks\\\\0134.png',\n",
       " 'F:\\\\新加坡国立大学\\\\FE5225 Machine Learning and FinTech\\\\Group7\\\\crypto_punks\\\\0135.png',\n",
       " 'F:\\\\新加坡国立大学\\\\FE5225 Machine Learning and FinTech\\\\Group7\\\\crypto_punks\\\\0136.png',\n",
       " 'F:\\\\新加坡国立大学\\\\FE5225 Machine Learning and FinTech\\\\Group7\\\\crypto_punks\\\\0137.png',\n",
       " 'F:\\\\新加坡国立大学\\\\FE5225 Machine Learning and FinTech\\\\Group7\\\\crypto_punks\\\\0138.png',\n",
       " 'F:\\\\新加坡国立大学\\\\FE5225 Machine Learning and FinTech\\\\Group7\\\\crypto_punks\\\\0139.png',\n",
       " 'F:\\\\新加坡国立大学\\\\FE5225 Machine Learning and FinTech\\\\Group7\\\\crypto_punks\\\\0140.png',\n",
       " 'F:\\\\新加坡国立大学\\\\FE5225 Machine Learning and FinTech\\\\Group7\\\\crypto_punks\\\\0141.png',\n",
       " 'F:\\\\新加坡国立大学\\\\FE5225 Machine Learning and FinTech\\\\Group7\\\\crypto_punks\\\\0142.png',\n",
       " 'F:\\\\新加坡国立大学\\\\FE5225 Machine Learning and FinTech\\\\Group7\\\\crypto_punks\\\\0143.png',\n",
       " 'F:\\\\新加坡国立大学\\\\FE5225 Machine Learning and FinTech\\\\Group7\\\\crypto_punks\\\\0144.png',\n",
       " 'F:\\\\新加坡国立大学\\\\FE5225 Machine Learning and FinTech\\\\Group7\\\\crypto_punks\\\\0145.png',\n",
       " 'F:\\\\新加坡国立大学\\\\FE5225 Machine Learning and FinTech\\\\Group7\\\\crypto_punks\\\\0146.png',\n",
       " 'F:\\\\新加坡国立大学\\\\FE5225 Machine Learning and FinTech\\\\Group7\\\\crypto_punks\\\\0147.png',\n",
       " 'F:\\\\新加坡国立大学\\\\FE5225 Machine Learning and FinTech\\\\Group7\\\\crypto_punks\\\\0148.png',\n",
       " 'F:\\\\新加坡国立大学\\\\FE5225 Machine Learning and FinTech\\\\Group7\\\\crypto_punks\\\\0149.png',\n",
       " 'F:\\\\新加坡国立大学\\\\FE5225 Machine Learning and FinTech\\\\Group7\\\\crypto_punks\\\\0150.png',\n",
       " 'F:\\\\新加坡国立大学\\\\FE5225 Machine Learning and FinTech\\\\Group7\\\\crypto_punks\\\\0151.png',\n",
       " 'F:\\\\新加坡国立大学\\\\FE5225 Machine Learning and FinTech\\\\Group7\\\\crypto_punks\\\\0152.png',\n",
       " 'F:\\\\新加坡国立大学\\\\FE5225 Machine Learning and FinTech\\\\Group7\\\\crypto_punks\\\\0153.png',\n",
       " 'F:\\\\新加坡国立大学\\\\FE5225 Machine Learning and FinTech\\\\Group7\\\\crypto_punks\\\\0154.png',\n",
       " 'F:\\\\新加坡国立大学\\\\FE5225 Machine Learning and FinTech\\\\Group7\\\\crypto_punks\\\\0155.png',\n",
       " 'F:\\\\新加坡国立大学\\\\FE5225 Machine Learning and FinTech\\\\Group7\\\\crypto_punks\\\\0156.png',\n",
       " 'F:\\\\新加坡国立大学\\\\FE5225 Machine Learning and FinTech\\\\Group7\\\\crypto_punks\\\\0157.png',\n",
       " 'F:\\\\新加坡国立大学\\\\FE5225 Machine Learning and FinTech\\\\Group7\\\\crypto_punks\\\\0158.png',\n",
       " 'F:\\\\新加坡国立大学\\\\FE5225 Machine Learning and FinTech\\\\Group7\\\\crypto_punks\\\\0159.png',\n",
       " 'F:\\\\新加坡国立大学\\\\FE5225 Machine Learning and FinTech\\\\Group7\\\\crypto_punks\\\\0160.png',\n",
       " 'F:\\\\新加坡国立大学\\\\FE5225 Machine Learning and FinTech\\\\Group7\\\\crypto_punks\\\\0161.png',\n",
       " 'F:\\\\新加坡国立大学\\\\FE5225 Machine Learning and FinTech\\\\Group7\\\\crypto_punks\\\\0162.png',\n",
       " 'F:\\\\新加坡国立大学\\\\FE5225 Machine Learning and FinTech\\\\Group7\\\\crypto_punks\\\\0163.png',\n",
       " 'F:\\\\新加坡国立大学\\\\FE5225 Machine Learning and FinTech\\\\Group7\\\\crypto_punks\\\\0164.png',\n",
       " 'F:\\\\新加坡国立大学\\\\FE5225 Machine Learning and FinTech\\\\Group7\\\\crypto_punks\\\\0165.png',\n",
       " 'F:\\\\新加坡国立大学\\\\FE5225 Machine Learning and FinTech\\\\Group7\\\\crypto_punks\\\\0166.png',\n",
       " 'F:\\\\新加坡国立大学\\\\FE5225 Machine Learning and FinTech\\\\Group7\\\\crypto_punks\\\\0167.png',\n",
       " 'F:\\\\新加坡国立大学\\\\FE5225 Machine Learning and FinTech\\\\Group7\\\\crypto_punks\\\\0168.png',\n",
       " 'F:\\\\新加坡国立大学\\\\FE5225 Machine Learning and FinTech\\\\Group7\\\\crypto_punks\\\\0169.png',\n",
       " 'F:\\\\新加坡国立大学\\\\FE5225 Machine Learning and FinTech\\\\Group7\\\\crypto_punks\\\\0170.png',\n",
       " 'F:\\\\新加坡国立大学\\\\FE5225 Machine Learning and FinTech\\\\Group7\\\\crypto_punks\\\\0171.png',\n",
       " 'F:\\\\新加坡国立大学\\\\FE5225 Machine Learning and FinTech\\\\Group7\\\\crypto_punks\\\\0172.png',\n",
       " 'F:\\\\新加坡国立大学\\\\FE5225 Machine Learning and FinTech\\\\Group7\\\\crypto_punks\\\\0173.png',\n",
       " 'F:\\\\新加坡国立大学\\\\FE5225 Machine Learning and FinTech\\\\Group7\\\\crypto_punks\\\\0174.png',\n",
       " 'F:\\\\新加坡国立大学\\\\FE5225 Machine Learning and FinTech\\\\Group7\\\\crypto_punks\\\\0175.png',\n",
       " 'F:\\\\新加坡国立大学\\\\FE5225 Machine Learning and FinTech\\\\Group7\\\\crypto_punks\\\\0176.png',\n",
       " 'F:\\\\新加坡国立大学\\\\FE5225 Machine Learning and FinTech\\\\Group7\\\\crypto_punks\\\\0177.png',\n",
       " 'F:\\\\新加坡国立大学\\\\FE5225 Machine Learning and FinTech\\\\Group7\\\\crypto_punks\\\\0178.png',\n",
       " 'F:\\\\新加坡国立大学\\\\FE5225 Machine Learning and FinTech\\\\Group7\\\\crypto_punks\\\\0179.png',\n",
       " 'F:\\\\新加坡国立大学\\\\FE5225 Machine Learning and FinTech\\\\Group7\\\\crypto_punks\\\\0180.png',\n",
       " 'F:\\\\新加坡国立大学\\\\FE5225 Machine Learning and FinTech\\\\Group7\\\\crypto_punks\\\\0181.png',\n",
       " 'F:\\\\新加坡国立大学\\\\FE5225 Machine Learning and FinTech\\\\Group7\\\\crypto_punks\\\\0182.png',\n",
       " 'F:\\\\新加坡国立大学\\\\FE5225 Machine Learning and FinTech\\\\Group7\\\\crypto_punks\\\\0183.png',\n",
       " 'F:\\\\新加坡国立大学\\\\FE5225 Machine Learning and FinTech\\\\Group7\\\\crypto_punks\\\\0184.png',\n",
       " 'F:\\\\新加坡国立大学\\\\FE5225 Machine Learning and FinTech\\\\Group7\\\\crypto_punks\\\\0185.png',\n",
       " 'F:\\\\新加坡国立大学\\\\FE5225 Machine Learning and FinTech\\\\Group7\\\\crypto_punks\\\\0186.png',\n",
       " 'F:\\\\新加坡国立大学\\\\FE5225 Machine Learning and FinTech\\\\Group7\\\\crypto_punks\\\\0187.png',\n",
       " 'F:\\\\新加坡国立大学\\\\FE5225 Machine Learning and FinTech\\\\Group7\\\\crypto_punks\\\\0188.png',\n",
       " 'F:\\\\新加坡国立大学\\\\FE5225 Machine Learning and FinTech\\\\Group7\\\\crypto_punks\\\\0189.png',\n",
       " 'F:\\\\新加坡国立大学\\\\FE5225 Machine Learning and FinTech\\\\Group7\\\\crypto_punks\\\\0190.png',\n",
       " 'F:\\\\新加坡国立大学\\\\FE5225 Machine Learning and FinTech\\\\Group7\\\\crypto_punks\\\\0191.png',\n",
       " 'F:\\\\新加坡国立大学\\\\FE5225 Machine Learning and FinTech\\\\Group7\\\\crypto_punks\\\\0192.png',\n",
       " 'F:\\\\新加坡国立大学\\\\FE5225 Machine Learning and FinTech\\\\Group7\\\\crypto_punks\\\\0193.png',\n",
       " 'F:\\\\新加坡国立大学\\\\FE5225 Machine Learning and FinTech\\\\Group7\\\\crypto_punks\\\\0194.png',\n",
       " 'F:\\\\新加坡国立大学\\\\FE5225 Machine Learning and FinTech\\\\Group7\\\\crypto_punks\\\\0195.png',\n",
       " 'F:\\\\新加坡国立大学\\\\FE5225 Machine Learning and FinTech\\\\Group7\\\\crypto_punks\\\\0196.png',\n",
       " 'F:\\\\新加坡国立大学\\\\FE5225 Machine Learning and FinTech\\\\Group7\\\\crypto_punks\\\\0197.png',\n",
       " 'F:\\\\新加坡国立大学\\\\FE5225 Machine Learning and FinTech\\\\Group7\\\\crypto_punks\\\\0198.png',\n",
       " 'F:\\\\新加坡国立大学\\\\FE5225 Machine Learning and FinTech\\\\Group7\\\\crypto_punks\\\\0199.png',\n",
       " 'F:\\\\新加坡国立大学\\\\FE5225 Machine Learning and FinTech\\\\Group7\\\\crypto_punks\\\\0200.png',\n",
       " 'F:\\\\新加坡国立大学\\\\FE5225 Machine Learning and FinTech\\\\Group7\\\\crypto_punks\\\\0201.png',\n",
       " 'F:\\\\新加坡国立大学\\\\FE5225 Machine Learning and FinTech\\\\Group7\\\\crypto_punks\\\\0202.png',\n",
       " 'F:\\\\新加坡国立大学\\\\FE5225 Machine Learning and FinTech\\\\Group7\\\\crypto_punks\\\\0203.png',\n",
       " 'F:\\\\新加坡国立大学\\\\FE5225 Machine Learning and FinTech\\\\Group7\\\\crypto_punks\\\\0204.png',\n",
       " 'F:\\\\新加坡国立大学\\\\FE5225 Machine Learning and FinTech\\\\Group7\\\\crypto_punks\\\\0205.png',\n",
       " 'F:\\\\新加坡国立大学\\\\FE5225 Machine Learning and FinTech\\\\Group7\\\\crypto_punks\\\\0206.png',\n",
       " 'F:\\\\新加坡国立大学\\\\FE5225 Machine Learning and FinTech\\\\Group7\\\\crypto_punks\\\\0207.png',\n",
       " 'F:\\\\新加坡国立大学\\\\FE5225 Machine Learning and FinTech\\\\Group7\\\\crypto_punks\\\\0208.png',\n",
       " 'F:\\\\新加坡国立大学\\\\FE5225 Machine Learning and FinTech\\\\Group7\\\\crypto_punks\\\\0209.png',\n",
       " 'F:\\\\新加坡国立大学\\\\FE5225 Machine Learning and FinTech\\\\Group7\\\\crypto_punks\\\\0210.png',\n",
       " 'F:\\\\新加坡国立大学\\\\FE5225 Machine Learning and FinTech\\\\Group7\\\\crypto_punks\\\\0211.png',\n",
       " 'F:\\\\新加坡国立大学\\\\FE5225 Machine Learning and FinTech\\\\Group7\\\\crypto_punks\\\\0212.png',\n",
       " 'F:\\\\新加坡国立大学\\\\FE5225 Machine Learning and FinTech\\\\Group7\\\\crypto_punks\\\\0213.png',\n",
       " 'F:\\\\新加坡国立大学\\\\FE5225 Machine Learning and FinTech\\\\Group7\\\\crypto_punks\\\\0214.png',\n",
       " 'F:\\\\新加坡国立大学\\\\FE5225 Machine Learning and FinTech\\\\Group7\\\\crypto_punks\\\\0215.png',\n",
       " 'F:\\\\新加坡国立大学\\\\FE5225 Machine Learning and FinTech\\\\Group7\\\\crypto_punks\\\\0216.png',\n",
       " 'F:\\\\新加坡国立大学\\\\FE5225 Machine Learning and FinTech\\\\Group7\\\\crypto_punks\\\\0217.png',\n",
       " 'F:\\\\新加坡国立大学\\\\FE5225 Machine Learning and FinTech\\\\Group7\\\\crypto_punks\\\\0218.png',\n",
       " 'F:\\\\新加坡国立大学\\\\FE5225 Machine Learning and FinTech\\\\Group7\\\\crypto_punks\\\\0219.png',\n",
       " 'F:\\\\新加坡国立大学\\\\FE5225 Machine Learning and FinTech\\\\Group7\\\\crypto_punks\\\\0220.png',\n",
       " 'F:\\\\新加坡国立大学\\\\FE5225 Machine Learning and FinTech\\\\Group7\\\\crypto_punks\\\\0221.png',\n",
       " 'F:\\\\新加坡国立大学\\\\FE5225 Machine Learning and FinTech\\\\Group7\\\\crypto_punks\\\\0222.png',\n",
       " 'F:\\\\新加坡国立大学\\\\FE5225 Machine Learning and FinTech\\\\Group7\\\\crypto_punks\\\\0223.png',\n",
       " 'F:\\\\新加坡国立大学\\\\FE5225 Machine Learning and FinTech\\\\Group7\\\\crypto_punks\\\\0224.png',\n",
       " 'F:\\\\新加坡国立大学\\\\FE5225 Machine Learning and FinTech\\\\Group7\\\\crypto_punks\\\\0225.png',\n",
       " 'F:\\\\新加坡国立大学\\\\FE5225 Machine Learning and FinTech\\\\Group7\\\\crypto_punks\\\\0226.png',\n",
       " 'F:\\\\新加坡国立大学\\\\FE5225 Machine Learning and FinTech\\\\Group7\\\\crypto_punks\\\\0227.png',\n",
       " 'F:\\\\新加坡国立大学\\\\FE5225 Machine Learning and FinTech\\\\Group7\\\\crypto_punks\\\\0228.png',\n",
       " 'F:\\\\新加坡国立大学\\\\FE5225 Machine Learning and FinTech\\\\Group7\\\\crypto_punks\\\\0229.png',\n",
       " 'F:\\\\新加坡国立大学\\\\FE5225 Machine Learning and FinTech\\\\Group7\\\\crypto_punks\\\\0230.png',\n",
       " 'F:\\\\新加坡国立大学\\\\FE5225 Machine Learning and FinTech\\\\Group7\\\\crypto_punks\\\\0231.png',\n",
       " 'F:\\\\新加坡国立大学\\\\FE5225 Machine Learning and FinTech\\\\Group7\\\\crypto_punks\\\\0232.png',\n",
       " 'F:\\\\新加坡国立大学\\\\FE5225 Machine Learning and FinTech\\\\Group7\\\\crypto_punks\\\\0233.png',\n",
       " 'F:\\\\新加坡国立大学\\\\FE5225 Machine Learning and FinTech\\\\Group7\\\\crypto_punks\\\\0234.png',\n",
       " 'F:\\\\新加坡国立大学\\\\FE5225 Machine Learning and FinTech\\\\Group7\\\\crypto_punks\\\\0235.png',\n",
       " 'F:\\\\新加坡国立大学\\\\FE5225 Machine Learning and FinTech\\\\Group7\\\\crypto_punks\\\\0236.png',\n",
       " 'F:\\\\新加坡国立大学\\\\FE5225 Machine Learning and FinTech\\\\Group7\\\\crypto_punks\\\\0237.png',\n",
       " 'F:\\\\新加坡国立大学\\\\FE5225 Machine Learning and FinTech\\\\Group7\\\\crypto_punks\\\\0238.png',\n",
       " 'F:\\\\新加坡国立大学\\\\FE5225 Machine Learning and FinTech\\\\Group7\\\\crypto_punks\\\\0239.png',\n",
       " 'F:\\\\新加坡国立大学\\\\FE5225 Machine Learning and FinTech\\\\Group7\\\\crypto_punks\\\\0240.png',\n",
       " 'F:\\\\新加坡国立大学\\\\FE5225 Machine Learning and FinTech\\\\Group7\\\\crypto_punks\\\\0241.png',\n",
       " 'F:\\\\新加坡国立大学\\\\FE5225 Machine Learning and FinTech\\\\Group7\\\\crypto_punks\\\\0242.png',\n",
       " 'F:\\\\新加坡国立大学\\\\FE5225 Machine Learning and FinTech\\\\Group7\\\\crypto_punks\\\\0243.png',\n",
       " 'F:\\\\新加坡国立大学\\\\FE5225 Machine Learning and FinTech\\\\Group7\\\\crypto_punks\\\\0244.png',\n",
       " 'F:\\\\新加坡国立大学\\\\FE5225 Machine Learning and FinTech\\\\Group7\\\\crypto_punks\\\\0245.png',\n",
       " 'F:\\\\新加坡国立大学\\\\FE5225 Machine Learning and FinTech\\\\Group7\\\\crypto_punks\\\\0246.png',\n",
       " 'F:\\\\新加坡国立大学\\\\FE5225 Machine Learning and FinTech\\\\Group7\\\\crypto_punks\\\\0247.png',\n",
       " 'F:\\\\新加坡国立大学\\\\FE5225 Machine Learning and FinTech\\\\Group7\\\\crypto_punks\\\\0248.png',\n",
       " 'F:\\\\新加坡国立大学\\\\FE5225 Machine Learning and FinTech\\\\Group7\\\\crypto_punks\\\\0249.png',\n",
       " 'F:\\\\新加坡国立大学\\\\FE5225 Machine Learning and FinTech\\\\Group7\\\\crypto_punks\\\\0250.png',\n",
       " 'F:\\\\新加坡国立大学\\\\FE5225 Machine Learning and FinTech\\\\Group7\\\\crypto_punks\\\\0251.png',\n",
       " 'F:\\\\新加坡国立大学\\\\FE5225 Machine Learning and FinTech\\\\Group7\\\\crypto_punks\\\\0252.png',\n",
       " 'F:\\\\新加坡国立大学\\\\FE5225 Machine Learning and FinTech\\\\Group7\\\\crypto_punks\\\\0253.png',\n",
       " 'F:\\\\新加坡国立大学\\\\FE5225 Machine Learning and FinTech\\\\Group7\\\\crypto_punks\\\\0254.png',\n",
       " 'F:\\\\新加坡国立大学\\\\FE5225 Machine Learning and FinTech\\\\Group7\\\\crypto_punks\\\\0255.png',\n",
       " 'F:\\\\新加坡国立大学\\\\FE5225 Machine Learning and FinTech\\\\Group7\\\\crypto_punks\\\\0256.png',\n",
       " 'F:\\\\新加坡国立大学\\\\FE5225 Machine Learning and FinTech\\\\Group7\\\\crypto_punks\\\\0257.png',\n",
       " 'F:\\\\新加坡国立大学\\\\FE5225 Machine Learning and FinTech\\\\Group7\\\\crypto_punks\\\\0258.png',\n",
       " 'F:\\\\新加坡国立大学\\\\FE5225 Machine Learning and FinTech\\\\Group7\\\\crypto_punks\\\\0259.png',\n",
       " 'F:\\\\新加坡国立大学\\\\FE5225 Machine Learning and FinTech\\\\Group7\\\\crypto_punks\\\\0260.png',\n",
       " 'F:\\\\新加坡国立大学\\\\FE5225 Machine Learning and FinTech\\\\Group7\\\\crypto_punks\\\\0261.png',\n",
       " 'F:\\\\新加坡国立大学\\\\FE5225 Machine Learning and FinTech\\\\Group7\\\\crypto_punks\\\\0262.png',\n",
       " 'F:\\\\新加坡国立大学\\\\FE5225 Machine Learning and FinTech\\\\Group7\\\\crypto_punks\\\\0263.png',\n",
       " 'F:\\\\新加坡国立大学\\\\FE5225 Machine Learning and FinTech\\\\Group7\\\\crypto_punks\\\\0264.png',\n",
       " 'F:\\\\新加坡国立大学\\\\FE5225 Machine Learning and FinTech\\\\Group7\\\\crypto_punks\\\\0265.png',\n",
       " 'F:\\\\新加坡国立大学\\\\FE5225 Machine Learning and FinTech\\\\Group7\\\\crypto_punks\\\\0266.png',\n",
       " 'F:\\\\新加坡国立大学\\\\FE5225 Machine Learning and FinTech\\\\Group7\\\\crypto_punks\\\\0267.png',\n",
       " 'F:\\\\新加坡国立大学\\\\FE5225 Machine Learning and FinTech\\\\Group7\\\\crypto_punks\\\\0268.png',\n",
       " 'F:\\\\新加坡国立大学\\\\FE5225 Machine Learning and FinTech\\\\Group7\\\\crypto_punks\\\\0269.png',\n",
       " 'F:\\\\新加坡国立大学\\\\FE5225 Machine Learning and FinTech\\\\Group7\\\\crypto_punks\\\\0270.png',\n",
       " 'F:\\\\新加坡国立大学\\\\FE5225 Machine Learning and FinTech\\\\Group7\\\\crypto_punks\\\\0271.png',\n",
       " 'F:\\\\新加坡国立大学\\\\FE5225 Machine Learning and FinTech\\\\Group7\\\\crypto_punks\\\\0272.png',\n",
       " 'F:\\\\新加坡国立大学\\\\FE5225 Machine Learning and FinTech\\\\Group7\\\\crypto_punks\\\\0273.png',\n",
       " 'F:\\\\新加坡国立大学\\\\FE5225 Machine Learning and FinTech\\\\Group7\\\\crypto_punks\\\\0274.png',\n",
       " 'F:\\\\新加坡国立大学\\\\FE5225 Machine Learning and FinTech\\\\Group7\\\\crypto_punks\\\\0275.png',\n",
       " 'F:\\\\新加坡国立大学\\\\FE5225 Machine Learning and FinTech\\\\Group7\\\\crypto_punks\\\\0276.png',\n",
       " 'F:\\\\新加坡国立大学\\\\FE5225 Machine Learning and FinTech\\\\Group7\\\\crypto_punks\\\\0277.png',\n",
       " 'F:\\\\新加坡国立大学\\\\FE5225 Machine Learning and FinTech\\\\Group7\\\\crypto_punks\\\\0278.png',\n",
       " 'F:\\\\新加坡国立大学\\\\FE5225 Machine Learning and FinTech\\\\Group7\\\\crypto_punks\\\\0279.png',\n",
       " 'F:\\\\新加坡国立大学\\\\FE5225 Machine Learning and FinTech\\\\Group7\\\\crypto_punks\\\\0280.png',\n",
       " 'F:\\\\新加坡国立大学\\\\FE5225 Machine Learning and FinTech\\\\Group7\\\\crypto_punks\\\\0281.png',\n",
       " 'F:\\\\新加坡国立大学\\\\FE5225 Machine Learning and FinTech\\\\Group7\\\\crypto_punks\\\\0282.png',\n",
       " 'F:\\\\新加坡国立大学\\\\FE5225 Machine Learning and FinTech\\\\Group7\\\\crypto_punks\\\\0283.png',\n",
       " 'F:\\\\新加坡国立大学\\\\FE5225 Machine Learning and FinTech\\\\Group7\\\\crypto_punks\\\\0284.png',\n",
       " 'F:\\\\新加坡国立大学\\\\FE5225 Machine Learning and FinTech\\\\Group7\\\\crypto_punks\\\\0285.png',\n",
       " 'F:\\\\新加坡国立大学\\\\FE5225 Machine Learning and FinTech\\\\Group7\\\\crypto_punks\\\\0286.png',\n",
       " 'F:\\\\新加坡国立大学\\\\FE5225 Machine Learning and FinTech\\\\Group7\\\\crypto_punks\\\\0287.png',\n",
       " 'F:\\\\新加坡国立大学\\\\FE5225 Machine Learning and FinTech\\\\Group7\\\\crypto_punks\\\\0288.png',\n",
       " 'F:\\\\新加坡国立大学\\\\FE5225 Machine Learning and FinTech\\\\Group7\\\\crypto_punks\\\\0289.png',\n",
       " 'F:\\\\新加坡国立大学\\\\FE5225 Machine Learning and FinTech\\\\Group7\\\\crypto_punks\\\\0290.png',\n",
       " 'F:\\\\新加坡国立大学\\\\FE5225 Machine Learning and FinTech\\\\Group7\\\\crypto_punks\\\\0291.png',\n",
       " 'F:\\\\新加坡国立大学\\\\FE5225 Machine Learning and FinTech\\\\Group7\\\\crypto_punks\\\\0292.png',\n",
       " 'F:\\\\新加坡国立大学\\\\FE5225 Machine Learning and FinTech\\\\Group7\\\\crypto_punks\\\\0293.png',\n",
       " 'F:\\\\新加坡国立大学\\\\FE5225 Machine Learning and FinTech\\\\Group7\\\\crypto_punks\\\\0294.png',\n",
       " 'F:\\\\新加坡国立大学\\\\FE5225 Machine Learning and FinTech\\\\Group7\\\\crypto_punks\\\\0295.png',\n",
       " 'F:\\\\新加坡国立大学\\\\FE5225 Machine Learning and FinTech\\\\Group7\\\\crypto_punks\\\\0296.png',\n",
       " 'F:\\\\新加坡国立大学\\\\FE5225 Machine Learning and FinTech\\\\Group7\\\\crypto_punks\\\\0297.png',\n",
       " 'F:\\\\新加坡国立大学\\\\FE5225 Machine Learning and FinTech\\\\Group7\\\\crypto_punks\\\\0298.png',\n",
       " 'F:\\\\新加坡国立大学\\\\FE5225 Machine Learning and FinTech\\\\Group7\\\\crypto_punks\\\\0299.png',\n",
       " 'F:\\\\新加坡国立大学\\\\FE5225 Machine Learning and FinTech\\\\Group7\\\\crypto_punks\\\\0300.png',\n",
       " 'F:\\\\新加坡国立大学\\\\FE5225 Machine Learning and FinTech\\\\Group7\\\\crypto_punks\\\\0301.png',\n",
       " 'F:\\\\新加坡国立大学\\\\FE5225 Machine Learning and FinTech\\\\Group7\\\\crypto_punks\\\\0302.png',\n",
       " 'F:\\\\新加坡国立大学\\\\FE5225 Machine Learning and FinTech\\\\Group7\\\\crypto_punks\\\\0303.png',\n",
       " 'F:\\\\新加坡国立大学\\\\FE5225 Machine Learning and FinTech\\\\Group7\\\\crypto_punks\\\\0304.png',\n",
       " 'F:\\\\新加坡国立大学\\\\FE5225 Machine Learning and FinTech\\\\Group7\\\\crypto_punks\\\\0305.png',\n",
       " 'F:\\\\新加坡国立大学\\\\FE5225 Machine Learning and FinTech\\\\Group7\\\\crypto_punks\\\\0306.png',\n",
       " 'F:\\\\新加坡国立大学\\\\FE5225 Machine Learning and FinTech\\\\Group7\\\\crypto_punks\\\\0307.png',\n",
       " 'F:\\\\新加坡国立大学\\\\FE5225 Machine Learning and FinTech\\\\Group7\\\\crypto_punks\\\\0308.png',\n",
       " 'F:\\\\新加坡国立大学\\\\FE5225 Machine Learning and FinTech\\\\Group7\\\\crypto_punks\\\\0309.png',\n",
       " 'F:\\\\新加坡国立大学\\\\FE5225 Machine Learning and FinTech\\\\Group7\\\\crypto_punks\\\\0310.png',\n",
       " 'F:\\\\新加坡国立大学\\\\FE5225 Machine Learning and FinTech\\\\Group7\\\\crypto_punks\\\\0311.png',\n",
       " 'F:\\\\新加坡国立大学\\\\FE5225 Machine Learning and FinTech\\\\Group7\\\\crypto_punks\\\\0312.png',\n",
       " 'F:\\\\新加坡国立大学\\\\FE5225 Machine Learning and FinTech\\\\Group7\\\\crypto_punks\\\\0313.png',\n",
       " 'F:\\\\新加坡国立大学\\\\FE5225 Machine Learning and FinTech\\\\Group7\\\\crypto_punks\\\\0314.png',\n",
       " 'F:\\\\新加坡国立大学\\\\FE5225 Machine Learning and FinTech\\\\Group7\\\\crypto_punks\\\\0315.png',\n",
       " 'F:\\\\新加坡国立大学\\\\FE5225 Machine Learning and FinTech\\\\Group7\\\\crypto_punks\\\\0316.png',\n",
       " 'F:\\\\新加坡国立大学\\\\FE5225 Machine Learning and FinTech\\\\Group7\\\\crypto_punks\\\\0317.png',\n",
       " 'F:\\\\新加坡国立大学\\\\FE5225 Machine Learning and FinTech\\\\Group7\\\\crypto_punks\\\\0318.png',\n",
       " 'F:\\\\新加坡国立大学\\\\FE5225 Machine Learning and FinTech\\\\Group7\\\\crypto_punks\\\\0319.png',\n",
       " 'F:\\\\新加坡国立大学\\\\FE5225 Machine Learning and FinTech\\\\Group7\\\\crypto_punks\\\\0320.png',\n",
       " 'F:\\\\新加坡国立大学\\\\FE5225 Machine Learning and FinTech\\\\Group7\\\\crypto_punks\\\\0321.png',\n",
       " 'F:\\\\新加坡国立大学\\\\FE5225 Machine Learning and FinTech\\\\Group7\\\\crypto_punks\\\\0322.png',\n",
       " 'F:\\\\新加坡国立大学\\\\FE5225 Machine Learning and FinTech\\\\Group7\\\\crypto_punks\\\\0323.png',\n",
       " 'F:\\\\新加坡国立大学\\\\FE5225 Machine Learning and FinTech\\\\Group7\\\\crypto_punks\\\\0324.png',\n",
       " 'F:\\\\新加坡国立大学\\\\FE5225 Machine Learning and FinTech\\\\Group7\\\\crypto_punks\\\\0325.png',\n",
       " 'F:\\\\新加坡国立大学\\\\FE5225 Machine Learning and FinTech\\\\Group7\\\\crypto_punks\\\\0326.png',\n",
       " 'F:\\\\新加坡国立大学\\\\FE5225 Machine Learning and FinTech\\\\Group7\\\\crypto_punks\\\\0327.png',\n",
       " 'F:\\\\新加坡国立大学\\\\FE5225 Machine Learning and FinTech\\\\Group7\\\\crypto_punks\\\\0328.png',\n",
       " 'F:\\\\新加坡国立大学\\\\FE5225 Machine Learning and FinTech\\\\Group7\\\\crypto_punks\\\\0329.png',\n",
       " 'F:\\\\新加坡国立大学\\\\FE5225 Machine Learning and FinTech\\\\Group7\\\\crypto_punks\\\\0330.png',\n",
       " 'F:\\\\新加坡国立大学\\\\FE5225 Machine Learning and FinTech\\\\Group7\\\\crypto_punks\\\\0331.png',\n",
       " 'F:\\\\新加坡国立大学\\\\FE5225 Machine Learning and FinTech\\\\Group7\\\\crypto_punks\\\\0332.png',\n",
       " 'F:\\\\新加坡国立大学\\\\FE5225 Machine Learning and FinTech\\\\Group7\\\\crypto_punks\\\\0333.png',\n",
       " 'F:\\\\新加坡国立大学\\\\FE5225 Machine Learning and FinTech\\\\Group7\\\\crypto_punks\\\\0334.png',\n",
       " 'F:\\\\新加坡国立大学\\\\FE5225 Machine Learning and FinTech\\\\Group7\\\\crypto_punks\\\\0335.png',\n",
       " 'F:\\\\新加坡国立大学\\\\FE5225 Machine Learning and FinTech\\\\Group7\\\\crypto_punks\\\\0336.png',\n",
       " 'F:\\\\新加坡国立大学\\\\FE5225 Machine Learning and FinTech\\\\Group7\\\\crypto_punks\\\\0337.png',\n",
       " 'F:\\\\新加坡国立大学\\\\FE5225 Machine Learning and FinTech\\\\Group7\\\\crypto_punks\\\\0338.png',\n",
       " 'F:\\\\新加坡国立大学\\\\FE5225 Machine Learning and FinTech\\\\Group7\\\\crypto_punks\\\\0339.png',\n",
       " 'F:\\\\新加坡国立大学\\\\FE5225 Machine Learning and FinTech\\\\Group7\\\\crypto_punks\\\\0340.png',\n",
       " 'F:\\\\新加坡国立大学\\\\FE5225 Machine Learning and FinTech\\\\Group7\\\\crypto_punks\\\\0341.png',\n",
       " 'F:\\\\新加坡国立大学\\\\FE5225 Machine Learning and FinTech\\\\Group7\\\\crypto_punks\\\\0342.png',\n",
       " 'F:\\\\新加坡国立大学\\\\FE5225 Machine Learning and FinTech\\\\Group7\\\\crypto_punks\\\\0343.png',\n",
       " 'F:\\\\新加坡国立大学\\\\FE5225 Machine Learning and FinTech\\\\Group7\\\\crypto_punks\\\\0344.png',\n",
       " 'F:\\\\新加坡国立大学\\\\FE5225 Machine Learning and FinTech\\\\Group7\\\\crypto_punks\\\\0345.png',\n",
       " 'F:\\\\新加坡国立大学\\\\FE5225 Machine Learning and FinTech\\\\Group7\\\\crypto_punks\\\\0346.png',\n",
       " 'F:\\\\新加坡国立大学\\\\FE5225 Machine Learning and FinTech\\\\Group7\\\\crypto_punks\\\\0347.png',\n",
       " 'F:\\\\新加坡国立大学\\\\FE5225 Machine Learning and FinTech\\\\Group7\\\\crypto_punks\\\\0348.png',\n",
       " 'F:\\\\新加坡国立大学\\\\FE5225 Machine Learning and FinTech\\\\Group7\\\\crypto_punks\\\\0349.png',\n",
       " 'F:\\\\新加坡国立大学\\\\FE5225 Machine Learning and FinTech\\\\Group7\\\\crypto_punks\\\\0350.png',\n",
       " 'F:\\\\新加坡国立大学\\\\FE5225 Machine Learning and FinTech\\\\Group7\\\\crypto_punks\\\\0351.png',\n",
       " 'F:\\\\新加坡国立大学\\\\FE5225 Machine Learning and FinTech\\\\Group7\\\\crypto_punks\\\\0352.png',\n",
       " 'F:\\\\新加坡国立大学\\\\FE5225 Machine Learning and FinTech\\\\Group7\\\\crypto_punks\\\\0353.png',\n",
       " 'F:\\\\新加坡国立大学\\\\FE5225 Machine Learning and FinTech\\\\Group7\\\\crypto_punks\\\\0354.png',\n",
       " 'F:\\\\新加坡国立大学\\\\FE5225 Machine Learning and FinTech\\\\Group7\\\\crypto_punks\\\\0355.png',\n",
       " 'F:\\\\新加坡国立大学\\\\FE5225 Machine Learning and FinTech\\\\Group7\\\\crypto_punks\\\\0356.png',\n",
       " 'F:\\\\新加坡国立大学\\\\FE5225 Machine Learning and FinTech\\\\Group7\\\\crypto_punks\\\\0357.png',\n",
       " 'F:\\\\新加坡国立大学\\\\FE5225 Machine Learning and FinTech\\\\Group7\\\\crypto_punks\\\\0358.png',\n",
       " 'F:\\\\新加坡国立大学\\\\FE5225 Machine Learning and FinTech\\\\Group7\\\\crypto_punks\\\\0359.png',\n",
       " 'F:\\\\新加坡国立大学\\\\FE5225 Machine Learning and FinTech\\\\Group7\\\\crypto_punks\\\\0360.png',\n",
       " 'F:\\\\新加坡国立大学\\\\FE5225 Machine Learning and FinTech\\\\Group7\\\\crypto_punks\\\\0361.png',\n",
       " 'F:\\\\新加坡国立大学\\\\FE5225 Machine Learning and FinTech\\\\Group7\\\\crypto_punks\\\\0362.png',\n",
       " 'F:\\\\新加坡国立大学\\\\FE5225 Machine Learning and FinTech\\\\Group7\\\\crypto_punks\\\\0363.png',\n",
       " 'F:\\\\新加坡国立大学\\\\FE5225 Machine Learning and FinTech\\\\Group7\\\\crypto_punks\\\\0364.png',\n",
       " 'F:\\\\新加坡国立大学\\\\FE5225 Machine Learning and FinTech\\\\Group7\\\\crypto_punks\\\\0365.png',\n",
       " 'F:\\\\新加坡国立大学\\\\FE5225 Machine Learning and FinTech\\\\Group7\\\\crypto_punks\\\\0366.png',\n",
       " 'F:\\\\新加坡国立大学\\\\FE5225 Machine Learning and FinTech\\\\Group7\\\\crypto_punks\\\\0367.png',\n",
       " 'F:\\\\新加坡国立大学\\\\FE5225 Machine Learning and FinTech\\\\Group7\\\\crypto_punks\\\\0368.png',\n",
       " 'F:\\\\新加坡国立大学\\\\FE5225 Machine Learning and FinTech\\\\Group7\\\\crypto_punks\\\\0369.png',\n",
       " 'F:\\\\新加坡国立大学\\\\FE5225 Machine Learning and FinTech\\\\Group7\\\\crypto_punks\\\\0370.png',\n",
       " 'F:\\\\新加坡国立大学\\\\FE5225 Machine Learning and FinTech\\\\Group7\\\\crypto_punks\\\\0371.png',\n",
       " 'F:\\\\新加坡国立大学\\\\FE5225 Machine Learning and FinTech\\\\Group7\\\\crypto_punks\\\\0372.png',\n",
       " 'F:\\\\新加坡国立大学\\\\FE5225 Machine Learning and FinTech\\\\Group7\\\\crypto_punks\\\\0373.png',\n",
       " 'F:\\\\新加坡国立大学\\\\FE5225 Machine Learning and FinTech\\\\Group7\\\\crypto_punks\\\\0374.png',\n",
       " 'F:\\\\新加坡国立大学\\\\FE5225 Machine Learning and FinTech\\\\Group7\\\\crypto_punks\\\\0375.png',\n",
       " 'F:\\\\新加坡国立大学\\\\FE5225 Machine Learning and FinTech\\\\Group7\\\\crypto_punks\\\\0376.png',\n",
       " 'F:\\\\新加坡国立大学\\\\FE5225 Machine Learning and FinTech\\\\Group7\\\\crypto_punks\\\\0377.png',\n",
       " 'F:\\\\新加坡国立大学\\\\FE5225 Machine Learning and FinTech\\\\Group7\\\\crypto_punks\\\\0378.png',\n",
       " 'F:\\\\新加坡国立大学\\\\FE5225 Machine Learning and FinTech\\\\Group7\\\\crypto_punks\\\\0379.png',\n",
       " 'F:\\\\新加坡国立大学\\\\FE5225 Machine Learning and FinTech\\\\Group7\\\\crypto_punks\\\\0380.png',\n",
       " 'F:\\\\新加坡国立大学\\\\FE5225 Machine Learning and FinTech\\\\Group7\\\\crypto_punks\\\\0381.png',\n",
       " 'F:\\\\新加坡国立大学\\\\FE5225 Machine Learning and FinTech\\\\Group7\\\\crypto_punks\\\\0382.png',\n",
       " 'F:\\\\新加坡国立大学\\\\FE5225 Machine Learning and FinTech\\\\Group7\\\\crypto_punks\\\\0383.png',\n",
       " 'F:\\\\新加坡国立大学\\\\FE5225 Machine Learning and FinTech\\\\Group7\\\\crypto_punks\\\\0384.png',\n",
       " 'F:\\\\新加坡国立大学\\\\FE5225 Machine Learning and FinTech\\\\Group7\\\\crypto_punks\\\\0385.png',\n",
       " 'F:\\\\新加坡国立大学\\\\FE5225 Machine Learning and FinTech\\\\Group7\\\\crypto_punks\\\\0386.png',\n",
       " 'F:\\\\新加坡国立大学\\\\FE5225 Machine Learning and FinTech\\\\Group7\\\\crypto_punks\\\\0387.png',\n",
       " 'F:\\\\新加坡国立大学\\\\FE5225 Machine Learning and FinTech\\\\Group7\\\\crypto_punks\\\\0388.png',\n",
       " 'F:\\\\新加坡国立大学\\\\FE5225 Machine Learning and FinTech\\\\Group7\\\\crypto_punks\\\\0389.png',\n",
       " 'F:\\\\新加坡国立大学\\\\FE5225 Machine Learning and FinTech\\\\Group7\\\\crypto_punks\\\\0390.png',\n",
       " 'F:\\\\新加坡国立大学\\\\FE5225 Machine Learning and FinTech\\\\Group7\\\\crypto_punks\\\\0391.png',\n",
       " 'F:\\\\新加坡国立大学\\\\FE5225 Machine Learning and FinTech\\\\Group7\\\\crypto_punks\\\\0392.png',\n",
       " 'F:\\\\新加坡国立大学\\\\FE5225 Machine Learning and FinTech\\\\Group7\\\\crypto_punks\\\\0393.png',\n",
       " 'F:\\\\新加坡国立大学\\\\FE5225 Machine Learning and FinTech\\\\Group7\\\\crypto_punks\\\\0394.png',\n",
       " 'F:\\\\新加坡国立大学\\\\FE5225 Machine Learning and FinTech\\\\Group7\\\\crypto_punks\\\\0395.png',\n",
       " 'F:\\\\新加坡国立大学\\\\FE5225 Machine Learning and FinTech\\\\Group7\\\\crypto_punks\\\\0396.png',\n",
       " 'F:\\\\新加坡国立大学\\\\FE5225 Machine Learning and FinTech\\\\Group7\\\\crypto_punks\\\\0397.png',\n",
       " 'F:\\\\新加坡国立大学\\\\FE5225 Machine Learning and FinTech\\\\Group7\\\\crypto_punks\\\\0398.png',\n",
       " 'F:\\\\新加坡国立大学\\\\FE5225 Machine Learning and FinTech\\\\Group7\\\\crypto_punks\\\\0399.png',\n",
       " 'F:\\\\新加坡国立大学\\\\FE5225 Machine Learning and FinTech\\\\Group7\\\\crypto_punks\\\\0400.png',\n",
       " 'F:\\\\新加坡国立大学\\\\FE5225 Machine Learning and FinTech\\\\Group7\\\\crypto_punks\\\\0401.png',\n",
       " 'F:\\\\新加坡国立大学\\\\FE5225 Machine Learning and FinTech\\\\Group7\\\\crypto_punks\\\\0402.png',\n",
       " 'F:\\\\新加坡国立大学\\\\FE5225 Machine Learning and FinTech\\\\Group7\\\\crypto_punks\\\\0403.png',\n",
       " 'F:\\\\新加坡国立大学\\\\FE5225 Machine Learning and FinTech\\\\Group7\\\\crypto_punks\\\\0404.png',\n",
       " 'F:\\\\新加坡国立大学\\\\FE5225 Machine Learning and FinTech\\\\Group7\\\\crypto_punks\\\\0405.png',\n",
       " 'F:\\\\新加坡国立大学\\\\FE5225 Machine Learning and FinTech\\\\Group7\\\\crypto_punks\\\\0406.png',\n",
       " 'F:\\\\新加坡国立大学\\\\FE5225 Machine Learning and FinTech\\\\Group7\\\\crypto_punks\\\\0407.png',\n",
       " 'F:\\\\新加坡国立大学\\\\FE5225 Machine Learning and FinTech\\\\Group7\\\\crypto_punks\\\\0408.png',\n",
       " 'F:\\\\新加坡国立大学\\\\FE5225 Machine Learning and FinTech\\\\Group7\\\\crypto_punks\\\\0409.png',\n",
       " 'F:\\\\新加坡国立大学\\\\FE5225 Machine Learning and FinTech\\\\Group7\\\\crypto_punks\\\\0410.png',\n",
       " 'F:\\\\新加坡国立大学\\\\FE5225 Machine Learning and FinTech\\\\Group7\\\\crypto_punks\\\\0411.png',\n",
       " 'F:\\\\新加坡国立大学\\\\FE5225 Machine Learning and FinTech\\\\Group7\\\\crypto_punks\\\\0412.png',\n",
       " 'F:\\\\新加坡国立大学\\\\FE5225 Machine Learning and FinTech\\\\Group7\\\\crypto_punks\\\\0413.png',\n",
       " 'F:\\\\新加坡国立大学\\\\FE5225 Machine Learning and FinTech\\\\Group7\\\\crypto_punks\\\\0414.png',\n",
       " 'F:\\\\新加坡国立大学\\\\FE5225 Machine Learning and FinTech\\\\Group7\\\\crypto_punks\\\\0415.png',\n",
       " 'F:\\\\新加坡国立大学\\\\FE5225 Machine Learning and FinTech\\\\Group7\\\\crypto_punks\\\\0416.png',\n",
       " 'F:\\\\新加坡国立大学\\\\FE5225 Machine Learning and FinTech\\\\Group7\\\\crypto_punks\\\\0417.png',\n",
       " 'F:\\\\新加坡国立大学\\\\FE5225 Machine Learning and FinTech\\\\Group7\\\\crypto_punks\\\\0418.png',\n",
       " 'F:\\\\新加坡国立大学\\\\FE5225 Machine Learning and FinTech\\\\Group7\\\\crypto_punks\\\\0419.png',\n",
       " 'F:\\\\新加坡国立大学\\\\FE5225 Machine Learning and FinTech\\\\Group7\\\\crypto_punks\\\\0420.png',\n",
       " 'F:\\\\新加坡国立大学\\\\FE5225 Machine Learning and FinTech\\\\Group7\\\\crypto_punks\\\\0421.png',\n",
       " 'F:\\\\新加坡国立大学\\\\FE5225 Machine Learning and FinTech\\\\Group7\\\\crypto_punks\\\\0422.png',\n",
       " 'F:\\\\新加坡国立大学\\\\FE5225 Machine Learning and FinTech\\\\Group7\\\\crypto_punks\\\\0423.png',\n",
       " 'F:\\\\新加坡国立大学\\\\FE5225 Machine Learning and FinTech\\\\Group7\\\\crypto_punks\\\\0424.png',\n",
       " 'F:\\\\新加坡国立大学\\\\FE5225 Machine Learning and FinTech\\\\Group7\\\\crypto_punks\\\\0425.png',\n",
       " 'F:\\\\新加坡国立大学\\\\FE5225 Machine Learning and FinTech\\\\Group7\\\\crypto_punks\\\\0426.png',\n",
       " 'F:\\\\新加坡国立大学\\\\FE5225 Machine Learning and FinTech\\\\Group7\\\\crypto_punks\\\\0427.png',\n",
       " 'F:\\\\新加坡国立大学\\\\FE5225 Machine Learning and FinTech\\\\Group7\\\\crypto_punks\\\\0428.png',\n",
       " 'F:\\\\新加坡国立大学\\\\FE5225 Machine Learning and FinTech\\\\Group7\\\\crypto_punks\\\\0429.png',\n",
       " 'F:\\\\新加坡国立大学\\\\FE5225 Machine Learning and FinTech\\\\Group7\\\\crypto_punks\\\\0430.png',\n",
       " 'F:\\\\新加坡国立大学\\\\FE5225 Machine Learning and FinTech\\\\Group7\\\\crypto_punks\\\\0431.png',\n",
       " 'F:\\\\新加坡国立大学\\\\FE5225 Machine Learning and FinTech\\\\Group7\\\\crypto_punks\\\\0432.png',\n",
       " 'F:\\\\新加坡国立大学\\\\FE5225 Machine Learning and FinTech\\\\Group7\\\\crypto_punks\\\\0433.png',\n",
       " 'F:\\\\新加坡国立大学\\\\FE5225 Machine Learning and FinTech\\\\Group7\\\\crypto_punks\\\\0434.png',\n",
       " 'F:\\\\新加坡国立大学\\\\FE5225 Machine Learning and FinTech\\\\Group7\\\\crypto_punks\\\\0435.png',\n",
       " 'F:\\\\新加坡国立大学\\\\FE5225 Machine Learning and FinTech\\\\Group7\\\\crypto_punks\\\\0436.png',\n",
       " 'F:\\\\新加坡国立大学\\\\FE5225 Machine Learning and FinTech\\\\Group7\\\\crypto_punks\\\\0437.png',\n",
       " 'F:\\\\新加坡国立大学\\\\FE5225 Machine Learning and FinTech\\\\Group7\\\\crypto_punks\\\\0438.png',\n",
       " 'F:\\\\新加坡国立大学\\\\FE5225 Machine Learning and FinTech\\\\Group7\\\\crypto_punks\\\\0439.png',\n",
       " 'F:\\\\新加坡国立大学\\\\FE5225 Machine Learning and FinTech\\\\Group7\\\\crypto_punks\\\\0440.png',\n",
       " 'F:\\\\新加坡国立大学\\\\FE5225 Machine Learning and FinTech\\\\Group7\\\\crypto_punks\\\\0441.png',\n",
       " 'F:\\\\新加坡国立大学\\\\FE5225 Machine Learning and FinTech\\\\Group7\\\\crypto_punks\\\\0442.png',\n",
       " 'F:\\\\新加坡国立大学\\\\FE5225 Machine Learning and FinTech\\\\Group7\\\\crypto_punks\\\\0443.png',\n",
       " 'F:\\\\新加坡国立大学\\\\FE5225 Machine Learning and FinTech\\\\Group7\\\\crypto_punks\\\\0444.png',\n",
       " 'F:\\\\新加坡国立大学\\\\FE5225 Machine Learning and FinTech\\\\Group7\\\\crypto_punks\\\\0445.png',\n",
       " 'F:\\\\新加坡国立大学\\\\FE5225 Machine Learning and FinTech\\\\Group7\\\\crypto_punks\\\\0446.png',\n",
       " 'F:\\\\新加坡国立大学\\\\FE5225 Machine Learning and FinTech\\\\Group7\\\\crypto_punks\\\\0447.png',\n",
       " 'F:\\\\新加坡国立大学\\\\FE5225 Machine Learning and FinTech\\\\Group7\\\\crypto_punks\\\\0448.png',\n",
       " 'F:\\\\新加坡国立大学\\\\FE5225 Machine Learning and FinTech\\\\Group7\\\\crypto_punks\\\\0449.png',\n",
       " 'F:\\\\新加坡国立大学\\\\FE5225 Machine Learning and FinTech\\\\Group7\\\\crypto_punks\\\\0450.png',\n",
       " 'F:\\\\新加坡国立大学\\\\FE5225 Machine Learning and FinTech\\\\Group7\\\\crypto_punks\\\\0451.png',\n",
       " 'F:\\\\新加坡国立大学\\\\FE5225 Machine Learning and FinTech\\\\Group7\\\\crypto_punks\\\\0452.png',\n",
       " 'F:\\\\新加坡国立大学\\\\FE5225 Machine Learning and FinTech\\\\Group7\\\\crypto_punks\\\\0453.png',\n",
       " 'F:\\\\新加坡国立大学\\\\FE5225 Machine Learning and FinTech\\\\Group7\\\\crypto_punks\\\\0454.png',\n",
       " 'F:\\\\新加坡国立大学\\\\FE5225 Machine Learning and FinTech\\\\Group7\\\\crypto_punks\\\\0455.png',\n",
       " 'F:\\\\新加坡国立大学\\\\FE5225 Machine Learning and FinTech\\\\Group7\\\\crypto_punks\\\\0456.png',\n",
       " 'F:\\\\新加坡国立大学\\\\FE5225 Machine Learning and FinTech\\\\Group7\\\\crypto_punks\\\\0457.png',\n",
       " 'F:\\\\新加坡国立大学\\\\FE5225 Machine Learning and FinTech\\\\Group7\\\\crypto_punks\\\\0458.png',\n",
       " 'F:\\\\新加坡国立大学\\\\FE5225 Machine Learning and FinTech\\\\Group7\\\\crypto_punks\\\\0459.png',\n",
       " 'F:\\\\新加坡国立大学\\\\FE5225 Machine Learning and FinTech\\\\Group7\\\\crypto_punks\\\\0460.png',\n",
       " 'F:\\\\新加坡国立大学\\\\FE5225 Machine Learning and FinTech\\\\Group7\\\\crypto_punks\\\\0461.png',\n",
       " 'F:\\\\新加坡国立大学\\\\FE5225 Machine Learning and FinTech\\\\Group7\\\\crypto_punks\\\\0462.png',\n",
       " 'F:\\\\新加坡国立大学\\\\FE5225 Machine Learning and FinTech\\\\Group7\\\\crypto_punks\\\\0463.png',\n",
       " 'F:\\\\新加坡国立大学\\\\FE5225 Machine Learning and FinTech\\\\Group7\\\\crypto_punks\\\\0464.png',\n",
       " 'F:\\\\新加坡国立大学\\\\FE5225 Machine Learning and FinTech\\\\Group7\\\\crypto_punks\\\\0465.png',\n",
       " 'F:\\\\新加坡国立大学\\\\FE5225 Machine Learning and FinTech\\\\Group7\\\\crypto_punks\\\\0466.png',\n",
       " 'F:\\\\新加坡国立大学\\\\FE5225 Machine Learning and FinTech\\\\Group7\\\\crypto_punks\\\\0467.png',\n",
       " 'F:\\\\新加坡国立大学\\\\FE5225 Machine Learning and FinTech\\\\Group7\\\\crypto_punks\\\\0468.png',\n",
       " 'F:\\\\新加坡国立大学\\\\FE5225 Machine Learning and FinTech\\\\Group7\\\\crypto_punks\\\\0469.png',\n",
       " 'F:\\\\新加坡国立大学\\\\FE5225 Machine Learning and FinTech\\\\Group7\\\\crypto_punks\\\\0470.png',\n",
       " 'F:\\\\新加坡国立大学\\\\FE5225 Machine Learning and FinTech\\\\Group7\\\\crypto_punks\\\\0471.png',\n",
       " 'F:\\\\新加坡国立大学\\\\FE5225 Machine Learning and FinTech\\\\Group7\\\\crypto_punks\\\\0472.png',\n",
       " 'F:\\\\新加坡国立大学\\\\FE5225 Machine Learning and FinTech\\\\Group7\\\\crypto_punks\\\\0473.png',\n",
       " 'F:\\\\新加坡国立大学\\\\FE5225 Machine Learning and FinTech\\\\Group7\\\\crypto_punks\\\\0474.png',\n",
       " 'F:\\\\新加坡国立大学\\\\FE5225 Machine Learning and FinTech\\\\Group7\\\\crypto_punks\\\\0475.png',\n",
       " 'F:\\\\新加坡国立大学\\\\FE5225 Machine Learning and FinTech\\\\Group7\\\\crypto_punks\\\\0476.png',\n",
       " 'F:\\\\新加坡国立大学\\\\FE5225 Machine Learning and FinTech\\\\Group7\\\\crypto_punks\\\\0477.png',\n",
       " 'F:\\\\新加坡国立大学\\\\FE5225 Machine Learning and FinTech\\\\Group7\\\\crypto_punks\\\\0478.png',\n",
       " 'F:\\\\新加坡国立大学\\\\FE5225 Machine Learning and FinTech\\\\Group7\\\\crypto_punks\\\\0479.png',\n",
       " 'F:\\\\新加坡国立大学\\\\FE5225 Machine Learning and FinTech\\\\Group7\\\\crypto_punks\\\\0480.png',\n",
       " 'F:\\\\新加坡国立大学\\\\FE5225 Machine Learning and FinTech\\\\Group7\\\\crypto_punks\\\\0481.png',\n",
       " 'F:\\\\新加坡国立大学\\\\FE5225 Machine Learning and FinTech\\\\Group7\\\\crypto_punks\\\\0482.png',\n",
       " 'F:\\\\新加坡国立大学\\\\FE5225 Machine Learning and FinTech\\\\Group7\\\\crypto_punks\\\\0483.png',\n",
       " 'F:\\\\新加坡国立大学\\\\FE5225 Machine Learning and FinTech\\\\Group7\\\\crypto_punks\\\\0484.png',\n",
       " 'F:\\\\新加坡国立大学\\\\FE5225 Machine Learning and FinTech\\\\Group7\\\\crypto_punks\\\\0485.png',\n",
       " 'F:\\\\新加坡国立大学\\\\FE5225 Machine Learning and FinTech\\\\Group7\\\\crypto_punks\\\\0486.png',\n",
       " 'F:\\\\新加坡国立大学\\\\FE5225 Machine Learning and FinTech\\\\Group7\\\\crypto_punks\\\\0487.png',\n",
       " 'F:\\\\新加坡国立大学\\\\FE5225 Machine Learning and FinTech\\\\Group7\\\\crypto_punks\\\\0488.png',\n",
       " 'F:\\\\新加坡国立大学\\\\FE5225 Machine Learning and FinTech\\\\Group7\\\\crypto_punks\\\\0489.png',\n",
       " 'F:\\\\新加坡国立大学\\\\FE5225 Machine Learning and FinTech\\\\Group7\\\\crypto_punks\\\\0490.png',\n",
       " 'F:\\\\新加坡国立大学\\\\FE5225 Machine Learning and FinTech\\\\Group7\\\\crypto_punks\\\\0491.png',\n",
       " 'F:\\\\新加坡国立大学\\\\FE5225 Machine Learning and FinTech\\\\Group7\\\\crypto_punks\\\\0492.png',\n",
       " 'F:\\\\新加坡国立大学\\\\FE5225 Machine Learning and FinTech\\\\Group7\\\\crypto_punks\\\\0493.png',\n",
       " 'F:\\\\新加坡国立大学\\\\FE5225 Machine Learning and FinTech\\\\Group7\\\\crypto_punks\\\\0494.png',\n",
       " 'F:\\\\新加坡国立大学\\\\FE5225 Machine Learning and FinTech\\\\Group7\\\\crypto_punks\\\\0495.png',\n",
       " 'F:\\\\新加坡国立大学\\\\FE5225 Machine Learning and FinTech\\\\Group7\\\\crypto_punks\\\\0496.png',\n",
       " 'F:\\\\新加坡国立大学\\\\FE5225 Machine Learning and FinTech\\\\Group7\\\\crypto_punks\\\\0497.png',\n",
       " 'F:\\\\新加坡国立大学\\\\FE5225 Machine Learning and FinTech\\\\Group7\\\\crypto_punks\\\\0498.png',\n",
       " 'F:\\\\新加坡国立大学\\\\FE5225 Machine Learning and FinTech\\\\Group7\\\\crypto_punks\\\\0499.png',\n",
       " 'F:\\\\新加坡国立大学\\\\FE5225 Machine Learning and FinTech\\\\Group7\\\\crypto_punks\\\\0500.png',\n",
       " 'F:\\\\新加坡国立大学\\\\FE5225 Machine Learning and FinTech\\\\Group7\\\\crypto_punks\\\\0501.png',\n",
       " 'F:\\\\新加坡国立大学\\\\FE5225 Machine Learning and FinTech\\\\Group7\\\\crypto_punks\\\\0502.png',\n",
       " 'F:\\\\新加坡国立大学\\\\FE5225 Machine Learning and FinTech\\\\Group7\\\\crypto_punks\\\\0503.png',\n",
       " 'F:\\\\新加坡国立大学\\\\FE5225 Machine Learning and FinTech\\\\Group7\\\\crypto_punks\\\\0504.png',\n",
       " 'F:\\\\新加坡国立大学\\\\FE5225 Machine Learning and FinTech\\\\Group7\\\\crypto_punks\\\\0505.png',\n",
       " 'F:\\\\新加坡国立大学\\\\FE5225 Machine Learning and FinTech\\\\Group7\\\\crypto_punks\\\\0506.png',\n",
       " 'F:\\\\新加坡国立大学\\\\FE5225 Machine Learning and FinTech\\\\Group7\\\\crypto_punks\\\\0507.png',\n",
       " 'F:\\\\新加坡国立大学\\\\FE5225 Machine Learning and FinTech\\\\Group7\\\\crypto_punks\\\\0508.png',\n",
       " 'F:\\\\新加坡国立大学\\\\FE5225 Machine Learning and FinTech\\\\Group7\\\\crypto_punks\\\\0509.png',\n",
       " 'F:\\\\新加坡国立大学\\\\FE5225 Machine Learning and FinTech\\\\Group7\\\\crypto_punks\\\\0510.png',\n",
       " 'F:\\\\新加坡国立大学\\\\FE5225 Machine Learning and FinTech\\\\Group7\\\\crypto_punks\\\\0511.png',\n",
       " 'F:\\\\新加坡国立大学\\\\FE5225 Machine Learning and FinTech\\\\Group7\\\\crypto_punks\\\\0512.png',\n",
       " 'F:\\\\新加坡国立大学\\\\FE5225 Machine Learning and FinTech\\\\Group7\\\\crypto_punks\\\\0513.png',\n",
       " 'F:\\\\新加坡国立大学\\\\FE5225 Machine Learning and FinTech\\\\Group7\\\\crypto_punks\\\\0514.png',\n",
       " 'F:\\\\新加坡国立大学\\\\FE5225 Machine Learning and FinTech\\\\Group7\\\\crypto_punks\\\\0515.png',\n",
       " 'F:\\\\新加坡国立大学\\\\FE5225 Machine Learning and FinTech\\\\Group7\\\\crypto_punks\\\\0516.png',\n",
       " 'F:\\\\新加坡国立大学\\\\FE5225 Machine Learning and FinTech\\\\Group7\\\\crypto_punks\\\\0517.png',\n",
       " 'F:\\\\新加坡国立大学\\\\FE5225 Machine Learning and FinTech\\\\Group7\\\\crypto_punks\\\\0518.png',\n",
       " 'F:\\\\新加坡国立大学\\\\FE5225 Machine Learning and FinTech\\\\Group7\\\\crypto_punks\\\\0519.png',\n",
       " 'F:\\\\新加坡国立大学\\\\FE5225 Machine Learning and FinTech\\\\Group7\\\\crypto_punks\\\\0520.png',\n",
       " 'F:\\\\新加坡国立大学\\\\FE5225 Machine Learning and FinTech\\\\Group7\\\\crypto_punks\\\\0521.png',\n",
       " 'F:\\\\新加坡国立大学\\\\FE5225 Machine Learning and FinTech\\\\Group7\\\\crypto_punks\\\\0522.png',\n",
       " 'F:\\\\新加坡国立大学\\\\FE5225 Machine Learning and FinTech\\\\Group7\\\\crypto_punks\\\\0523.png',\n",
       " 'F:\\\\新加坡国立大学\\\\FE5225 Machine Learning and FinTech\\\\Group7\\\\crypto_punks\\\\0524.png',\n",
       " 'F:\\\\新加坡国立大学\\\\FE5225 Machine Learning and FinTech\\\\Group7\\\\crypto_punks\\\\0525.png',\n",
       " 'F:\\\\新加坡国立大学\\\\FE5225 Machine Learning and FinTech\\\\Group7\\\\crypto_punks\\\\0526.png',\n",
       " 'F:\\\\新加坡国立大学\\\\FE5225 Machine Learning and FinTech\\\\Group7\\\\crypto_punks\\\\0527.png',\n",
       " 'F:\\\\新加坡国立大学\\\\FE5225 Machine Learning and FinTech\\\\Group7\\\\crypto_punks\\\\0528.png',\n",
       " 'F:\\\\新加坡国立大学\\\\FE5225 Machine Learning and FinTech\\\\Group7\\\\crypto_punks\\\\0529.png',\n",
       " 'F:\\\\新加坡国立大学\\\\FE5225 Machine Learning and FinTech\\\\Group7\\\\crypto_punks\\\\0530.png',\n",
       " 'F:\\\\新加坡国立大学\\\\FE5225 Machine Learning and FinTech\\\\Group7\\\\crypto_punks\\\\0531.png',\n",
       " 'F:\\\\新加坡国立大学\\\\FE5225 Machine Learning and FinTech\\\\Group7\\\\crypto_punks\\\\0532.png',\n",
       " 'F:\\\\新加坡国立大学\\\\FE5225 Machine Learning and FinTech\\\\Group7\\\\crypto_punks\\\\0533.png',\n",
       " 'F:\\\\新加坡国立大学\\\\FE5225 Machine Learning and FinTech\\\\Group7\\\\crypto_punks\\\\0534.png',\n",
       " 'F:\\\\新加坡国立大学\\\\FE5225 Machine Learning and FinTech\\\\Group7\\\\crypto_punks\\\\0535.png',\n",
       " 'F:\\\\新加坡国立大学\\\\FE5225 Machine Learning and FinTech\\\\Group7\\\\crypto_punks\\\\0536.png',\n",
       " 'F:\\\\新加坡国立大学\\\\FE5225 Machine Learning and FinTech\\\\Group7\\\\crypto_punks\\\\0537.png',\n",
       " 'F:\\\\新加坡国立大学\\\\FE5225 Machine Learning and FinTech\\\\Group7\\\\crypto_punks\\\\0538.png',\n",
       " 'F:\\\\新加坡国立大学\\\\FE5225 Machine Learning and FinTech\\\\Group7\\\\crypto_punks\\\\0539.png',\n",
       " 'F:\\\\新加坡国立大学\\\\FE5225 Machine Learning and FinTech\\\\Group7\\\\crypto_punks\\\\0540.png',\n",
       " 'F:\\\\新加坡国立大学\\\\FE5225 Machine Learning and FinTech\\\\Group7\\\\crypto_punks\\\\0541.png',\n",
       " 'F:\\\\新加坡国立大学\\\\FE5225 Machine Learning and FinTech\\\\Group7\\\\crypto_punks\\\\0542.png',\n",
       " 'F:\\\\新加坡国立大学\\\\FE5225 Machine Learning and FinTech\\\\Group7\\\\crypto_punks\\\\0543.png',\n",
       " 'F:\\\\新加坡国立大学\\\\FE5225 Machine Learning and FinTech\\\\Group7\\\\crypto_punks\\\\0544.png',\n",
       " 'F:\\\\新加坡国立大学\\\\FE5225 Machine Learning and FinTech\\\\Group7\\\\crypto_punks\\\\0545.png',\n",
       " 'F:\\\\新加坡国立大学\\\\FE5225 Machine Learning and FinTech\\\\Group7\\\\crypto_punks\\\\0546.png',\n",
       " 'F:\\\\新加坡国立大学\\\\FE5225 Machine Learning and FinTech\\\\Group7\\\\crypto_punks\\\\0547.png',\n",
       " 'F:\\\\新加坡国立大学\\\\FE5225 Machine Learning and FinTech\\\\Group7\\\\crypto_punks\\\\0548.png',\n",
       " 'F:\\\\新加坡国立大学\\\\FE5225 Machine Learning and FinTech\\\\Group7\\\\crypto_punks\\\\0549.png',\n",
       " 'F:\\\\新加坡国立大学\\\\FE5225 Machine Learning and FinTech\\\\Group7\\\\crypto_punks\\\\0550.png',\n",
       " 'F:\\\\新加坡国立大学\\\\FE5225 Machine Learning and FinTech\\\\Group7\\\\crypto_punks\\\\0551.png',\n",
       " 'F:\\\\新加坡国立大学\\\\FE5225 Machine Learning and FinTech\\\\Group7\\\\crypto_punks\\\\0552.png',\n",
       " 'F:\\\\新加坡国立大学\\\\FE5225 Machine Learning and FinTech\\\\Group7\\\\crypto_punks\\\\0553.png',\n",
       " 'F:\\\\新加坡国立大学\\\\FE5225 Machine Learning and FinTech\\\\Group7\\\\crypto_punks\\\\0554.png',\n",
       " 'F:\\\\新加坡国立大学\\\\FE5225 Machine Learning and FinTech\\\\Group7\\\\crypto_punks\\\\0555.png',\n",
       " 'F:\\\\新加坡国立大学\\\\FE5225 Machine Learning and FinTech\\\\Group7\\\\crypto_punks\\\\0556.png',\n",
       " 'F:\\\\新加坡国立大学\\\\FE5225 Machine Learning and FinTech\\\\Group7\\\\crypto_punks\\\\0557.png',\n",
       " 'F:\\\\新加坡国立大学\\\\FE5225 Machine Learning and FinTech\\\\Group7\\\\crypto_punks\\\\0558.png',\n",
       " 'F:\\\\新加坡国立大学\\\\FE5225 Machine Learning and FinTech\\\\Group7\\\\crypto_punks\\\\0559.png',\n",
       " 'F:\\\\新加坡国立大学\\\\FE5225 Machine Learning and FinTech\\\\Group7\\\\crypto_punks\\\\0560.png',\n",
       " 'F:\\\\新加坡国立大学\\\\FE5225 Machine Learning and FinTech\\\\Group7\\\\crypto_punks\\\\0561.png',\n",
       " 'F:\\\\新加坡国立大学\\\\FE5225 Machine Learning and FinTech\\\\Group7\\\\crypto_punks\\\\0562.png',\n",
       " 'F:\\\\新加坡国立大学\\\\FE5225 Machine Learning and FinTech\\\\Group7\\\\crypto_punks\\\\0563.png',\n",
       " 'F:\\\\新加坡国立大学\\\\FE5225 Machine Learning and FinTech\\\\Group7\\\\crypto_punks\\\\0564.png',\n",
       " 'F:\\\\新加坡国立大学\\\\FE5225 Machine Learning and FinTech\\\\Group7\\\\crypto_punks\\\\0565.png',\n",
       " 'F:\\\\新加坡国立大学\\\\FE5225 Machine Learning and FinTech\\\\Group7\\\\crypto_punks\\\\0566.png',\n",
       " 'F:\\\\新加坡国立大学\\\\FE5225 Machine Learning and FinTech\\\\Group7\\\\crypto_punks\\\\0567.png',\n",
       " 'F:\\\\新加坡国立大学\\\\FE5225 Machine Learning and FinTech\\\\Group7\\\\crypto_punks\\\\0568.png',\n",
       " 'F:\\\\新加坡国立大学\\\\FE5225 Machine Learning and FinTech\\\\Group7\\\\crypto_punks\\\\0569.png',\n",
       " 'F:\\\\新加坡国立大学\\\\FE5225 Machine Learning and FinTech\\\\Group7\\\\crypto_punks\\\\0570.png',\n",
       " 'F:\\\\新加坡国立大学\\\\FE5225 Machine Learning and FinTech\\\\Group7\\\\crypto_punks\\\\0571.png',\n",
       " 'F:\\\\新加坡国立大学\\\\FE5225 Machine Learning and FinTech\\\\Group7\\\\crypto_punks\\\\0572.png',\n",
       " 'F:\\\\新加坡国立大学\\\\FE5225 Machine Learning and FinTech\\\\Group7\\\\crypto_punks\\\\0573.png',\n",
       " 'F:\\\\新加坡国立大学\\\\FE5225 Machine Learning and FinTech\\\\Group7\\\\crypto_punks\\\\0574.png',\n",
       " 'F:\\\\新加坡国立大学\\\\FE5225 Machine Learning and FinTech\\\\Group7\\\\crypto_punks\\\\0575.png',\n",
       " 'F:\\\\新加坡国立大学\\\\FE5225 Machine Learning and FinTech\\\\Group7\\\\crypto_punks\\\\0576.png',\n",
       " 'F:\\\\新加坡国立大学\\\\FE5225 Machine Learning and FinTech\\\\Group7\\\\crypto_punks\\\\0577.png',\n",
       " 'F:\\\\新加坡国立大学\\\\FE5225 Machine Learning and FinTech\\\\Group7\\\\crypto_punks\\\\0578.png',\n",
       " 'F:\\\\新加坡国立大学\\\\FE5225 Machine Learning and FinTech\\\\Group7\\\\crypto_punks\\\\0579.png',\n",
       " 'F:\\\\新加坡国立大学\\\\FE5225 Machine Learning and FinTech\\\\Group7\\\\crypto_punks\\\\0580.png',\n",
       " 'F:\\\\新加坡国立大学\\\\FE5225 Machine Learning and FinTech\\\\Group7\\\\crypto_punks\\\\0581.png',\n",
       " 'F:\\\\新加坡国立大学\\\\FE5225 Machine Learning and FinTech\\\\Group7\\\\crypto_punks\\\\0582.png',\n",
       " 'F:\\\\新加坡国立大学\\\\FE5225 Machine Learning and FinTech\\\\Group7\\\\crypto_punks\\\\0583.png',\n",
       " 'F:\\\\新加坡国立大学\\\\FE5225 Machine Learning and FinTech\\\\Group7\\\\crypto_punks\\\\0584.png',\n",
       " 'F:\\\\新加坡国立大学\\\\FE5225 Machine Learning and FinTech\\\\Group7\\\\crypto_punks\\\\0585.png',\n",
       " 'F:\\\\新加坡国立大学\\\\FE5225 Machine Learning and FinTech\\\\Group7\\\\crypto_punks\\\\0586.png',\n",
       " 'F:\\\\新加坡国立大学\\\\FE5225 Machine Learning and FinTech\\\\Group7\\\\crypto_punks\\\\0587.png',\n",
       " 'F:\\\\新加坡国立大学\\\\FE5225 Machine Learning and FinTech\\\\Group7\\\\crypto_punks\\\\0588.png',\n",
       " 'F:\\\\新加坡国立大学\\\\FE5225 Machine Learning and FinTech\\\\Group7\\\\crypto_punks\\\\0589.png',\n",
       " 'F:\\\\新加坡国立大学\\\\FE5225 Machine Learning and FinTech\\\\Group7\\\\crypto_punks\\\\0590.png',\n",
       " 'F:\\\\新加坡国立大学\\\\FE5225 Machine Learning and FinTech\\\\Group7\\\\crypto_punks\\\\0591.png',\n",
       " 'F:\\\\新加坡国立大学\\\\FE5225 Machine Learning and FinTech\\\\Group7\\\\crypto_punks\\\\0592.png',\n",
       " 'F:\\\\新加坡国立大学\\\\FE5225 Machine Learning and FinTech\\\\Group7\\\\crypto_punks\\\\0593.png',\n",
       " 'F:\\\\新加坡国立大学\\\\FE5225 Machine Learning and FinTech\\\\Group7\\\\crypto_punks\\\\0594.png',\n",
       " 'F:\\\\新加坡国立大学\\\\FE5225 Machine Learning and FinTech\\\\Group7\\\\crypto_punks\\\\0595.png',\n",
       " 'F:\\\\新加坡国立大学\\\\FE5225 Machine Learning and FinTech\\\\Group7\\\\crypto_punks\\\\0596.png',\n",
       " 'F:\\\\新加坡国立大学\\\\FE5225 Machine Learning and FinTech\\\\Group7\\\\crypto_punks\\\\0597.png',\n",
       " 'F:\\\\新加坡国立大学\\\\FE5225 Machine Learning and FinTech\\\\Group7\\\\crypto_punks\\\\0598.png',\n",
       " 'F:\\\\新加坡国立大学\\\\FE5225 Machine Learning and FinTech\\\\Group7\\\\crypto_punks\\\\0599.png',\n",
       " 'F:\\\\新加坡国立大学\\\\FE5225 Machine Learning and FinTech\\\\Group7\\\\crypto_punks\\\\0600.png',\n",
       " 'F:\\\\新加坡国立大学\\\\FE5225 Machine Learning and FinTech\\\\Group7\\\\crypto_punks\\\\0601.png',\n",
       " 'F:\\\\新加坡国立大学\\\\FE5225 Machine Learning and FinTech\\\\Group7\\\\crypto_punks\\\\0602.png',\n",
       " 'F:\\\\新加坡国立大学\\\\FE5225 Machine Learning and FinTech\\\\Group7\\\\crypto_punks\\\\0603.png',\n",
       " 'F:\\\\新加坡国立大学\\\\FE5225 Machine Learning and FinTech\\\\Group7\\\\crypto_punks\\\\0604.png',\n",
       " 'F:\\\\新加坡国立大学\\\\FE5225 Machine Learning and FinTech\\\\Group7\\\\crypto_punks\\\\0605.png',\n",
       " 'F:\\\\新加坡国立大学\\\\FE5225 Machine Learning and FinTech\\\\Group7\\\\crypto_punks\\\\0606.png',\n",
       " 'F:\\\\新加坡国立大学\\\\FE5225 Machine Learning and FinTech\\\\Group7\\\\crypto_punks\\\\0607.png',\n",
       " 'F:\\\\新加坡国立大学\\\\FE5225 Machine Learning and FinTech\\\\Group7\\\\crypto_punks\\\\0608.png',\n",
       " 'F:\\\\新加坡国立大学\\\\FE5225 Machine Learning and FinTech\\\\Group7\\\\crypto_punks\\\\0609.png',\n",
       " 'F:\\\\新加坡国立大学\\\\FE5225 Machine Learning and FinTech\\\\Group7\\\\crypto_punks\\\\0610.png',\n",
       " 'F:\\\\新加坡国立大学\\\\FE5225 Machine Learning and FinTech\\\\Group7\\\\crypto_punks\\\\0611.png',\n",
       " 'F:\\\\新加坡国立大学\\\\FE5225 Machine Learning and FinTech\\\\Group7\\\\crypto_punks\\\\0612.png',\n",
       " 'F:\\\\新加坡国立大学\\\\FE5225 Machine Learning and FinTech\\\\Group7\\\\crypto_punks\\\\0613.png',\n",
       " 'F:\\\\新加坡国立大学\\\\FE5225 Machine Learning and FinTech\\\\Group7\\\\crypto_punks\\\\0614.png',\n",
       " 'F:\\\\新加坡国立大学\\\\FE5225 Machine Learning and FinTech\\\\Group7\\\\crypto_punks\\\\0615.png',\n",
       " 'F:\\\\新加坡国立大学\\\\FE5225 Machine Learning and FinTech\\\\Group7\\\\crypto_punks\\\\0616.png',\n",
       " 'F:\\\\新加坡国立大学\\\\FE5225 Machine Learning and FinTech\\\\Group7\\\\crypto_punks\\\\0617.png',\n",
       " 'F:\\\\新加坡国立大学\\\\FE5225 Machine Learning and FinTech\\\\Group7\\\\crypto_punks\\\\0618.png',\n",
       " 'F:\\\\新加坡国立大学\\\\FE5225 Machine Learning and FinTech\\\\Group7\\\\crypto_punks\\\\0619.png',\n",
       " 'F:\\\\新加坡国立大学\\\\FE5225 Machine Learning and FinTech\\\\Group7\\\\crypto_punks\\\\0620.png',\n",
       " 'F:\\\\新加坡国立大学\\\\FE5225 Machine Learning and FinTech\\\\Group7\\\\crypto_punks\\\\0621.png',\n",
       " 'F:\\\\新加坡国立大学\\\\FE5225 Machine Learning and FinTech\\\\Group7\\\\crypto_punks\\\\0622.png',\n",
       " 'F:\\\\新加坡国立大学\\\\FE5225 Machine Learning and FinTech\\\\Group7\\\\crypto_punks\\\\0623.png',\n",
       " 'F:\\\\新加坡国立大学\\\\FE5225 Machine Learning and FinTech\\\\Group7\\\\crypto_punks\\\\0624.png',\n",
       " 'F:\\\\新加坡国立大学\\\\FE5225 Machine Learning and FinTech\\\\Group7\\\\crypto_punks\\\\0625.png',\n",
       " 'F:\\\\新加坡国立大学\\\\FE5225 Machine Learning and FinTech\\\\Group7\\\\crypto_punks\\\\0626.png',\n",
       " 'F:\\\\新加坡国立大学\\\\FE5225 Machine Learning and FinTech\\\\Group7\\\\crypto_punks\\\\0627.png',\n",
       " 'F:\\\\新加坡国立大学\\\\FE5225 Machine Learning and FinTech\\\\Group7\\\\crypto_punks\\\\0628.png',\n",
       " 'F:\\\\新加坡国立大学\\\\FE5225 Machine Learning and FinTech\\\\Group7\\\\crypto_punks\\\\0629.png',\n",
       " 'F:\\\\新加坡国立大学\\\\FE5225 Machine Learning and FinTech\\\\Group7\\\\crypto_punks\\\\0630.png',\n",
       " 'F:\\\\新加坡国立大学\\\\FE5225 Machine Learning and FinTech\\\\Group7\\\\crypto_punks\\\\0631.png',\n",
       " 'F:\\\\新加坡国立大学\\\\FE5225 Machine Learning and FinTech\\\\Group7\\\\crypto_punks\\\\0632.png',\n",
       " 'F:\\\\新加坡国立大学\\\\FE5225 Machine Learning and FinTech\\\\Group7\\\\crypto_punks\\\\0633.png',\n",
       " 'F:\\\\新加坡国立大学\\\\FE5225 Machine Learning and FinTech\\\\Group7\\\\crypto_punks\\\\0634.png',\n",
       " 'F:\\\\新加坡国立大学\\\\FE5225 Machine Learning and FinTech\\\\Group7\\\\crypto_punks\\\\0635.png',\n",
       " 'F:\\\\新加坡国立大学\\\\FE5225 Machine Learning and FinTech\\\\Group7\\\\crypto_punks\\\\0636.png',\n",
       " 'F:\\\\新加坡国立大学\\\\FE5225 Machine Learning and FinTech\\\\Group7\\\\crypto_punks\\\\0637.png',\n",
       " 'F:\\\\新加坡国立大学\\\\FE5225 Machine Learning and FinTech\\\\Group7\\\\crypto_punks\\\\0638.png',\n",
       " 'F:\\\\新加坡国立大学\\\\FE5225 Machine Learning and FinTech\\\\Group7\\\\crypto_punks\\\\0639.png',\n",
       " 'F:\\\\新加坡国立大学\\\\FE5225 Machine Learning and FinTech\\\\Group7\\\\crypto_punks\\\\0640.png',\n",
       " 'F:\\\\新加坡国立大学\\\\FE5225 Machine Learning and FinTech\\\\Group7\\\\crypto_punks\\\\0641.png',\n",
       " 'F:\\\\新加坡国立大学\\\\FE5225 Machine Learning and FinTech\\\\Group7\\\\crypto_punks\\\\0642.png',\n",
       " 'F:\\\\新加坡国立大学\\\\FE5225 Machine Learning and FinTech\\\\Group7\\\\crypto_punks\\\\0643.png',\n",
       " 'F:\\\\新加坡国立大学\\\\FE5225 Machine Learning and FinTech\\\\Group7\\\\crypto_punks\\\\0644.png',\n",
       " 'F:\\\\新加坡国立大学\\\\FE5225 Machine Learning and FinTech\\\\Group7\\\\crypto_punks\\\\0645.png',\n",
       " 'F:\\\\新加坡国立大学\\\\FE5225 Machine Learning and FinTech\\\\Group7\\\\crypto_punks\\\\0646.png',\n",
       " 'F:\\\\新加坡国立大学\\\\FE5225 Machine Learning and FinTech\\\\Group7\\\\crypto_punks\\\\0647.png',\n",
       " 'F:\\\\新加坡国立大学\\\\FE5225 Machine Learning and FinTech\\\\Group7\\\\crypto_punks\\\\0648.png',\n",
       " 'F:\\\\新加坡国立大学\\\\FE5225 Machine Learning and FinTech\\\\Group7\\\\crypto_punks\\\\0649.png',\n",
       " 'F:\\\\新加坡国立大学\\\\FE5225 Machine Learning and FinTech\\\\Group7\\\\crypto_punks\\\\0650.png',\n",
       " 'F:\\\\新加坡国立大学\\\\FE5225 Machine Learning and FinTech\\\\Group7\\\\crypto_punks\\\\0651.png',\n",
       " 'F:\\\\新加坡国立大学\\\\FE5225 Machine Learning and FinTech\\\\Group7\\\\crypto_punks\\\\0652.png',\n",
       " 'F:\\\\新加坡国立大学\\\\FE5225 Machine Learning and FinTech\\\\Group7\\\\crypto_punks\\\\0653.png',\n",
       " 'F:\\\\新加坡国立大学\\\\FE5225 Machine Learning and FinTech\\\\Group7\\\\crypto_punks\\\\0654.png',\n",
       " 'F:\\\\新加坡国立大学\\\\FE5225 Machine Learning and FinTech\\\\Group7\\\\crypto_punks\\\\0655.png',\n",
       " 'F:\\\\新加坡国立大学\\\\FE5225 Machine Learning and FinTech\\\\Group7\\\\crypto_punks\\\\0656.png',\n",
       " 'F:\\\\新加坡国立大学\\\\FE5225 Machine Learning and FinTech\\\\Group7\\\\crypto_punks\\\\0657.png',\n",
       " 'F:\\\\新加坡国立大学\\\\FE5225 Machine Learning and FinTech\\\\Group7\\\\crypto_punks\\\\0658.png',\n",
       " 'F:\\\\新加坡国立大学\\\\FE5225 Machine Learning and FinTech\\\\Group7\\\\crypto_punks\\\\0659.png',\n",
       " 'F:\\\\新加坡国立大学\\\\FE5225 Machine Learning and FinTech\\\\Group7\\\\crypto_punks\\\\0660.png',\n",
       " 'F:\\\\新加坡国立大学\\\\FE5225 Machine Learning and FinTech\\\\Group7\\\\crypto_punks\\\\0661.png',\n",
       " 'F:\\\\新加坡国立大学\\\\FE5225 Machine Learning and FinTech\\\\Group7\\\\crypto_punks\\\\0662.png',\n",
       " 'F:\\\\新加坡国立大学\\\\FE5225 Machine Learning and FinTech\\\\Group7\\\\crypto_punks\\\\0663.png',\n",
       " 'F:\\\\新加坡国立大学\\\\FE5225 Machine Learning and FinTech\\\\Group7\\\\crypto_punks\\\\0664.png',\n",
       " 'F:\\\\新加坡国立大学\\\\FE5225 Machine Learning and FinTech\\\\Group7\\\\crypto_punks\\\\0665.png',\n",
       " 'F:\\\\新加坡国立大学\\\\FE5225 Machine Learning and FinTech\\\\Group7\\\\crypto_punks\\\\0666.png',\n",
       " 'F:\\\\新加坡国立大学\\\\FE5225 Machine Learning and FinTech\\\\Group7\\\\crypto_punks\\\\0667.png',\n",
       " 'F:\\\\新加坡国立大学\\\\FE5225 Machine Learning and FinTech\\\\Group7\\\\crypto_punks\\\\0668.png',\n",
       " 'F:\\\\新加坡国立大学\\\\FE5225 Machine Learning and FinTech\\\\Group7\\\\crypto_punks\\\\0669.png',\n",
       " 'F:\\\\新加坡国立大学\\\\FE5225 Machine Learning and FinTech\\\\Group7\\\\crypto_punks\\\\0670.png',\n",
       " 'F:\\\\新加坡国立大学\\\\FE5225 Machine Learning and FinTech\\\\Group7\\\\crypto_punks\\\\0671.png',\n",
       " 'F:\\\\新加坡国立大学\\\\FE5225 Machine Learning and FinTech\\\\Group7\\\\crypto_punks\\\\0672.png',\n",
       " 'F:\\\\新加坡国立大学\\\\FE5225 Machine Learning and FinTech\\\\Group7\\\\crypto_punks\\\\0673.png',\n",
       " 'F:\\\\新加坡国立大学\\\\FE5225 Machine Learning and FinTech\\\\Group7\\\\crypto_punks\\\\0674.png',\n",
       " 'F:\\\\新加坡国立大学\\\\FE5225 Machine Learning and FinTech\\\\Group7\\\\crypto_punks\\\\0675.png',\n",
       " 'F:\\\\新加坡国立大学\\\\FE5225 Machine Learning and FinTech\\\\Group7\\\\crypto_punks\\\\0676.png',\n",
       " 'F:\\\\新加坡国立大学\\\\FE5225 Machine Learning and FinTech\\\\Group7\\\\crypto_punks\\\\0677.png',\n",
       " 'F:\\\\新加坡国立大学\\\\FE5225 Machine Learning and FinTech\\\\Group7\\\\crypto_punks\\\\0678.png',\n",
       " 'F:\\\\新加坡国立大学\\\\FE5225 Machine Learning and FinTech\\\\Group7\\\\crypto_punks\\\\0679.png',\n",
       " 'F:\\\\新加坡国立大学\\\\FE5225 Machine Learning and FinTech\\\\Group7\\\\crypto_punks\\\\0680.png',\n",
       " 'F:\\\\新加坡国立大学\\\\FE5225 Machine Learning and FinTech\\\\Group7\\\\crypto_punks\\\\0681.png',\n",
       " 'F:\\\\新加坡国立大学\\\\FE5225 Machine Learning and FinTech\\\\Group7\\\\crypto_punks\\\\0682.png',\n",
       " 'F:\\\\新加坡国立大学\\\\FE5225 Machine Learning and FinTech\\\\Group7\\\\crypto_punks\\\\0683.png',\n",
       " 'F:\\\\新加坡国立大学\\\\FE5225 Machine Learning and FinTech\\\\Group7\\\\crypto_punks\\\\0684.png',\n",
       " 'F:\\\\新加坡国立大学\\\\FE5225 Machine Learning and FinTech\\\\Group7\\\\crypto_punks\\\\0685.png',\n",
       " 'F:\\\\新加坡国立大学\\\\FE5225 Machine Learning and FinTech\\\\Group7\\\\crypto_punks\\\\0686.png',\n",
       " 'F:\\\\新加坡国立大学\\\\FE5225 Machine Learning and FinTech\\\\Group7\\\\crypto_punks\\\\0687.png',\n",
       " 'F:\\\\新加坡国立大学\\\\FE5225 Machine Learning and FinTech\\\\Group7\\\\crypto_punks\\\\0688.png',\n",
       " 'F:\\\\新加坡国立大学\\\\FE5225 Machine Learning and FinTech\\\\Group7\\\\crypto_punks\\\\0689.png',\n",
       " 'F:\\\\新加坡国立大学\\\\FE5225 Machine Learning and FinTech\\\\Group7\\\\crypto_punks\\\\0690.png',\n",
       " 'F:\\\\新加坡国立大学\\\\FE5225 Machine Learning and FinTech\\\\Group7\\\\crypto_punks\\\\0691.png',\n",
       " 'F:\\\\新加坡国立大学\\\\FE5225 Machine Learning and FinTech\\\\Group7\\\\crypto_punks\\\\0692.png',\n",
       " 'F:\\\\新加坡国立大学\\\\FE5225 Machine Learning and FinTech\\\\Group7\\\\crypto_punks\\\\0693.png',\n",
       " 'F:\\\\新加坡国立大学\\\\FE5225 Machine Learning and FinTech\\\\Group7\\\\crypto_punks\\\\0694.png',\n",
       " 'F:\\\\新加坡国立大学\\\\FE5225 Machine Learning and FinTech\\\\Group7\\\\crypto_punks\\\\0695.png',\n",
       " 'F:\\\\新加坡国立大学\\\\FE5225 Machine Learning and FinTech\\\\Group7\\\\crypto_punks\\\\0696.png',\n",
       " 'F:\\\\新加坡国立大学\\\\FE5225 Machine Learning and FinTech\\\\Group7\\\\crypto_punks\\\\0697.png',\n",
       " 'F:\\\\新加坡国立大学\\\\FE5225 Machine Learning and FinTech\\\\Group7\\\\crypto_punks\\\\0698.png',\n",
       " 'F:\\\\新加坡国立大学\\\\FE5225 Machine Learning and FinTech\\\\Group7\\\\crypto_punks\\\\0699.png',\n",
       " 'F:\\\\新加坡国立大学\\\\FE5225 Machine Learning and FinTech\\\\Group7\\\\crypto_punks\\\\0700.png',\n",
       " 'F:\\\\新加坡国立大学\\\\FE5225 Machine Learning and FinTech\\\\Group7\\\\crypto_punks\\\\0701.png',\n",
       " 'F:\\\\新加坡国立大学\\\\FE5225 Machine Learning and FinTech\\\\Group7\\\\crypto_punks\\\\0702.png',\n",
       " 'F:\\\\新加坡国立大学\\\\FE5225 Machine Learning and FinTech\\\\Group7\\\\crypto_punks\\\\0703.png',\n",
       " 'F:\\\\新加坡国立大学\\\\FE5225 Machine Learning and FinTech\\\\Group7\\\\crypto_punks\\\\0704.png',\n",
       " 'F:\\\\新加坡国立大学\\\\FE5225 Machine Learning and FinTech\\\\Group7\\\\crypto_punks\\\\0705.png',\n",
       " 'F:\\\\新加坡国立大学\\\\FE5225 Machine Learning and FinTech\\\\Group7\\\\crypto_punks\\\\0706.png',\n",
       " 'F:\\\\新加坡国立大学\\\\FE5225 Machine Learning and FinTech\\\\Group7\\\\crypto_punks\\\\0707.png',\n",
       " 'F:\\\\新加坡国立大学\\\\FE5225 Machine Learning and FinTech\\\\Group7\\\\crypto_punks\\\\0708.png',\n",
       " 'F:\\\\新加坡国立大学\\\\FE5225 Machine Learning and FinTech\\\\Group7\\\\crypto_punks\\\\0709.png',\n",
       " 'F:\\\\新加坡国立大学\\\\FE5225 Machine Learning and FinTech\\\\Group7\\\\crypto_punks\\\\0710.png',\n",
       " 'F:\\\\新加坡国立大学\\\\FE5225 Machine Learning and FinTech\\\\Group7\\\\crypto_punks\\\\0711.png',\n",
       " 'F:\\\\新加坡国立大学\\\\FE5225 Machine Learning and FinTech\\\\Group7\\\\crypto_punks\\\\0712.png',\n",
       " 'F:\\\\新加坡国立大学\\\\FE5225 Machine Learning and FinTech\\\\Group7\\\\crypto_punks\\\\0713.png',\n",
       " 'F:\\\\新加坡国立大学\\\\FE5225 Machine Learning and FinTech\\\\Group7\\\\crypto_punks\\\\0714.png',\n",
       " 'F:\\\\新加坡国立大学\\\\FE5225 Machine Learning and FinTech\\\\Group7\\\\crypto_punks\\\\0715.png',\n",
       " 'F:\\\\新加坡国立大学\\\\FE5225 Machine Learning and FinTech\\\\Group7\\\\crypto_punks\\\\0716.png',\n",
       " 'F:\\\\新加坡国立大学\\\\FE5225 Machine Learning and FinTech\\\\Group7\\\\crypto_punks\\\\0717.png',\n",
       " 'F:\\\\新加坡国立大学\\\\FE5225 Machine Learning and FinTech\\\\Group7\\\\crypto_punks\\\\0718.png',\n",
       " 'F:\\\\新加坡国立大学\\\\FE5225 Machine Learning and FinTech\\\\Group7\\\\crypto_punks\\\\0719.png',\n",
       " 'F:\\\\新加坡国立大学\\\\FE5225 Machine Learning and FinTech\\\\Group7\\\\crypto_punks\\\\0720.png',\n",
       " 'F:\\\\新加坡国立大学\\\\FE5225 Machine Learning and FinTech\\\\Group7\\\\crypto_punks\\\\0721.png',\n",
       " 'F:\\\\新加坡国立大学\\\\FE5225 Machine Learning and FinTech\\\\Group7\\\\crypto_punks\\\\0722.png',\n",
       " 'F:\\\\新加坡国立大学\\\\FE5225 Machine Learning and FinTech\\\\Group7\\\\crypto_punks\\\\0723.png',\n",
       " 'F:\\\\新加坡国立大学\\\\FE5225 Machine Learning and FinTech\\\\Group7\\\\crypto_punks\\\\0724.png',\n",
       " 'F:\\\\新加坡国立大学\\\\FE5225 Machine Learning and FinTech\\\\Group7\\\\crypto_punks\\\\0725.png',\n",
       " 'F:\\\\新加坡国立大学\\\\FE5225 Machine Learning and FinTech\\\\Group7\\\\crypto_punks\\\\0726.png',\n",
       " 'F:\\\\新加坡国立大学\\\\FE5225 Machine Learning and FinTech\\\\Group7\\\\crypto_punks\\\\0727.png',\n",
       " 'F:\\\\新加坡国立大学\\\\FE5225 Machine Learning and FinTech\\\\Group7\\\\crypto_punks\\\\0728.png',\n",
       " 'F:\\\\新加坡国立大学\\\\FE5225 Machine Learning and FinTech\\\\Group7\\\\crypto_punks\\\\0729.png',\n",
       " 'F:\\\\新加坡国立大学\\\\FE5225 Machine Learning and FinTech\\\\Group7\\\\crypto_punks\\\\0730.png',\n",
       " 'F:\\\\新加坡国立大学\\\\FE5225 Machine Learning and FinTech\\\\Group7\\\\crypto_punks\\\\0731.png',\n",
       " 'F:\\\\新加坡国立大学\\\\FE5225 Machine Learning and FinTech\\\\Group7\\\\crypto_punks\\\\0732.png',\n",
       " 'F:\\\\新加坡国立大学\\\\FE5225 Machine Learning and FinTech\\\\Group7\\\\crypto_punks\\\\0733.png',\n",
       " 'F:\\\\新加坡国立大学\\\\FE5225 Machine Learning and FinTech\\\\Group7\\\\crypto_punks\\\\0734.png',\n",
       " 'F:\\\\新加坡国立大学\\\\FE5225 Machine Learning and FinTech\\\\Group7\\\\crypto_punks\\\\0735.png',\n",
       " 'F:\\\\新加坡国立大学\\\\FE5225 Machine Learning and FinTech\\\\Group7\\\\crypto_punks\\\\0736.png',\n",
       " 'F:\\\\新加坡国立大学\\\\FE5225 Machine Learning and FinTech\\\\Group7\\\\crypto_punks\\\\0737.png',\n",
       " 'F:\\\\新加坡国立大学\\\\FE5225 Machine Learning and FinTech\\\\Group7\\\\crypto_punks\\\\0738.png',\n",
       " 'F:\\\\新加坡国立大学\\\\FE5225 Machine Learning and FinTech\\\\Group7\\\\crypto_punks\\\\0739.png',\n",
       " 'F:\\\\新加坡国立大学\\\\FE5225 Machine Learning and FinTech\\\\Group7\\\\crypto_punks\\\\0740.png',\n",
       " 'F:\\\\新加坡国立大学\\\\FE5225 Machine Learning and FinTech\\\\Group7\\\\crypto_punks\\\\0741.png',\n",
       " 'F:\\\\新加坡国立大学\\\\FE5225 Machine Learning and FinTech\\\\Group7\\\\crypto_punks\\\\0742.png',\n",
       " 'F:\\\\新加坡国立大学\\\\FE5225 Machine Learning and FinTech\\\\Group7\\\\crypto_punks\\\\0743.png',\n",
       " 'F:\\\\新加坡国立大学\\\\FE5225 Machine Learning and FinTech\\\\Group7\\\\crypto_punks\\\\0744.png',\n",
       " 'F:\\\\新加坡国立大学\\\\FE5225 Machine Learning and FinTech\\\\Group7\\\\crypto_punks\\\\0745.png',\n",
       " 'F:\\\\新加坡国立大学\\\\FE5225 Machine Learning and FinTech\\\\Group7\\\\crypto_punks\\\\0746.png',\n",
       " 'F:\\\\新加坡国立大学\\\\FE5225 Machine Learning and FinTech\\\\Group7\\\\crypto_punks\\\\0747.png',\n",
       " 'F:\\\\新加坡国立大学\\\\FE5225 Machine Learning and FinTech\\\\Group7\\\\crypto_punks\\\\0748.png',\n",
       " 'F:\\\\新加坡国立大学\\\\FE5225 Machine Learning and FinTech\\\\Group7\\\\crypto_punks\\\\0749.png',\n",
       " 'F:\\\\新加坡国立大学\\\\FE5225 Machine Learning and FinTech\\\\Group7\\\\crypto_punks\\\\0750.png',\n",
       " 'F:\\\\新加坡国立大学\\\\FE5225 Machine Learning and FinTech\\\\Group7\\\\crypto_punks\\\\0751.png',\n",
       " 'F:\\\\新加坡国立大学\\\\FE5225 Machine Learning and FinTech\\\\Group7\\\\crypto_punks\\\\0752.png',\n",
       " 'F:\\\\新加坡国立大学\\\\FE5225 Machine Learning and FinTech\\\\Group7\\\\crypto_punks\\\\0753.png',\n",
       " 'F:\\\\新加坡国立大学\\\\FE5225 Machine Learning and FinTech\\\\Group7\\\\crypto_punks\\\\0754.png',\n",
       " 'F:\\\\新加坡国立大学\\\\FE5225 Machine Learning and FinTech\\\\Group7\\\\crypto_punks\\\\0755.png',\n",
       " 'F:\\\\新加坡国立大学\\\\FE5225 Machine Learning and FinTech\\\\Group7\\\\crypto_punks\\\\0756.png',\n",
       " 'F:\\\\新加坡国立大学\\\\FE5225 Machine Learning and FinTech\\\\Group7\\\\crypto_punks\\\\0757.png',\n",
       " 'F:\\\\新加坡国立大学\\\\FE5225 Machine Learning and FinTech\\\\Group7\\\\crypto_punks\\\\0758.png',\n",
       " 'F:\\\\新加坡国立大学\\\\FE5225 Machine Learning and FinTech\\\\Group7\\\\crypto_punks\\\\0759.png',\n",
       " 'F:\\\\新加坡国立大学\\\\FE5225 Machine Learning and FinTech\\\\Group7\\\\crypto_punks\\\\0760.png',\n",
       " 'F:\\\\新加坡国立大学\\\\FE5225 Machine Learning and FinTech\\\\Group7\\\\crypto_punks\\\\0761.png',\n",
       " 'F:\\\\新加坡国立大学\\\\FE5225 Machine Learning and FinTech\\\\Group7\\\\crypto_punks\\\\0762.png',\n",
       " 'F:\\\\新加坡国立大学\\\\FE5225 Machine Learning and FinTech\\\\Group7\\\\crypto_punks\\\\0763.png',\n",
       " 'F:\\\\新加坡国立大学\\\\FE5225 Machine Learning and FinTech\\\\Group7\\\\crypto_punks\\\\0764.png',\n",
       " 'F:\\\\新加坡国立大学\\\\FE5225 Machine Learning and FinTech\\\\Group7\\\\crypto_punks\\\\0765.png',\n",
       " 'F:\\\\新加坡国立大学\\\\FE5225 Machine Learning and FinTech\\\\Group7\\\\crypto_punks\\\\0766.png',\n",
       " 'F:\\\\新加坡国立大学\\\\FE5225 Machine Learning and FinTech\\\\Group7\\\\crypto_punks\\\\0767.png',\n",
       " 'F:\\\\新加坡国立大学\\\\FE5225 Machine Learning and FinTech\\\\Group7\\\\crypto_punks\\\\0768.png',\n",
       " 'F:\\\\新加坡国立大学\\\\FE5225 Machine Learning and FinTech\\\\Group7\\\\crypto_punks\\\\0769.png',\n",
       " 'F:\\\\新加坡国立大学\\\\FE5225 Machine Learning and FinTech\\\\Group7\\\\crypto_punks\\\\0770.png',\n",
       " 'F:\\\\新加坡国立大学\\\\FE5225 Machine Learning and FinTech\\\\Group7\\\\crypto_punks\\\\0771.png',\n",
       " 'F:\\\\新加坡国立大学\\\\FE5225 Machine Learning and FinTech\\\\Group7\\\\crypto_punks\\\\0772.png',\n",
       " 'F:\\\\新加坡国立大学\\\\FE5225 Machine Learning and FinTech\\\\Group7\\\\crypto_punks\\\\0773.png',\n",
       " 'F:\\\\新加坡国立大学\\\\FE5225 Machine Learning and FinTech\\\\Group7\\\\crypto_punks\\\\0774.png',\n",
       " 'F:\\\\新加坡国立大学\\\\FE5225 Machine Learning and FinTech\\\\Group7\\\\crypto_punks\\\\0775.png',\n",
       " 'F:\\\\新加坡国立大学\\\\FE5225 Machine Learning and FinTech\\\\Group7\\\\crypto_punks\\\\0776.png',\n",
       " 'F:\\\\新加坡国立大学\\\\FE5225 Machine Learning and FinTech\\\\Group7\\\\crypto_punks\\\\0777.png',\n",
       " 'F:\\\\新加坡国立大学\\\\FE5225 Machine Learning and FinTech\\\\Group7\\\\crypto_punks\\\\0778.png',\n",
       " 'F:\\\\新加坡国立大学\\\\FE5225 Machine Learning and FinTech\\\\Group7\\\\crypto_punks\\\\0779.png',\n",
       " 'F:\\\\新加坡国立大学\\\\FE5225 Machine Learning and FinTech\\\\Group7\\\\crypto_punks\\\\0780.png',\n",
       " 'F:\\\\新加坡国立大学\\\\FE5225 Machine Learning and FinTech\\\\Group7\\\\crypto_punks\\\\0781.png',\n",
       " 'F:\\\\新加坡国立大学\\\\FE5225 Machine Learning and FinTech\\\\Group7\\\\crypto_punks\\\\0782.png',\n",
       " 'F:\\\\新加坡国立大学\\\\FE5225 Machine Learning and FinTech\\\\Group7\\\\crypto_punks\\\\0783.png',\n",
       " 'F:\\\\新加坡国立大学\\\\FE5225 Machine Learning and FinTech\\\\Group7\\\\crypto_punks\\\\0784.png',\n",
       " 'F:\\\\新加坡国立大学\\\\FE5225 Machine Learning and FinTech\\\\Group7\\\\crypto_punks\\\\0785.png',\n",
       " 'F:\\\\新加坡国立大学\\\\FE5225 Machine Learning and FinTech\\\\Group7\\\\crypto_punks\\\\0786.png',\n",
       " 'F:\\\\新加坡国立大学\\\\FE5225 Machine Learning and FinTech\\\\Group7\\\\crypto_punks\\\\0787.png',\n",
       " 'F:\\\\新加坡国立大学\\\\FE5225 Machine Learning and FinTech\\\\Group7\\\\crypto_punks\\\\0788.png',\n",
       " 'F:\\\\新加坡国立大学\\\\FE5225 Machine Learning and FinTech\\\\Group7\\\\crypto_punks\\\\0789.png',\n",
       " 'F:\\\\新加坡国立大学\\\\FE5225 Machine Learning and FinTech\\\\Group7\\\\crypto_punks\\\\0790.png',\n",
       " 'F:\\\\新加坡国立大学\\\\FE5225 Machine Learning and FinTech\\\\Group7\\\\crypto_punks\\\\0791.png',\n",
       " 'F:\\\\新加坡国立大学\\\\FE5225 Machine Learning and FinTech\\\\Group7\\\\crypto_punks\\\\0792.png',\n",
       " 'F:\\\\新加坡国立大学\\\\FE5225 Machine Learning and FinTech\\\\Group7\\\\crypto_punks\\\\0793.png',\n",
       " 'F:\\\\新加坡国立大学\\\\FE5225 Machine Learning and FinTech\\\\Group7\\\\crypto_punks\\\\0794.png',\n",
       " 'F:\\\\新加坡国立大学\\\\FE5225 Machine Learning and FinTech\\\\Group7\\\\crypto_punks\\\\0795.png',\n",
       " 'F:\\\\新加坡国立大学\\\\FE5225 Machine Learning and FinTech\\\\Group7\\\\crypto_punks\\\\0796.png',\n",
       " 'F:\\\\新加坡国立大学\\\\FE5225 Machine Learning and FinTech\\\\Group7\\\\crypto_punks\\\\0797.png',\n",
       " 'F:\\\\新加坡国立大学\\\\FE5225 Machine Learning and FinTech\\\\Group7\\\\crypto_punks\\\\0798.png',\n",
       " 'F:\\\\新加坡国立大学\\\\FE5225 Machine Learning and FinTech\\\\Group7\\\\crypto_punks\\\\0799.png',\n",
       " 'F:\\\\新加坡国立大学\\\\FE5225 Machine Learning and FinTech\\\\Group7\\\\crypto_punks\\\\0800.png',\n",
       " 'F:\\\\新加坡国立大学\\\\FE5225 Machine Learning and FinTech\\\\Group7\\\\crypto_punks\\\\0801.png',\n",
       " 'F:\\\\新加坡国立大学\\\\FE5225 Machine Learning and FinTech\\\\Group7\\\\crypto_punks\\\\0802.png',\n",
       " 'F:\\\\新加坡国立大学\\\\FE5225 Machine Learning and FinTech\\\\Group7\\\\crypto_punks\\\\0803.png',\n",
       " 'F:\\\\新加坡国立大学\\\\FE5225 Machine Learning and FinTech\\\\Group7\\\\crypto_punks\\\\0804.png',\n",
       " 'F:\\\\新加坡国立大学\\\\FE5225 Machine Learning and FinTech\\\\Group7\\\\crypto_punks\\\\0805.png',\n",
       " 'F:\\\\新加坡国立大学\\\\FE5225 Machine Learning and FinTech\\\\Group7\\\\crypto_punks\\\\0806.png',\n",
       " 'F:\\\\新加坡国立大学\\\\FE5225 Machine Learning and FinTech\\\\Group7\\\\crypto_punks\\\\0807.png',\n",
       " 'F:\\\\新加坡国立大学\\\\FE5225 Machine Learning and FinTech\\\\Group7\\\\crypto_punks\\\\0808.png',\n",
       " 'F:\\\\新加坡国立大学\\\\FE5225 Machine Learning and FinTech\\\\Group7\\\\crypto_punks\\\\0809.png',\n",
       " 'F:\\\\新加坡国立大学\\\\FE5225 Machine Learning and FinTech\\\\Group7\\\\crypto_punks\\\\0810.png',\n",
       " 'F:\\\\新加坡国立大学\\\\FE5225 Machine Learning and FinTech\\\\Group7\\\\crypto_punks\\\\0811.png',\n",
       " 'F:\\\\新加坡国立大学\\\\FE5225 Machine Learning and FinTech\\\\Group7\\\\crypto_punks\\\\0812.png',\n",
       " 'F:\\\\新加坡国立大学\\\\FE5225 Machine Learning and FinTech\\\\Group7\\\\crypto_punks\\\\0813.png',\n",
       " 'F:\\\\新加坡国立大学\\\\FE5225 Machine Learning and FinTech\\\\Group7\\\\crypto_punks\\\\0814.png',\n",
       " 'F:\\\\新加坡国立大学\\\\FE5225 Machine Learning and FinTech\\\\Group7\\\\crypto_punks\\\\0815.png',\n",
       " 'F:\\\\新加坡国立大学\\\\FE5225 Machine Learning and FinTech\\\\Group7\\\\crypto_punks\\\\0816.png',\n",
       " 'F:\\\\新加坡国立大学\\\\FE5225 Machine Learning and FinTech\\\\Group7\\\\crypto_punks\\\\0817.png',\n",
       " 'F:\\\\新加坡国立大学\\\\FE5225 Machine Learning and FinTech\\\\Group7\\\\crypto_punks\\\\0818.png',\n",
       " 'F:\\\\新加坡国立大学\\\\FE5225 Machine Learning and FinTech\\\\Group7\\\\crypto_punks\\\\0819.png',\n",
       " 'F:\\\\新加坡国立大学\\\\FE5225 Machine Learning and FinTech\\\\Group7\\\\crypto_punks\\\\0820.png',\n",
       " 'F:\\\\新加坡国立大学\\\\FE5225 Machine Learning and FinTech\\\\Group7\\\\crypto_punks\\\\0821.png',\n",
       " 'F:\\\\新加坡国立大学\\\\FE5225 Machine Learning and FinTech\\\\Group7\\\\crypto_punks\\\\0822.png',\n",
       " 'F:\\\\新加坡国立大学\\\\FE5225 Machine Learning and FinTech\\\\Group7\\\\crypto_punks\\\\0823.png',\n",
       " 'F:\\\\新加坡国立大学\\\\FE5225 Machine Learning and FinTech\\\\Group7\\\\crypto_punks\\\\0824.png',\n",
       " 'F:\\\\新加坡国立大学\\\\FE5225 Machine Learning and FinTech\\\\Group7\\\\crypto_punks\\\\0825.png',\n",
       " 'F:\\\\新加坡国立大学\\\\FE5225 Machine Learning and FinTech\\\\Group7\\\\crypto_punks\\\\0826.png',\n",
       " 'F:\\\\新加坡国立大学\\\\FE5225 Machine Learning and FinTech\\\\Group7\\\\crypto_punks\\\\0827.png',\n",
       " 'F:\\\\新加坡国立大学\\\\FE5225 Machine Learning and FinTech\\\\Group7\\\\crypto_punks\\\\0828.png',\n",
       " 'F:\\\\新加坡国立大学\\\\FE5225 Machine Learning and FinTech\\\\Group7\\\\crypto_punks\\\\0829.png',\n",
       " 'F:\\\\新加坡国立大学\\\\FE5225 Machine Learning and FinTech\\\\Group7\\\\crypto_punks\\\\0830.png',\n",
       " 'F:\\\\新加坡国立大学\\\\FE5225 Machine Learning and FinTech\\\\Group7\\\\crypto_punks\\\\0831.png',\n",
       " 'F:\\\\新加坡国立大学\\\\FE5225 Machine Learning and FinTech\\\\Group7\\\\crypto_punks\\\\0832.png',\n",
       " 'F:\\\\新加坡国立大学\\\\FE5225 Machine Learning and FinTech\\\\Group7\\\\crypto_punks\\\\0833.png',\n",
       " 'F:\\\\新加坡国立大学\\\\FE5225 Machine Learning and FinTech\\\\Group7\\\\crypto_punks\\\\0834.png',\n",
       " 'F:\\\\新加坡国立大学\\\\FE5225 Machine Learning and FinTech\\\\Group7\\\\crypto_punks\\\\0835.png',\n",
       " 'F:\\\\新加坡国立大学\\\\FE5225 Machine Learning and FinTech\\\\Group7\\\\crypto_punks\\\\0836.png',\n",
       " 'F:\\\\新加坡国立大学\\\\FE5225 Machine Learning and FinTech\\\\Group7\\\\crypto_punks\\\\0837.png',\n",
       " 'F:\\\\新加坡国立大学\\\\FE5225 Machine Learning and FinTech\\\\Group7\\\\crypto_punks\\\\0838.png',\n",
       " 'F:\\\\新加坡国立大学\\\\FE5225 Machine Learning and FinTech\\\\Group7\\\\crypto_punks\\\\0839.png',\n",
       " 'F:\\\\新加坡国立大学\\\\FE5225 Machine Learning and FinTech\\\\Group7\\\\crypto_punks\\\\0840.png',\n",
       " 'F:\\\\新加坡国立大学\\\\FE5225 Machine Learning and FinTech\\\\Group7\\\\crypto_punks\\\\0841.png',\n",
       " 'F:\\\\新加坡国立大学\\\\FE5225 Machine Learning and FinTech\\\\Group7\\\\crypto_punks\\\\0842.png',\n",
       " 'F:\\\\新加坡国立大学\\\\FE5225 Machine Learning and FinTech\\\\Group7\\\\crypto_punks\\\\0843.png',\n",
       " 'F:\\\\新加坡国立大学\\\\FE5225 Machine Learning and FinTech\\\\Group7\\\\crypto_punks\\\\0844.png',\n",
       " 'F:\\\\新加坡国立大学\\\\FE5225 Machine Learning and FinTech\\\\Group7\\\\crypto_punks\\\\0845.png',\n",
       " 'F:\\\\新加坡国立大学\\\\FE5225 Machine Learning and FinTech\\\\Group7\\\\crypto_punks\\\\0846.png',\n",
       " 'F:\\\\新加坡国立大学\\\\FE5225 Machine Learning and FinTech\\\\Group7\\\\crypto_punks\\\\0847.png',\n",
       " 'F:\\\\新加坡国立大学\\\\FE5225 Machine Learning and FinTech\\\\Group7\\\\crypto_punks\\\\0848.png',\n",
       " 'F:\\\\新加坡国立大学\\\\FE5225 Machine Learning and FinTech\\\\Group7\\\\crypto_punks\\\\0849.png',\n",
       " 'F:\\\\新加坡国立大学\\\\FE5225 Machine Learning and FinTech\\\\Group7\\\\crypto_punks\\\\0850.png',\n",
       " 'F:\\\\新加坡国立大学\\\\FE5225 Machine Learning and FinTech\\\\Group7\\\\crypto_punks\\\\0851.png',\n",
       " 'F:\\\\新加坡国立大学\\\\FE5225 Machine Learning and FinTech\\\\Group7\\\\crypto_punks\\\\0852.png',\n",
       " 'F:\\\\新加坡国立大学\\\\FE5225 Machine Learning and FinTech\\\\Group7\\\\crypto_punks\\\\0853.png',\n",
       " 'F:\\\\新加坡国立大学\\\\FE5225 Machine Learning and FinTech\\\\Group7\\\\crypto_punks\\\\0854.png',\n",
       " 'F:\\\\新加坡国立大学\\\\FE5225 Machine Learning and FinTech\\\\Group7\\\\crypto_punks\\\\0855.png',\n",
       " 'F:\\\\新加坡国立大学\\\\FE5225 Machine Learning and FinTech\\\\Group7\\\\crypto_punks\\\\0856.png',\n",
       " 'F:\\\\新加坡国立大学\\\\FE5225 Machine Learning and FinTech\\\\Group7\\\\crypto_punks\\\\0857.png',\n",
       " 'F:\\\\新加坡国立大学\\\\FE5225 Machine Learning and FinTech\\\\Group7\\\\crypto_punks\\\\0858.png',\n",
       " 'F:\\\\新加坡国立大学\\\\FE5225 Machine Learning and FinTech\\\\Group7\\\\crypto_punks\\\\0859.png',\n",
       " 'F:\\\\新加坡国立大学\\\\FE5225 Machine Learning and FinTech\\\\Group7\\\\crypto_punks\\\\0860.png',\n",
       " 'F:\\\\新加坡国立大学\\\\FE5225 Machine Learning and FinTech\\\\Group7\\\\crypto_punks\\\\0861.png',\n",
       " 'F:\\\\新加坡国立大学\\\\FE5225 Machine Learning and FinTech\\\\Group7\\\\crypto_punks\\\\0862.png',\n",
       " 'F:\\\\新加坡国立大学\\\\FE5225 Machine Learning and FinTech\\\\Group7\\\\crypto_punks\\\\0863.png',\n",
       " 'F:\\\\新加坡国立大学\\\\FE5225 Machine Learning and FinTech\\\\Group7\\\\crypto_punks\\\\0864.png',\n",
       " 'F:\\\\新加坡国立大学\\\\FE5225 Machine Learning and FinTech\\\\Group7\\\\crypto_punks\\\\0865.png',\n",
       " 'F:\\\\新加坡国立大学\\\\FE5225 Machine Learning and FinTech\\\\Group7\\\\crypto_punks\\\\0866.png',\n",
       " 'F:\\\\新加坡国立大学\\\\FE5225 Machine Learning and FinTech\\\\Group7\\\\crypto_punks\\\\0867.png',\n",
       " 'F:\\\\新加坡国立大学\\\\FE5225 Machine Learning and FinTech\\\\Group7\\\\crypto_punks\\\\0868.png',\n",
       " 'F:\\\\新加坡国立大学\\\\FE5225 Machine Learning and FinTech\\\\Group7\\\\crypto_punks\\\\0869.png',\n",
       " 'F:\\\\新加坡国立大学\\\\FE5225 Machine Learning and FinTech\\\\Group7\\\\crypto_punks\\\\0870.png',\n",
       " 'F:\\\\新加坡国立大学\\\\FE5225 Machine Learning and FinTech\\\\Group7\\\\crypto_punks\\\\0871.png',\n",
       " 'F:\\\\新加坡国立大学\\\\FE5225 Machine Learning and FinTech\\\\Group7\\\\crypto_punks\\\\0872.png',\n",
       " 'F:\\\\新加坡国立大学\\\\FE5225 Machine Learning and FinTech\\\\Group7\\\\crypto_punks\\\\0873.png',\n",
       " 'F:\\\\新加坡国立大学\\\\FE5225 Machine Learning and FinTech\\\\Group7\\\\crypto_punks\\\\0874.png',\n",
       " 'F:\\\\新加坡国立大学\\\\FE5225 Machine Learning and FinTech\\\\Group7\\\\crypto_punks\\\\0875.png',\n",
       " 'F:\\\\新加坡国立大学\\\\FE5225 Machine Learning and FinTech\\\\Group7\\\\crypto_punks\\\\0876.png',\n",
       " 'F:\\\\新加坡国立大学\\\\FE5225 Machine Learning and FinTech\\\\Group7\\\\crypto_punks\\\\0877.png',\n",
       " 'F:\\\\新加坡国立大学\\\\FE5225 Machine Learning and FinTech\\\\Group7\\\\crypto_punks\\\\0878.png',\n",
       " 'F:\\\\新加坡国立大学\\\\FE5225 Machine Learning and FinTech\\\\Group7\\\\crypto_punks\\\\0879.png',\n",
       " 'F:\\\\新加坡国立大学\\\\FE5225 Machine Learning and FinTech\\\\Group7\\\\crypto_punks\\\\0880.png',\n",
       " 'F:\\\\新加坡国立大学\\\\FE5225 Machine Learning and FinTech\\\\Group7\\\\crypto_punks\\\\0881.png',\n",
       " 'F:\\\\新加坡国立大学\\\\FE5225 Machine Learning and FinTech\\\\Group7\\\\crypto_punks\\\\0882.png',\n",
       " 'F:\\\\新加坡国立大学\\\\FE5225 Machine Learning and FinTech\\\\Group7\\\\crypto_punks\\\\0883.png',\n",
       " 'F:\\\\新加坡国立大学\\\\FE5225 Machine Learning and FinTech\\\\Group7\\\\crypto_punks\\\\0884.png',\n",
       " 'F:\\\\新加坡国立大学\\\\FE5225 Machine Learning and FinTech\\\\Group7\\\\crypto_punks\\\\0885.png',\n",
       " 'F:\\\\新加坡国立大学\\\\FE5225 Machine Learning and FinTech\\\\Group7\\\\crypto_punks\\\\0886.png',\n",
       " 'F:\\\\新加坡国立大学\\\\FE5225 Machine Learning and FinTech\\\\Group7\\\\crypto_punks\\\\0887.png',\n",
       " 'F:\\\\新加坡国立大学\\\\FE5225 Machine Learning and FinTech\\\\Group7\\\\crypto_punks\\\\0888.png',\n",
       " 'F:\\\\新加坡国立大学\\\\FE5225 Machine Learning and FinTech\\\\Group7\\\\crypto_punks\\\\0889.png',\n",
       " 'F:\\\\新加坡国立大学\\\\FE5225 Machine Learning and FinTech\\\\Group7\\\\crypto_punks\\\\0890.png',\n",
       " 'F:\\\\新加坡国立大学\\\\FE5225 Machine Learning and FinTech\\\\Group7\\\\crypto_punks\\\\0891.png',\n",
       " 'F:\\\\新加坡国立大学\\\\FE5225 Machine Learning and FinTech\\\\Group7\\\\crypto_punks\\\\0892.png',\n",
       " 'F:\\\\新加坡国立大学\\\\FE5225 Machine Learning and FinTech\\\\Group7\\\\crypto_punks\\\\0893.png',\n",
       " 'F:\\\\新加坡国立大学\\\\FE5225 Machine Learning and FinTech\\\\Group7\\\\crypto_punks\\\\0894.png',\n",
       " 'F:\\\\新加坡国立大学\\\\FE5225 Machine Learning and FinTech\\\\Group7\\\\crypto_punks\\\\0895.png',\n",
       " 'F:\\\\新加坡国立大学\\\\FE5225 Machine Learning and FinTech\\\\Group7\\\\crypto_punks\\\\0896.png',\n",
       " 'F:\\\\新加坡国立大学\\\\FE5225 Machine Learning and FinTech\\\\Group7\\\\crypto_punks\\\\0897.png',\n",
       " 'F:\\\\新加坡国立大学\\\\FE5225 Machine Learning and FinTech\\\\Group7\\\\crypto_punks\\\\0898.png',\n",
       " 'F:\\\\新加坡国立大学\\\\FE5225 Machine Learning and FinTech\\\\Group7\\\\crypto_punks\\\\0899.png',\n",
       " 'F:\\\\新加坡国立大学\\\\FE5225 Machine Learning and FinTech\\\\Group7\\\\crypto_punks\\\\0900.png',\n",
       " 'F:\\\\新加坡国立大学\\\\FE5225 Machine Learning and FinTech\\\\Group7\\\\crypto_punks\\\\0901.png',\n",
       " 'F:\\\\新加坡国立大学\\\\FE5225 Machine Learning and FinTech\\\\Group7\\\\crypto_punks\\\\0902.png',\n",
       " 'F:\\\\新加坡国立大学\\\\FE5225 Machine Learning and FinTech\\\\Group7\\\\crypto_punks\\\\0903.png',\n",
       " 'F:\\\\新加坡国立大学\\\\FE5225 Machine Learning and FinTech\\\\Group7\\\\crypto_punks\\\\0904.png',\n",
       " 'F:\\\\新加坡国立大学\\\\FE5225 Machine Learning and FinTech\\\\Group7\\\\crypto_punks\\\\0905.png',\n",
       " 'F:\\\\新加坡国立大学\\\\FE5225 Machine Learning and FinTech\\\\Group7\\\\crypto_punks\\\\0906.png',\n",
       " 'F:\\\\新加坡国立大学\\\\FE5225 Machine Learning and FinTech\\\\Group7\\\\crypto_punks\\\\0907.png',\n",
       " 'F:\\\\新加坡国立大学\\\\FE5225 Machine Learning and FinTech\\\\Group7\\\\crypto_punks\\\\0908.png',\n",
       " 'F:\\\\新加坡国立大学\\\\FE5225 Machine Learning and FinTech\\\\Group7\\\\crypto_punks\\\\0909.png',\n",
       " 'F:\\\\新加坡国立大学\\\\FE5225 Machine Learning and FinTech\\\\Group7\\\\crypto_punks\\\\0910.png',\n",
       " 'F:\\\\新加坡国立大学\\\\FE5225 Machine Learning and FinTech\\\\Group7\\\\crypto_punks\\\\0911.png',\n",
       " 'F:\\\\新加坡国立大学\\\\FE5225 Machine Learning and FinTech\\\\Group7\\\\crypto_punks\\\\0912.png',\n",
       " 'F:\\\\新加坡国立大学\\\\FE5225 Machine Learning and FinTech\\\\Group7\\\\crypto_punks\\\\0913.png',\n",
       " 'F:\\\\新加坡国立大学\\\\FE5225 Machine Learning and FinTech\\\\Group7\\\\crypto_punks\\\\0914.png',\n",
       " 'F:\\\\新加坡国立大学\\\\FE5225 Machine Learning and FinTech\\\\Group7\\\\crypto_punks\\\\0915.png',\n",
       " 'F:\\\\新加坡国立大学\\\\FE5225 Machine Learning and FinTech\\\\Group7\\\\crypto_punks\\\\0916.png',\n",
       " 'F:\\\\新加坡国立大学\\\\FE5225 Machine Learning and FinTech\\\\Group7\\\\crypto_punks\\\\0917.png',\n",
       " 'F:\\\\新加坡国立大学\\\\FE5225 Machine Learning and FinTech\\\\Group7\\\\crypto_punks\\\\0918.png',\n",
       " 'F:\\\\新加坡国立大学\\\\FE5225 Machine Learning and FinTech\\\\Group7\\\\crypto_punks\\\\0919.png',\n",
       " 'F:\\\\新加坡国立大学\\\\FE5225 Machine Learning and FinTech\\\\Group7\\\\crypto_punks\\\\0920.png',\n",
       " 'F:\\\\新加坡国立大学\\\\FE5225 Machine Learning and FinTech\\\\Group7\\\\crypto_punks\\\\0921.png',\n",
       " 'F:\\\\新加坡国立大学\\\\FE5225 Machine Learning and FinTech\\\\Group7\\\\crypto_punks\\\\0922.png',\n",
       " 'F:\\\\新加坡国立大学\\\\FE5225 Machine Learning and FinTech\\\\Group7\\\\crypto_punks\\\\0923.png',\n",
       " 'F:\\\\新加坡国立大学\\\\FE5225 Machine Learning and FinTech\\\\Group7\\\\crypto_punks\\\\0924.png',\n",
       " 'F:\\\\新加坡国立大学\\\\FE5225 Machine Learning and FinTech\\\\Group7\\\\crypto_punks\\\\0925.png',\n",
       " 'F:\\\\新加坡国立大学\\\\FE5225 Machine Learning and FinTech\\\\Group7\\\\crypto_punks\\\\0926.png',\n",
       " 'F:\\\\新加坡国立大学\\\\FE5225 Machine Learning and FinTech\\\\Group7\\\\crypto_punks\\\\0927.png',\n",
       " 'F:\\\\新加坡国立大学\\\\FE5225 Machine Learning and FinTech\\\\Group7\\\\crypto_punks\\\\0928.png',\n",
       " 'F:\\\\新加坡国立大学\\\\FE5225 Machine Learning and FinTech\\\\Group7\\\\crypto_punks\\\\0929.png',\n",
       " 'F:\\\\新加坡国立大学\\\\FE5225 Machine Learning and FinTech\\\\Group7\\\\crypto_punks\\\\0930.png',\n",
       " 'F:\\\\新加坡国立大学\\\\FE5225 Machine Learning and FinTech\\\\Group7\\\\crypto_punks\\\\0931.png',\n",
       " 'F:\\\\新加坡国立大学\\\\FE5225 Machine Learning and FinTech\\\\Group7\\\\crypto_punks\\\\0932.png',\n",
       " 'F:\\\\新加坡国立大学\\\\FE5225 Machine Learning and FinTech\\\\Group7\\\\crypto_punks\\\\0933.png',\n",
       " 'F:\\\\新加坡国立大学\\\\FE5225 Machine Learning and FinTech\\\\Group7\\\\crypto_punks\\\\0934.png',\n",
       " 'F:\\\\新加坡国立大学\\\\FE5225 Machine Learning and FinTech\\\\Group7\\\\crypto_punks\\\\0935.png',\n",
       " 'F:\\\\新加坡国立大学\\\\FE5225 Machine Learning and FinTech\\\\Group7\\\\crypto_punks\\\\0936.png',\n",
       " 'F:\\\\新加坡国立大学\\\\FE5225 Machine Learning and FinTech\\\\Group7\\\\crypto_punks\\\\0937.png',\n",
       " 'F:\\\\新加坡国立大学\\\\FE5225 Machine Learning and FinTech\\\\Group7\\\\crypto_punks\\\\0938.png',\n",
       " 'F:\\\\新加坡国立大学\\\\FE5225 Machine Learning and FinTech\\\\Group7\\\\crypto_punks\\\\0939.png',\n",
       " 'F:\\\\新加坡国立大学\\\\FE5225 Machine Learning and FinTech\\\\Group7\\\\crypto_punks\\\\0940.png',\n",
       " 'F:\\\\新加坡国立大学\\\\FE5225 Machine Learning and FinTech\\\\Group7\\\\crypto_punks\\\\0941.png',\n",
       " 'F:\\\\新加坡国立大学\\\\FE5225 Machine Learning and FinTech\\\\Group7\\\\crypto_punks\\\\0942.png',\n",
       " 'F:\\\\新加坡国立大学\\\\FE5225 Machine Learning and FinTech\\\\Group7\\\\crypto_punks\\\\0943.png',\n",
       " 'F:\\\\新加坡国立大学\\\\FE5225 Machine Learning and FinTech\\\\Group7\\\\crypto_punks\\\\0944.png',\n",
       " 'F:\\\\新加坡国立大学\\\\FE5225 Machine Learning and FinTech\\\\Group7\\\\crypto_punks\\\\0945.png',\n",
       " 'F:\\\\新加坡国立大学\\\\FE5225 Machine Learning and FinTech\\\\Group7\\\\crypto_punks\\\\0946.png',\n",
       " 'F:\\\\新加坡国立大学\\\\FE5225 Machine Learning and FinTech\\\\Group7\\\\crypto_punks\\\\0947.png',\n",
       " 'F:\\\\新加坡国立大学\\\\FE5225 Machine Learning and FinTech\\\\Group7\\\\crypto_punks\\\\0948.png',\n",
       " 'F:\\\\新加坡国立大学\\\\FE5225 Machine Learning and FinTech\\\\Group7\\\\crypto_punks\\\\0949.png',\n",
       " 'F:\\\\新加坡国立大学\\\\FE5225 Machine Learning and FinTech\\\\Group7\\\\crypto_punks\\\\0950.png',\n",
       " 'F:\\\\新加坡国立大学\\\\FE5225 Machine Learning and FinTech\\\\Group7\\\\crypto_punks\\\\0951.png',\n",
       " 'F:\\\\新加坡国立大学\\\\FE5225 Machine Learning and FinTech\\\\Group7\\\\crypto_punks\\\\0952.png',\n",
       " 'F:\\\\新加坡国立大学\\\\FE5225 Machine Learning and FinTech\\\\Group7\\\\crypto_punks\\\\0953.png',\n",
       " 'F:\\\\新加坡国立大学\\\\FE5225 Machine Learning and FinTech\\\\Group7\\\\crypto_punks\\\\0954.png',\n",
       " 'F:\\\\新加坡国立大学\\\\FE5225 Machine Learning and FinTech\\\\Group7\\\\crypto_punks\\\\0955.png',\n",
       " 'F:\\\\新加坡国立大学\\\\FE5225 Machine Learning and FinTech\\\\Group7\\\\crypto_punks\\\\0956.png',\n",
       " 'F:\\\\新加坡国立大学\\\\FE5225 Machine Learning and FinTech\\\\Group7\\\\crypto_punks\\\\0957.png',\n",
       " 'F:\\\\新加坡国立大学\\\\FE5225 Machine Learning and FinTech\\\\Group7\\\\crypto_punks\\\\0958.png',\n",
       " 'F:\\\\新加坡国立大学\\\\FE5225 Machine Learning and FinTech\\\\Group7\\\\crypto_punks\\\\0959.png',\n",
       " 'F:\\\\新加坡国立大学\\\\FE5225 Machine Learning and FinTech\\\\Group7\\\\crypto_punks\\\\0960.png',\n",
       " 'F:\\\\新加坡国立大学\\\\FE5225 Machine Learning and FinTech\\\\Group7\\\\crypto_punks\\\\0961.png',\n",
       " 'F:\\\\新加坡国立大学\\\\FE5225 Machine Learning and FinTech\\\\Group7\\\\crypto_punks\\\\0962.png',\n",
       " 'F:\\\\新加坡国立大学\\\\FE5225 Machine Learning and FinTech\\\\Group7\\\\crypto_punks\\\\0963.png',\n",
       " 'F:\\\\新加坡国立大学\\\\FE5225 Machine Learning and FinTech\\\\Group7\\\\crypto_punks\\\\0964.png',\n",
       " 'F:\\\\新加坡国立大学\\\\FE5225 Machine Learning and FinTech\\\\Group7\\\\crypto_punks\\\\0965.png',\n",
       " 'F:\\\\新加坡国立大学\\\\FE5225 Machine Learning and FinTech\\\\Group7\\\\crypto_punks\\\\0966.png',\n",
       " 'F:\\\\新加坡国立大学\\\\FE5225 Machine Learning and FinTech\\\\Group7\\\\crypto_punks\\\\0967.png',\n",
       " 'F:\\\\新加坡国立大学\\\\FE5225 Machine Learning and FinTech\\\\Group7\\\\crypto_punks\\\\0968.png',\n",
       " 'F:\\\\新加坡国立大学\\\\FE5225 Machine Learning and FinTech\\\\Group7\\\\crypto_punks\\\\0969.png',\n",
       " 'F:\\\\新加坡国立大学\\\\FE5225 Machine Learning and FinTech\\\\Group7\\\\crypto_punks\\\\0970.png',\n",
       " 'F:\\\\新加坡国立大学\\\\FE5225 Machine Learning and FinTech\\\\Group7\\\\crypto_punks\\\\0971.png',\n",
       " 'F:\\\\新加坡国立大学\\\\FE5225 Machine Learning and FinTech\\\\Group7\\\\crypto_punks\\\\0972.png',\n",
       " 'F:\\\\新加坡国立大学\\\\FE5225 Machine Learning and FinTech\\\\Group7\\\\crypto_punks\\\\0973.png',\n",
       " 'F:\\\\新加坡国立大学\\\\FE5225 Machine Learning and FinTech\\\\Group7\\\\crypto_punks\\\\0974.png',\n",
       " 'F:\\\\新加坡国立大学\\\\FE5225 Machine Learning and FinTech\\\\Group7\\\\crypto_punks\\\\0975.png',\n",
       " 'F:\\\\新加坡国立大学\\\\FE5225 Machine Learning and FinTech\\\\Group7\\\\crypto_punks\\\\0976.png',\n",
       " 'F:\\\\新加坡国立大学\\\\FE5225 Machine Learning and FinTech\\\\Group7\\\\crypto_punks\\\\0977.png',\n",
       " 'F:\\\\新加坡国立大学\\\\FE5225 Machine Learning and FinTech\\\\Group7\\\\crypto_punks\\\\0978.png',\n",
       " 'F:\\\\新加坡国立大学\\\\FE5225 Machine Learning and FinTech\\\\Group7\\\\crypto_punks\\\\0979.png',\n",
       " 'F:\\\\新加坡国立大学\\\\FE5225 Machine Learning and FinTech\\\\Group7\\\\crypto_punks\\\\0980.png',\n",
       " 'F:\\\\新加坡国立大学\\\\FE5225 Machine Learning and FinTech\\\\Group7\\\\crypto_punks\\\\0981.png',\n",
       " 'F:\\\\新加坡国立大学\\\\FE5225 Machine Learning and FinTech\\\\Group7\\\\crypto_punks\\\\0982.png',\n",
       " 'F:\\\\新加坡国立大学\\\\FE5225 Machine Learning and FinTech\\\\Group7\\\\crypto_punks\\\\0983.png',\n",
       " 'F:\\\\新加坡国立大学\\\\FE5225 Machine Learning and FinTech\\\\Group7\\\\crypto_punks\\\\0984.png',\n",
       " 'F:\\\\新加坡国立大学\\\\FE5225 Machine Learning and FinTech\\\\Group7\\\\crypto_punks\\\\0985.png',\n",
       " 'F:\\\\新加坡国立大学\\\\FE5225 Machine Learning and FinTech\\\\Group7\\\\crypto_punks\\\\0986.png',\n",
       " 'F:\\\\新加坡国立大学\\\\FE5225 Machine Learning and FinTech\\\\Group7\\\\crypto_punks\\\\0987.png',\n",
       " 'F:\\\\新加坡国立大学\\\\FE5225 Machine Learning and FinTech\\\\Group7\\\\crypto_punks\\\\0988.png',\n",
       " 'F:\\\\新加坡国立大学\\\\FE5225 Machine Learning and FinTech\\\\Group7\\\\crypto_punks\\\\0989.png',\n",
       " 'F:\\\\新加坡国立大学\\\\FE5225 Machine Learning and FinTech\\\\Group7\\\\crypto_punks\\\\0990.png',\n",
       " 'F:\\\\新加坡国立大学\\\\FE5225 Machine Learning and FinTech\\\\Group7\\\\crypto_punks\\\\0991.png',\n",
       " 'F:\\\\新加坡国立大学\\\\FE5225 Machine Learning and FinTech\\\\Group7\\\\crypto_punks\\\\0992.png',\n",
       " 'F:\\\\新加坡国立大学\\\\FE5225 Machine Learning and FinTech\\\\Group7\\\\crypto_punks\\\\0993.png',\n",
       " 'F:\\\\新加坡国立大学\\\\FE5225 Machine Learning and FinTech\\\\Group7\\\\crypto_punks\\\\0994.png',\n",
       " 'F:\\\\新加坡国立大学\\\\FE5225 Machine Learning and FinTech\\\\Group7\\\\crypto_punks\\\\0995.png',\n",
       " 'F:\\\\新加坡国立大学\\\\FE5225 Machine Learning and FinTech\\\\Group7\\\\crypto_punks\\\\0996.png',\n",
       " 'F:\\\\新加坡国立大学\\\\FE5225 Machine Learning and FinTech\\\\Group7\\\\crypto_punks\\\\0997.png',\n",
       " 'F:\\\\新加坡国立大学\\\\FE5225 Machine Learning and FinTech\\\\Group7\\\\crypto_punks\\\\0998.png',\n",
       " 'F:\\\\新加坡国立大学\\\\FE5225 Machine Learning and FinTech\\\\Group7\\\\crypto_punks\\\\0999.png',\n",
       " ...]"
      ]
     },
     "execution_count": 2,
     "metadata": {},
     "output_type": "execute_result"
    }
   ],
   "source": [
    "# create a list of images\n",
    "# You should have all 10,000 images in crpto_punks folder under your work directory, otherwise you should run Collecting_cryptopunks first \n",
    "path = './crypto_punks'\n",
    "imlist = [os.path.join(path, f) for f in os.listdir(path) if f.endswith('.png')]"
   ]
  },
  {
   "cell_type": "code",
   "execution_count": 3,
   "metadata": {},
   "outputs": [
    {
     "data": {
      "text/plain": [
       "['F:\\\\新加坡国立大学\\\\FE5225 Machine Learning and FinTech\\\\Group7\\\\crypto_punks\\\\0000.png',\n",
       " 'F:\\\\新加坡国立大学\\\\FE5225 Machine Learning and FinTech\\\\Group7\\\\crypto_punks\\\\0001.png',\n",
       " 'F:\\\\新加坡国立大学\\\\FE5225 Machine Learning and FinTech\\\\Group7\\\\crypto_punks\\\\0002.png',\n",
       " 'F:\\\\新加坡国立大学\\\\FE5225 Machine Learning and FinTech\\\\Group7\\\\crypto_punks\\\\0003.png',\n",
       " 'F:\\\\新加坡国立大学\\\\FE5225 Machine Learning and FinTech\\\\Group7\\\\crypto_punks\\\\0004.png',\n",
       " 'F:\\\\新加坡国立大学\\\\FE5225 Machine Learning and FinTech\\\\Group7\\\\crypto_punks\\\\0005.png',\n",
       " 'F:\\\\新加坡国立大学\\\\FE5225 Machine Learning and FinTech\\\\Group7\\\\crypto_punks\\\\0006.png',\n",
       " 'F:\\\\新加坡国立大学\\\\FE5225 Machine Learning and FinTech\\\\Group7\\\\crypto_punks\\\\0007.png',\n",
       " 'F:\\\\新加坡国立大学\\\\FE5225 Machine Learning and FinTech\\\\Group7\\\\crypto_punks\\\\0008.png',\n",
       " 'F:\\\\新加坡国立大学\\\\FE5225 Machine Learning and FinTech\\\\Group7\\\\crypto_punks\\\\0009.png',\n",
       " 'F:\\\\新加坡国立大学\\\\FE5225 Machine Learning and FinTech\\\\Group7\\\\crypto_punks\\\\0010.png',\n",
       " 'F:\\\\新加坡国立大学\\\\FE5225 Machine Learning and FinTech\\\\Group7\\\\crypto_punks\\\\0011.png',\n",
       " 'F:\\\\新加坡国立大学\\\\FE5225 Machine Learning and FinTech\\\\Group7\\\\crypto_punks\\\\0012.png',\n",
       " 'F:\\\\新加坡国立大学\\\\FE5225 Machine Learning and FinTech\\\\Group7\\\\crypto_punks\\\\0013.png',\n",
       " 'F:\\\\新加坡国立大学\\\\FE5225 Machine Learning and FinTech\\\\Group7\\\\crypto_punks\\\\0014.png',\n",
       " 'F:\\\\新加坡国立大学\\\\FE5225 Machine Learning and FinTech\\\\Group7\\\\crypto_punks\\\\0015.png',\n",
       " 'F:\\\\新加坡国立大学\\\\FE5225 Machine Learning and FinTech\\\\Group7\\\\crypto_punks\\\\0016.png',\n",
       " 'F:\\\\新加坡国立大学\\\\FE5225 Machine Learning and FinTech\\\\Group7\\\\crypto_punks\\\\0017.png',\n",
       " 'F:\\\\新加坡国立大学\\\\FE5225 Machine Learning and FinTech\\\\Group7\\\\crypto_punks\\\\0018.png',\n",
       " 'F:\\\\新加坡国立大学\\\\FE5225 Machine Learning and FinTech\\\\Group7\\\\crypto_punks\\\\0019.png',\n",
       " 'F:\\\\新加坡国立大学\\\\FE5225 Machine Learning and FinTech\\\\Group7\\\\crypto_punks\\\\0020.png',\n",
       " 'F:\\\\新加坡国立大学\\\\FE5225 Machine Learning and FinTech\\\\Group7\\\\crypto_punks\\\\0021.png',\n",
       " 'F:\\\\新加坡国立大学\\\\FE5225 Machine Learning and FinTech\\\\Group7\\\\crypto_punks\\\\0022.png',\n",
       " 'F:\\\\新加坡国立大学\\\\FE5225 Machine Learning and FinTech\\\\Group7\\\\crypto_punks\\\\0023.png',\n",
       " 'F:\\\\新加坡国立大学\\\\FE5225 Machine Learning and FinTech\\\\Group7\\\\crypto_punks\\\\0024.png',\n",
       " 'F:\\\\新加坡国立大学\\\\FE5225 Machine Learning and FinTech\\\\Group7\\\\crypto_punks\\\\0025.png',\n",
       " 'F:\\\\新加坡国立大学\\\\FE5225 Machine Learning and FinTech\\\\Group7\\\\crypto_punks\\\\0026.png',\n",
       " 'F:\\\\新加坡国立大学\\\\FE5225 Machine Learning and FinTech\\\\Group7\\\\crypto_punks\\\\0027.png',\n",
       " 'F:\\\\新加坡国立大学\\\\FE5225 Machine Learning and FinTech\\\\Group7\\\\crypto_punks\\\\0028.png',\n",
       " 'F:\\\\新加坡国立大学\\\\FE5225 Machine Learning and FinTech\\\\Group7\\\\crypto_punks\\\\0029.png',\n",
       " 'F:\\\\新加坡国立大学\\\\FE5225 Machine Learning and FinTech\\\\Group7\\\\crypto_punks\\\\0030.png',\n",
       " 'F:\\\\新加坡国立大学\\\\FE5225 Machine Learning and FinTech\\\\Group7\\\\crypto_punks\\\\0031.png',\n",
       " 'F:\\\\新加坡国立大学\\\\FE5225 Machine Learning and FinTech\\\\Group7\\\\crypto_punks\\\\0032.png',\n",
       " 'F:\\\\新加坡国立大学\\\\FE5225 Machine Learning and FinTech\\\\Group7\\\\crypto_punks\\\\0033.png',\n",
       " 'F:\\\\新加坡国立大学\\\\FE5225 Machine Learning and FinTech\\\\Group7\\\\crypto_punks\\\\0034.png',\n",
       " 'F:\\\\新加坡国立大学\\\\FE5225 Machine Learning and FinTech\\\\Group7\\\\crypto_punks\\\\0035.png',\n",
       " 'F:\\\\新加坡国立大学\\\\FE5225 Machine Learning and FinTech\\\\Group7\\\\crypto_punks\\\\0036.png',\n",
       " 'F:\\\\新加坡国立大学\\\\FE5225 Machine Learning and FinTech\\\\Group7\\\\crypto_punks\\\\0037.png',\n",
       " 'F:\\\\新加坡国立大学\\\\FE5225 Machine Learning and FinTech\\\\Group7\\\\crypto_punks\\\\0038.png',\n",
       " 'F:\\\\新加坡国立大学\\\\FE5225 Machine Learning and FinTech\\\\Group7\\\\crypto_punks\\\\0039.png',\n",
       " 'F:\\\\新加坡国立大学\\\\FE5225 Machine Learning and FinTech\\\\Group7\\\\crypto_punks\\\\0040.png',\n",
       " 'F:\\\\新加坡国立大学\\\\FE5225 Machine Learning and FinTech\\\\Group7\\\\crypto_punks\\\\0041.png',\n",
       " 'F:\\\\新加坡国立大学\\\\FE5225 Machine Learning and FinTech\\\\Group7\\\\crypto_punks\\\\0042.png',\n",
       " 'F:\\\\新加坡国立大学\\\\FE5225 Machine Learning and FinTech\\\\Group7\\\\crypto_punks\\\\0043.png',\n",
       " 'F:\\\\新加坡国立大学\\\\FE5225 Machine Learning and FinTech\\\\Group7\\\\crypto_punks\\\\0044.png',\n",
       " 'F:\\\\新加坡国立大学\\\\FE5225 Machine Learning and FinTech\\\\Group7\\\\crypto_punks\\\\0045.png',\n",
       " 'F:\\\\新加坡国立大学\\\\FE5225 Machine Learning and FinTech\\\\Group7\\\\crypto_punks\\\\0046.png',\n",
       " 'F:\\\\新加坡国立大学\\\\FE5225 Machine Learning and FinTech\\\\Group7\\\\crypto_punks\\\\0047.png',\n",
       " 'F:\\\\新加坡国立大学\\\\FE5225 Machine Learning and FinTech\\\\Group7\\\\crypto_punks\\\\0048.png',\n",
       " 'F:\\\\新加坡国立大学\\\\FE5225 Machine Learning and FinTech\\\\Group7\\\\crypto_punks\\\\0049.png',\n",
       " 'F:\\\\新加坡国立大学\\\\FE5225 Machine Learning and FinTech\\\\Group7\\\\crypto_punks\\\\0050.png',\n",
       " 'F:\\\\新加坡国立大学\\\\FE5225 Machine Learning and FinTech\\\\Group7\\\\crypto_punks\\\\0051.png',\n",
       " 'F:\\\\新加坡国立大学\\\\FE5225 Machine Learning and FinTech\\\\Group7\\\\crypto_punks\\\\0052.png',\n",
       " 'F:\\\\新加坡国立大学\\\\FE5225 Machine Learning and FinTech\\\\Group7\\\\crypto_punks\\\\0053.png',\n",
       " 'F:\\\\新加坡国立大学\\\\FE5225 Machine Learning and FinTech\\\\Group7\\\\crypto_punks\\\\0054.png',\n",
       " 'F:\\\\新加坡国立大学\\\\FE5225 Machine Learning and FinTech\\\\Group7\\\\crypto_punks\\\\0055.png',\n",
       " 'F:\\\\新加坡国立大学\\\\FE5225 Machine Learning and FinTech\\\\Group7\\\\crypto_punks\\\\0056.png',\n",
       " 'F:\\\\新加坡国立大学\\\\FE5225 Machine Learning and FinTech\\\\Group7\\\\crypto_punks\\\\0057.png',\n",
       " 'F:\\\\新加坡国立大学\\\\FE5225 Machine Learning and FinTech\\\\Group7\\\\crypto_punks\\\\0058.png',\n",
       " 'F:\\\\新加坡国立大学\\\\FE5225 Machine Learning and FinTech\\\\Group7\\\\crypto_punks\\\\0059.png',\n",
       " 'F:\\\\新加坡国立大学\\\\FE5225 Machine Learning and FinTech\\\\Group7\\\\crypto_punks\\\\0060.png',\n",
       " 'F:\\\\新加坡国立大学\\\\FE5225 Machine Learning and FinTech\\\\Group7\\\\crypto_punks\\\\0061.png',\n",
       " 'F:\\\\新加坡国立大学\\\\FE5225 Machine Learning and FinTech\\\\Group7\\\\crypto_punks\\\\0062.png',\n",
       " 'F:\\\\新加坡国立大学\\\\FE5225 Machine Learning and FinTech\\\\Group7\\\\crypto_punks\\\\0063.png',\n",
       " 'F:\\\\新加坡国立大学\\\\FE5225 Machine Learning and FinTech\\\\Group7\\\\crypto_punks\\\\0064.png',\n",
       " 'F:\\\\新加坡国立大学\\\\FE5225 Machine Learning and FinTech\\\\Group7\\\\crypto_punks\\\\0065.png',\n",
       " 'F:\\\\新加坡国立大学\\\\FE5225 Machine Learning and FinTech\\\\Group7\\\\crypto_punks\\\\0066.png',\n",
       " 'F:\\\\新加坡国立大学\\\\FE5225 Machine Learning and FinTech\\\\Group7\\\\crypto_punks\\\\0067.png',\n",
       " 'F:\\\\新加坡国立大学\\\\FE5225 Machine Learning and FinTech\\\\Group7\\\\crypto_punks\\\\0068.png',\n",
       " 'F:\\\\新加坡国立大学\\\\FE5225 Machine Learning and FinTech\\\\Group7\\\\crypto_punks\\\\0069.png',\n",
       " 'F:\\\\新加坡国立大学\\\\FE5225 Machine Learning and FinTech\\\\Group7\\\\crypto_punks\\\\0070.png',\n",
       " 'F:\\\\新加坡国立大学\\\\FE5225 Machine Learning and FinTech\\\\Group7\\\\crypto_punks\\\\0071.png',\n",
       " 'F:\\\\新加坡国立大学\\\\FE5225 Machine Learning and FinTech\\\\Group7\\\\crypto_punks\\\\0072.png',\n",
       " 'F:\\\\新加坡国立大学\\\\FE5225 Machine Learning and FinTech\\\\Group7\\\\crypto_punks\\\\0073.png',\n",
       " 'F:\\\\新加坡国立大学\\\\FE5225 Machine Learning and FinTech\\\\Group7\\\\crypto_punks\\\\0074.png',\n",
       " 'F:\\\\新加坡国立大学\\\\FE5225 Machine Learning and FinTech\\\\Group7\\\\crypto_punks\\\\0075.png',\n",
       " 'F:\\\\新加坡国立大学\\\\FE5225 Machine Learning and FinTech\\\\Group7\\\\crypto_punks\\\\0076.png',\n",
       " 'F:\\\\新加坡国立大学\\\\FE5225 Machine Learning and FinTech\\\\Group7\\\\crypto_punks\\\\0077.png',\n",
       " 'F:\\\\新加坡国立大学\\\\FE5225 Machine Learning and FinTech\\\\Group7\\\\crypto_punks\\\\0078.png',\n",
       " 'F:\\\\新加坡国立大学\\\\FE5225 Machine Learning and FinTech\\\\Group7\\\\crypto_punks\\\\0079.png',\n",
       " 'F:\\\\新加坡国立大学\\\\FE5225 Machine Learning and FinTech\\\\Group7\\\\crypto_punks\\\\0080.png',\n",
       " 'F:\\\\新加坡国立大学\\\\FE5225 Machine Learning and FinTech\\\\Group7\\\\crypto_punks\\\\0081.png',\n",
       " 'F:\\\\新加坡国立大学\\\\FE5225 Machine Learning and FinTech\\\\Group7\\\\crypto_punks\\\\0082.png',\n",
       " 'F:\\\\新加坡国立大学\\\\FE5225 Machine Learning and FinTech\\\\Group7\\\\crypto_punks\\\\0083.png',\n",
       " 'F:\\\\新加坡国立大学\\\\FE5225 Machine Learning and FinTech\\\\Group7\\\\crypto_punks\\\\0084.png',\n",
       " 'F:\\\\新加坡国立大学\\\\FE5225 Machine Learning and FinTech\\\\Group7\\\\crypto_punks\\\\0085.png',\n",
       " 'F:\\\\新加坡国立大学\\\\FE5225 Machine Learning and FinTech\\\\Group7\\\\crypto_punks\\\\0086.png',\n",
       " 'F:\\\\新加坡国立大学\\\\FE5225 Machine Learning and FinTech\\\\Group7\\\\crypto_punks\\\\0087.png',\n",
       " 'F:\\\\新加坡国立大学\\\\FE5225 Machine Learning and FinTech\\\\Group7\\\\crypto_punks\\\\0088.png',\n",
       " 'F:\\\\新加坡国立大学\\\\FE5225 Machine Learning and FinTech\\\\Group7\\\\crypto_punks\\\\0089.png',\n",
       " 'F:\\\\新加坡国立大学\\\\FE5225 Machine Learning and FinTech\\\\Group7\\\\crypto_punks\\\\0090.png',\n",
       " 'F:\\\\新加坡国立大学\\\\FE5225 Machine Learning and FinTech\\\\Group7\\\\crypto_punks\\\\0091.png',\n",
       " 'F:\\\\新加坡国立大学\\\\FE5225 Machine Learning and FinTech\\\\Group7\\\\crypto_punks\\\\0092.png',\n",
       " 'F:\\\\新加坡国立大学\\\\FE5225 Machine Learning and FinTech\\\\Group7\\\\crypto_punks\\\\0093.png',\n",
       " 'F:\\\\新加坡国立大学\\\\FE5225 Machine Learning and FinTech\\\\Group7\\\\crypto_punks\\\\0094.png',\n",
       " 'F:\\\\新加坡国立大学\\\\FE5225 Machine Learning and FinTech\\\\Group7\\\\crypto_punks\\\\0095.png',\n",
       " 'F:\\\\新加坡国立大学\\\\FE5225 Machine Learning and FinTech\\\\Group7\\\\crypto_punks\\\\0096.png',\n",
       " 'F:\\\\新加坡国立大学\\\\FE5225 Machine Learning and FinTech\\\\Group7\\\\crypto_punks\\\\0097.png',\n",
       " 'F:\\\\新加坡国立大学\\\\FE5225 Machine Learning and FinTech\\\\Group7\\\\crypto_punks\\\\0098.png',\n",
       " 'F:\\\\新加坡国立大学\\\\FE5225 Machine Learning and FinTech\\\\Group7\\\\crypto_punks\\\\0099.png']"
      ]
     },
     "execution_count": 3,
     "metadata": {},
     "output_type": "execute_result"
    }
   ],
   "source": [
    "# Here you can change the number of images you want to cluster, if you use all the 10000, it may be very time-consuming\n",
    "imlist = imlist[:100]\n",
    "imlist"
   ]
  },
  {
   "cell_type": "code",
   "execution_count": 4,
   "metadata": {},
   "outputs": [],
   "source": [
    "# extract feature vector (8 bins per color channel)\n",
    "features = zeros([len(imlist), 512])\n",
    "for i, f in enumerate(imlist):\n",
    "    im = array(Image.open(f))\n",
    "    # multi-dimensional histogram\n",
    "    h, edges = histogramdd(im.reshape(-1, 3), 8, normed=True, range=[(0, 255), (0, 255), (0, 255)])\n",
    "    features[i] = h.flatten()\n",
    "tree = hcluster.hcluster(features)"
   ]
  },
  {
   "cell_type": "code",
   "execution_count": 5,
   "metadata": {},
   "outputs": [
    {
     "name": "stdout",
     "output_type": "stream",
     "text": [
      "54\n"
     ]
    }
   ],
   "source": [
    "# clusters with some (arbitrary) threshold\n",
    "clusters = tree.extract_clusters(0.23 * tree.distance)\n",
    "N_clusters = len(clusters)\n",
    "# see how many clusters by this condition\n",
    "print(N_clusters)"
   ]
  },
  {
   "cell_type": "code",
   "execution_count": 6,
   "metadata": {},
   "outputs": [
    {
     "name": "stderr",
     "output_type": "stream",
     "text": [
      "E:\\anaconda3\\lib\\site-packages\\matplotlib\\pyplot.py:537: RuntimeWarning: More than 20 figures have been opened. Figures created through the pyplot interface (`matplotlib.pyplot.figure`) are retained until explicitly closed and may consume too much memory. (To control this warning, see the rcParam `figure.max_open_warning`).\n",
      "  max_open_warning, RuntimeWarning)\n"
     ]
    },
    {
     "data": {
      "image/png": "[encoded data removed]",
      "text/plain": [
       "<Figure size 432x288 with 1 Axes>"
      ]
     },
     "metadata": {},
     "output_type": "display_data"
    },
    {
     "data": {
      "image/png": "[encoded data removed]",
      "text/plain": [
       "<Figure size 432x288 with 1 Axes>"
      ]
     },
     "metadata": {},
     "output_type": "display_data"
    },
    {
     "data": {
      "image/png": "[encoded data removed]",
      "text/plain": [
       "<Figure size 432x288 with 1 Axes>"
      ]
     },
     "metadata": {},
     "output_type": "display_data"
    },
    {
     "data": {
      "image/png": "[encoded data removed]",
      "text/plain": [
       "<Figure size 432x288 with 1 Axes>"
      ]
     },
     "metadata": {},
     "output_type": "display_data"
    },
    {
     "data": {
      "image/png": "[encoded data removed]",
      "text/plain": [
       "<Figure size 432x288 with 1 Axes>"
      ]
     },
     "metadata": {},
     "output_type": "display_data"
    },
    {
     "data": {
      "image/png": "[encoded data removed]",
      "text/plain": [
       "<Figure size 432x288 with 2 Axes>"
      ]
     },
     "metadata": {},
     "output_type": "display_data"
    },
    {
     "data": {
      "image/png": "[encoded data removed]",
      "text/plain": [
       "<Figure size 432x288 with 1 Axes>"
      ]
     },
     "metadata": {},
     "output_type": "display_data"
    },
    {
     "data": {
      "image/png": "[encoded data removed]",
      "text/plain": [
       "<Figure size 432x288 with 1 Axes>"
      ]
     },
     "metadata": {},
     "output_type": "display_data"
    },
    {
     "data": {
      "image/png": "[encoded data removed]",
      "text/plain": [
       "<Figure size 432x288 with 2 Axes>"
      ]
     },
     "metadata": {},
     "output_type": "display_data"
    },
    {
     "data": {
      "image/png": "[encoded data removed]",
      "text/plain": [
       "<Figure size 432x288 with 1 Axes>"
      ]
     },
     "metadata": {},
     "output_type": "display_data"
    },
    {
     "data": {
      "image/png": "[encoded data removed]",
      "text/plain": [
       "<Figure size 432x288 with 1 Axes>"
      ]
     },
     "metadata": {},
     "output_type": "display_data"
    },
    {
     "data": {
      "image/png": "[encoded data removed]",
      "text/plain": [
       "<Figure size 432x288 with 1 Axes>"
      ]
     },
     "metadata": {},
     "output_type": "display_data"
    },
    {
     "data": {
      "image/png": "[encoded data removed]",
      "text/plain": [
       "<Figure size 432x288 with 1 Axes>"
      ]
     },
     "metadata": {},
     "output_type": "display_data"
    },
    {
     "data": {
      "image/png": "[encoded data removed]",
      "text/plain": [
       "<Figure size 432x288 with 7 Axes>"
      ]
     },
     "metadata": {},
     "output_type": "display_data"
    },
    {
     "data": {
      "image/png": "[encoded data removed]",
      "text/plain": [
       "<Figure size 432x288 with 1 Axes>"
      ]
     },
     "metadata": {},
     "output_type": "display_data"
    },
    {
     "data": {
      "image/png": "[encoded data removed]",
      "text/plain": [
       "<Figure size 432x288 with 1 Axes>"
      ]
     },
     "metadata": {},
     "output_type": "display_data"
    },
    {
     "data": {
      "image/png": "[encoded data removed]",
      "text/plain": [
       "<Figure size 432x288 with 1 Axes>"
      ]
     },
     "metadata": {},
     "output_type": "display_data"
    },
    {
     "data": {
      "image/png": "[encoded data removed]",
      "text/plain": [
       "<Figure size 432x288 with 2 Axes>"
      ]
     },
     "metadata": {},
     "output_type": "display_data"
    },
    {
     "data": {
      "image/png": "[encoded data removed]",
      "text/plain": [
       "<Figure size 432x288 with 1 Axes>"
      ]
     },
     "metadata": {},
     "output_type": "display_data"
    },
    {
     "data": {
      "image/png": "[encoded data removed]",
      "text/plain": [
       "<Figure size 432x288 with 4 Axes>"
      ]
     },
     "metadata": {},
     "output_type": "display_data"
    },
    {
     "data": {
      "image/png": "[encoded data removed]",
      "text/plain": [
       "<Figure size 432x288 with 1 Axes>"
      ]
     },
     "metadata": {},
     "output_type": "display_data"
    },
    {
     "data": {
      "image/png": "[encoded data removed]",
      "text/plain": [
       "<Figure size 432x288 with 1 Axes>"
      ]
     },
     "metadata": {},
     "output_type": "display_data"
    },
    {
     "data": {
      "image/png": "[encoded data removed]",
      "text/plain": [
       "<Figure size 432x288 with 1 Axes>"
      ]
     },
     "metadata": {},
     "output_type": "display_data"
    },
    {
     "data": {
      "image/png": "[encoded data removed]",
      "text/plain": [
       "<Figure size 432x288 with 1 Axes>"
      ]
     },
     "metadata": {},
     "output_type": "display_data"
    },
    {
     "data": {
      "image/png": "[encoded data removed]",
      "text/plain": [
       "<Figure size 432x288 with 2 Axes>"
      ]
     },
     "metadata": {},
     "output_type": "display_data"
    },
    {
     "data": {
      "image/png": "[encoded data removed]",
      "text/plain": [
       "<Figure size 432x288 with 1 Axes>"
      ]
     },
     "metadata": {},
     "output_type": "display_data"
    },
    {
     "data": {
      "image/png": "[encoded data removed]",
      "text/plain": [
       "<Figure size 432x288 with 1 Axes>"
      ]
     },
     "metadata": {},
     "output_type": "display_data"
    },
    {
     "data": {
      "image/png": "[encoded data removed]",
      "text/plain": [
       "<Figure size 432x288 with 1 Axes>"
      ]
     },
     "metadata": {},
     "output_type": "display_data"
    },
    {
     "data": {
      "image/png": "[encoded data removed]",
      "text/plain": [
       "<Figure size 432x288 with 7 Axes>"
      ]
     },
     "metadata": {},
     "output_type": "display_data"
    },
    {
     "data": {
      "image/png": "[encoded data removed]",
      "text/plain": [
       "<Figure size 432x288 with 1 Axes>"
      ]
     },
     "metadata": {},
     "output_type": "display_data"
    },
    {
     "data": {
      "image/png": "[encoded data removed]",
      "text/plain": [
       "<Figure size 432x288 with 1 Axes>"
      ]
     },
     "metadata": {},
     "output_type": "display_data"
    },
    {
     "data": {
      "image/png": "[encoded data removed]",
      "text/plain": [
       "<Figure size 432x288 with 1 Axes>"
      ]
     },
     "metadata": {},
     "output_type": "display_data"
    },
    {
     "data": {
      "image/png": "[encoded data removed]",
      "text/plain": [
       "<Figure size 432x288 with 1 Axes>"
      ]
     },
     "metadata": {},
     "output_type": "display_data"
    },
    {
     "data": {
      "image/png": "[encoded data removed]",
      "text/plain": [
       "<Figure size 432x288 with 1 Axes>"
      ]
     },
     "metadata": {},
     "output_type": "display_data"
    },
    {
     "data": {
      "image/png": "[encoded data removed]",
      "text/plain": [
       "<Figure size 432x288 with 14 Axes>"
      ]
     },
     "metadata": {},
     "output_type": "display_data"
    },
    {
     "data": {
      "image/png": "[encoded data removed]",
      "text/plain": [
       "<Figure size 432x288 with 2 Axes>"
      ]
     },
     "metadata": {},
     "output_type": "display_data"
    },
    {
     "data": {
      "image/png": "[encoded data removed]",
      "text/plain": [
       "<Figure size 432x288 with 1 Axes>"
      ]
     },
     "metadata": {},
     "output_type": "display_data"
    },
    {
     "data": {
      "image/png": "[encoded data removed]",
      "text/plain": [
       "<Figure size 432x288 with 6 Axes>"
      ]
     },
     "metadata": {},
     "output_type": "display_data"
    },
    {
     "data": {
      "image/png": "[encoded data removed]",
      "text/plain": [
       "<Figure size 432x288 with 1 Axes>"
      ]
     },
     "metadata": {},
     "output_type": "display_data"
    },
    {
     "data": {
      "image/png": "[encoded data removed]",
      "text/plain": [
       "<Figure size 432x288 with 1 Axes>"
      ]
     },
     "metadata": {},
     "output_type": "display_data"
    },
    {
     "data": {
      "image/png": "[encoded data removed]",
      "text/plain": [
       "<Figure size 432x288 with 2 Axes>"
      ]
     },
     "metadata": {},
     "output_type": "display_data"
    },
    {
     "data": {
      "image/png": "[encoded data removed]",
      "text/plain": [
       "<Figure size 432x288 with 4 Axes>"
      ]
     },
     "metadata": {},
     "output_type": "display_data"
    },
    {
     "data": {
      "image/png": "[encoded data removed]",
      "text/plain": [
       "<Figure size 432x288 with 3 Axes>"
      ]
     },
     "metadata": {},
     "output_type": "display_data"
    },
    {
     "data": {
      "image/png": "[encoded data removed]",
      "text/plain": [
       "<Figure size 432x288 with 1 Axes>"
      ]
     },
     "metadata": {},
     "output_type": "display_data"
    },
    {
     "data": {
      "image/png": "[encoded data removed]",
      "text/plain": [
       "<Figure size 432x288 with 1 Axes>"
      ]
     },
     "metadata": {},
     "output_type": "display_data"
    },
    {
     "data": {
      "image/png": "[encoded data removed]",
      "text/plain": [
       "<Figure size 432x288 with 1 Axes>"
      ]
     },
     "metadata": {},
     "output_type": "display_data"
    },
    {
     "data": {
      "image/png": "[encoded data removed]",
      "text/plain": [
       "<Figure size 432x288 with 1 Axes>"
      ]
     },
     "metadata": {},
     "output_type": "display_data"
    },
    {
     "data": {
      "image/png": "[encoded data removed]",
      "text/plain": [
       "<Figure size 432x288 with 1 Axes>"
      ]
     },
     "metadata": {},
     "output_type": "display_data"
    },
    {
     "data": {
      "image/png": "[encoded data removed]",
      "text/plain": [
       "<Figure size 432x288 with 1 Axes>"
      ]
     },
     "metadata": {},
     "output_type": "display_data"
    },
    {
     "data": {
      "image/png": "[encoded data removed]",
      "text/plain": [
       "<Figure size 432x288 with 1 Axes>"
      ]
     },
     "metadata": {},
     "output_type": "display_data"
    },
    {
     "data": {
      "image/png": "[encoded data removed]",
      "text/plain": [
       "<Figure size 432x288 with 1 Axes>"
      ]
     },
     "metadata": {},
     "output_type": "display_data"
    },
    {
     "data": {
      "image/png": "[encoded data removed]",
      "text/plain": [
       "<Figure size 432x288 with 1 Axes>"
      ]
     },
     "metadata": {},
     "output_type": "display_data"
    },
    {
     "data": {
      "image/png": "[encoded data removed]",
      "text/plain": [
       "<Figure size 432x288 with 1 Axes>"
      ]
     },
     "metadata": {},
     "output_type": "display_data"
    },
    {
     "data": {
      "image/png": "[encoded data removed]",
      "text/plain": [
       "<Figure size 432x288 with 3 Axes>"
      ]
     },
     "metadata": {},
     "output_type": "display_data"
    }
   ],
   "source": [
    "# visualize clusters with some (arbitrary) threshold\n",
    "for c in clusters:\n",
    "    elements = c.get_cluster_elements()\n",
    "    nbr_elements = len(elements)\n",
    "    figure()\n",
    "    for p in range(nbr_elements):\n",
    "        subplot((nbr_elements//5)+1, 5, p + 1)\n",
    "        #print(elements[p])\n",
    "        im = array(Image.open(imlist[elements[p]]))\n",
    "        imshow(im)\n",
    "        axis('off')\n",
    "    #print(\"-------------------\")\n",
    "show()\n",
    " \n",
    "#hcluster.draw_dendrogram(tree,imlist,filename='cryptopunks_cluster.pdf')"
   ]
  },
  {
   "cell_type": "code",
   "execution_count": 7,
   "metadata": {},
   "outputs": [],
   "source": [
    "import re\n",
    "import time"
   ]
  },
  {
   "cell_type": "code",
   "execution_count": 11,
   "metadata": {},
   "outputs": [],
   "source": [
    "# note that it will scrape all the pictures and save them in your sys_path under \"cryptopunks\" folder\n",
    "# it will take a long long time to download all of the 10000 pictures\n",
    "headers = {'user-agent':'Mozilla/5.0 (Windows NT 10.0; Win64; x64) AppleWebKit/537.36 (KHTML, like Gecko) Chrome/87.0.4280.88 Safari/537.36'}\n",
    "dict={}\n",
    "\n",
    "for i in range(10000):\n",
    "    url = \"https://www.larvalabs.com/cryptopunks/details/\"+str(i).zfill(4)\n",
    "    res = requests.get(url,headers = headers)\n",
    "    soup = BeautifulSoup(res.text,\"html.parser\")\n",
    "    try:\n",
    "        target = soup.select('tr[class=\"punk-history-row-bid\"] td')\n",
    "        price = re.split(r'[()]',str(target[3]))[1]\n",
    "        dict[str(i)]= price\n",
    "    except:\n",
    "        price = \"NaN\"\n",
    "        dict[str(i)]= price\n",
    "    # too small time gap will make you IP banned by Larvalabs, however long time gap make you a lot of time to scrape\n",
    "    time.sleep(1)"
   ]
  },
  {
   "cell_type": "code",
   "execution_count": 40,
   "metadata": {},
   "outputs": [
    {
     "name": "stdout",
     "output_type": "stream",
     "text": [
      "60,\n",
      "\n",
      "['NaN']\n",
      "-------------------\n",
      "7,\n",
      "\n",
      "['$551']\n",
      "-------------------\n",
      "25,\n",
      "\n",
      "['NaN']\n",
      "-------------------\n",
      "15,\n",
      "\n",
      "['$80,008']\n",
      "-------------------\n",
      "80,\n",
      "\n",
      "['NaN']\n",
      "-------------------\n",
      "0,64,\n",
      "\n",
      "['$160,973', 'NaN']\n",
      "-------------------\n",
      "13,\n",
      "\n",
      "['$81,801']\n",
      "-------------------\n",
      "96,\n",
      "\n",
      "['NaN']\n",
      "-------------------\n",
      "53,91,\n",
      "\n",
      "['$77,772', 'NaN']\n",
      "-------------------\n",
      "12,\n",
      "\n",
      "['$65']\n",
      "-------------------\n",
      "94,\n",
      "\n",
      "['NaN']\n",
      "-------------------\n",
      "30,\n",
      "\n",
      "['NaN']\n",
      "-------------------\n",
      "37,\n",
      "\n",
      "['NaN']\n",
      "-------------------\n",
      "74,1,79,47,77,56,63,\n",
      "\n",
      "['NaN', '$36,305', 'NaN', 'NaN', 'NaN', 'NaN', 'NaN']\n",
      "-------------------\n",
      "52,\n",
      "\n",
      "['$0']\n",
      "-------------------\n",
      "68,\n",
      "\n",
      "['NaN']\n",
      "-------------------\n",
      "22,\n",
      "\n",
      "['NaN']\n",
      "-------------------\n",
      "19,49,\n",
      "\n",
      "['$470', 'NaN']\n",
      "-------------------\n",
      "86,\n",
      "\n",
      "['NaN']\n",
      "-------------------\n",
      "31,89,10,62,\n",
      "\n",
      "['NaN', 'NaN', '$45,336', 'NaN']\n",
      "-------------------\n",
      "8,\n",
      "\n",
      "['$3,618']\n",
      "-------------------\n",
      "67,\n",
      "\n",
      "['NaN']\n",
      "-------------------\n",
      "66,\n",
      "\n",
      "['NaN']\n",
      "-------------------\n",
      "35,\n",
      "\n",
      "['NaN']\n",
      "-------------------\n",
      "41,42,\n",
      "\n",
      "['NaN', '$1']\n",
      "-------------------\n",
      "14,\n",
      "\n",
      "['$64,905']\n",
      "-------------------\n",
      "72,\n",
      "\n",
      "['NaN']\n",
      "-------------------\n",
      "2,\n",
      "\n",
      "['$12,718']\n",
      "-------------------\n",
      "34,38,84"
     ]
    },
    {
     "name": "stderr",
     "output_type": "stream",
     "text": [
      "E:\\anaconda3\\lib\\site-packages\\matplotlib\\pyplot.py:537: RuntimeWarning: More than 20 figures have been opened. Figures created through the pyplot interface (`matplotlib.pyplot.figure`) are retained until explicitly closed and may consume too much memory. (To control this warning, see the rcParam `figure.max_open_warning`).\n",
      "  max_open_warning, RuntimeWarning)\n"
     ]
    },
    {
     "name": "stdout",
     "output_type": "stream",
     "text": [
      ",21,71,61,98,\n",
      "\n",
      "['NaN', 'NaN', 'NaN', 'NaN', 'NaN', 'NaN', 'NaN']\n",
      "-------------------\n",
      "92,\n",
      "\n",
      "['NaN']\n",
      "-------------------\n",
      "75,\n",
      "\n",
      "['NaN']\n",
      "-------------------\n",
      "88,\n",
      "\n",
      "['NaN']\n",
      "-------------------\n",
      "93,\n",
      "\n",
      "['NaN']\n",
      "-------------------\n",
      "40,\n",
      "\n",
      "['$14']\n",
      "-------------------\n",
      "48,27,33,17,24,32,39,83,44,55,57,81,23,76,\n",
      "\n",
      "['$431', 'NaN', 'NaN', '$26', 'NaN', 'NaN', '$44', 'NaN', '$41,717', '$12,883', 'NaN', 'NaN', 'NaN', 'NaN']\n",
      "-------------------\n",
      "50,69,\n",
      "\n",
      "['$119', 'NaN']\n",
      "-------------------\n",
      "65,\n",
      "\n",
      "['NaN']\n",
      "-------------------\n",
      "11,46,26,29,5,43,\n",
      "\n",
      "['NaN', 'NaN', 'NaN', 'NaN', '$1,613', '$86']\n",
      "-------------------\n",
      "36,\n",
      "\n",
      "['NaN']\n",
      "-------------------\n",
      "73,\n",
      "\n",
      "['NaN']\n",
      "-------------------\n",
      "45,95,\n",
      "\n",
      "['NaN', 'NaN']\n",
      "-------------------\n",
      "6,78,16,18,\n",
      "\n",
      "['$10,126', 'NaN', '$3,011', 'NaN']\n",
      "-------------------\n",
      "4,51,97,\n",
      "\n",
      "['$621', '$0', 'NaN']\n",
      "-------------------\n",
      "9,\n",
      "\n",
      "['$13,597']\n",
      "-------------------\n",
      "70,\n",
      "\n",
      "['NaN']\n",
      "-------------------\n",
      "59,\n",
      "\n",
      "['NaN']\n",
      "-------------------\n",
      "82,\n",
      "\n",
      "['NaN']\n",
      "-------------------\n",
      "20,\n",
      "\n",
      "['NaN']\n",
      "-------------------\n",
      "28,\n",
      "\n",
      "['NaN']\n",
      "-------------------\n",
      "85,\n",
      "\n",
      "['NaN']\n",
      "-------------------\n",
      "3,\n",
      "\n",
      "['$11,638']\n",
      "-------------------\n",
      "54,\n",
      "\n",
      "['$20,656']\n",
      "-------------------\n",
      "87,\n",
      "\n",
      "['NaN']\n",
      "-------------------\n",
      "99,58,90,\n",
      "\n",
      "['NaN', '$1,119', 'NaN']\n",
      "-------------------\n"
     ]
    },
    {
     "data": {
      "image/png": "[encoded data removed]",
      "text/plain": [
       "<Figure size 432x288 with 1 Axes>"
      ]
     },
     "metadata": {},
     "output_type": "display_data"
    },
    {
     "data": {
      "image/png": "[encoded data removed]",
      "text/plain": [
       "<Figure size 432x288 with 1 Axes>"
      ]
     },
     "metadata": {},
     "output_type": "display_data"
    },
    {
     "data": {
      "image/png": "[encoded data removed]",
      "text/plain": [
       "<Figure size 432x288 with 1 Axes>"
      ]
     },
     "metadata": {},
     "output_type": "display_data"
    },
    {
     "data": {
      "image/png": "[encoded data removed]",
      "text/plain": [
       "<Figure size 432x288 with 1 Axes>"
      ]
     },
     "metadata": {},
     "output_type": "display_data"
    },
    {
     "data": {
      "image/png": "[encoded data removed]",
      "text/plain": [
       "<Figure size 432x288 with 1 Axes>"
      ]
     },
     "metadata": {},
     "output_type": "display_data"
    },
    {
     "data": {
      "image/png": "[encoded data removed]",
      "text/plain": [
       "<Figure size 432x288 with 2 Axes>"
      ]
     },
     "metadata": {},
     "output_type": "display_data"
    },
    {
     "data": {
      "image/png": "[encoded data removed]",
      "text/plain": [
       "<Figure size 432x288 with 1 Axes>"
      ]
     },
     "metadata": {},
     "output_type": "display_data"
    },
    {
     "data": {
      "image/png": "[encoded data removed]",
      "text/plain": [
       "<Figure size 432x288 with 1 Axes>"
      ]
     },
     "metadata": {},
     "output_type": "display_data"
    },
    {
     "data": {
      "image/png": "[encoded data removed]",
      "text/plain": [
       "<Figure size 432x288 with 2 Axes>"
      ]
     },
     "metadata": {},
     "output_type": "display_data"
    },
    {
     "data": {
      "image/png": "[encoded data removed]",
      "text/plain": [
       "<Figure size 432x288 with 1 Axes>"
      ]
     },
     "metadata": {},
     "output_type": "display_data"
    },
    {
     "data": {
      "image/png": "[encoded data removed]",
      "text/plain": [
       "<Figure size 432x288 with 1 Axes>"
      ]
     },
     "metadata": {},
     "output_type": "display_data"
    },
    {
     "data": {
      "image/png": "[encoded data removed]",
      "text/plain": [
       "<Figure size 432x288 with 1 Axes>"
      ]
     },
     "metadata": {},
     "output_type": "display_data"
    },
    {
     "data": {
      "image/png": "[encoded data removed]",
      "text/plain": [
       "<Figure size 432x288 with 1 Axes>"
      ]
     },
     "metadata": {},
     "output_type": "display_data"
    },
    {
     "data": {
      "image/png": "[encoded data removed]",
      "text/plain": [
       "<Figure size 432x288 with 7 Axes>"
      ]
     },
     "metadata": {},
     "output_type": "display_data"
    },
    {
     "data": {
      "image/png": "[encoded data removed]",
      "text/plain": [
       "<Figure size 432x288 with 1 Axes>"
      ]
     },
     "metadata": {},
     "output_type": "display_data"
    },
    {
     "data": {
      "image/png": "[encoded data removed]",
      "text/plain": [
       "<Figure size 432x288 with 1 Axes>"
      ]
     },
     "metadata": {},
     "output_type": "display_data"
    },
    {
     "data": {
      "image/png": "[encoded data removed]",
      "text/plain": [
       "<Figure size 432x288 with 1 Axes>"
      ]
     },
     "metadata": {},
     "output_type": "display_data"
    },
    {
     "data": {
      "image/png": "[encoded data removed]",
      "text/plain": [
       "<Figure size 432x288 with 2 Axes>"
      ]
     },
     "metadata": {},
     "output_type": "display_data"
    },
    {
     "data": {
      "image/png": "[encoded data removed]",
      "text/plain": [
       "<Figure size 432x288 with 1 Axes>"
      ]
     },
     "metadata": {},
     "output_type": "display_data"
    },
    {
     "data": {
      "image/png": "[encoded data removed]",
      "text/plain": [
       "<Figure size 432x288 with 4 Axes>"
      ]
     },
     "metadata": {},
     "output_type": "display_data"
    },
    {
     "data": {
      "image/png": "[encoded data removed]",
      "text/plain": [
       "<Figure size 432x288 with 1 Axes>"
      ]
     },
     "metadata": {},
     "output_type": "display_data"
    },
    {
     "data": {
      "image/png": "[encoded data removed]",
      "text/plain": [
       "<Figure size 432x288 with 1 Axes>"
      ]
     },
     "metadata": {},
     "output_type": "display_data"
    },
    {
     "data": {
      "image/png": "[encoded data removed]",
      "text/plain": [
       "<Figure size 432x288 with 1 Axes>"
      ]
     },
     "metadata": {},
     "output_type": "display_data"
    },
    {
     "data": {
      "image/png": "[encoded data removed]",
      "text/plain": [
       "<Figure size 432x288 with 1 Axes>"
      ]
     },
     "metadata": {},
     "output_type": "display_data"
    },
    {
     "data": {
      "image/png": "[encoded data removed]",
      "text/plain": [
       "<Figure size 432x288 with 2 Axes>"
      ]
     },
     "metadata": {},
     "output_type": "display_data"
    },
    {
     "data": {
      "image/png": "[encoded data removed]",
      "text/plain": [
       "<Figure size 432x288 with 1 Axes>"
      ]
     },
     "metadata": {},
     "output_type": "display_data"
    },
    {
     "data": {
      "image/png": "[encoded data removed]",
      "text/plain": [
       "<Figure size 432x288 with 1 Axes>"
      ]
     },
     "metadata": {},
     "output_type": "display_data"
    },
    {
     "data": {
      "image/png": "[encoded data removed]",
      "text/plain": [
       "<Figure size 432x288 with 1 Axes>"
      ]
     },
     "metadata": {},
     "output_type": "display_data"
    },
    {
     "data": {
      "image/png": "[encoded data removed]",
      "text/plain": [
       "<Figure size 432x288 with 7 Axes>"
      ]
     },
     "metadata": {},
     "output_type": "display_data"
    },
    {
     "data": {
      "image/png": "[encoded data removed]",
      "text/plain": [
       "<Figure size 432x288 with 1 Axes>"
      ]
     },
     "metadata": {},
     "output_type": "display_data"
    },
    {
     "data": {
      "image/png": "[encoded data removed]",
      "text/plain": [
       "<Figure size 432x288 with 1 Axes>"
      ]
     },
     "metadata": {},
     "output_type": "display_data"
    },
    {
     "data": {
      "image/png": "[encoded data removed]",
      "text/plain": [
       "<Figure size 432x288 with 1 Axes>"
      ]
     },
     "metadata": {},
     "output_type": "display_data"
    },
    {
     "data": {
      "image/png": "[encoded data removed]",
      "text/plain": [
       "<Figure size 432x288 with 1 Axes>"
      ]
     },
     "metadata": {},
     "output_type": "display_data"
    },
    {
     "data": {
      "image/png": "[encoded data removed]",
      "text/plain": [
       "<Figure size 432x288 with 1 Axes>"
      ]
     },
     "metadata": {},
     "output_type": "display_data"
    },
    {
     "data": {
      "image/png": "[encoded data removed]",
      "text/plain": [
       "<Figure size 432x288 with 14 Axes>"
      ]
     },
     "metadata": {},
     "output_type": "display_data"
    },
    {
     "data": {
      "image/png": "[encoded data removed]",
      "text/plain": [
       "<Figure size 432x288 with 2 Axes>"
      ]
     },
     "metadata": {},
     "output_type": "display_data"
    },
    {
     "data": {
      "image/png": "[encoded data removed]",
      "text/plain": [
       "<Figure size 432x288 with 1 Axes>"
      ]
     },
     "metadata": {},
     "output_type": "display_data"
    },
    {
     "data": {
      "image/png": "[encoded data removed]",
      "text/plain": [
       "<Figure size 432x288 with 6 Axes>"
      ]
     },
     "metadata": {},
     "output_type": "display_data"
    },
    {
     "data": {
      "image/png": "[encoded data removed]",
      "text/plain": [
       "<Figure size 432x288 with 1 Axes>"
      ]
     },
     "metadata": {},
     "output_type": "display_data"
    },
    {
     "data": {
      "image/png": "[encoded data removed]",
      "text/plain": [
       "<Figure size 432x288 with 1 Axes>"
      ]
     },
     "metadata": {},
     "output_type": "display_data"
    },
    {
     "data": {
      "image/png": "[encoded data removed]",
      "text/plain": [
       "<Figure size 432x288 with 2 Axes>"
      ]
     },
     "metadata": {},
     "output_type": "display_data"
    },
    {
     "data": {
      "image/png": "[encoded data removed]",
      "text/plain": [
       "<Figure size 432x288 with 4 Axes>"
      ]
     },
     "metadata": {},
     "output_type": "display_data"
    },
    {
     "data": {
      "image/png": "[encoded data removed]",
      "text/plain": [
       "<Figure size 432x288 with 3 Axes>"
      ]
     },
     "metadata": {},
     "output_type": "display_data"
    },
    {
     "data": {
      "image/png": "[encoded data removed]",
      "text/plain": [
       "<Figure size 432x288 with 1 Axes>"
      ]
     },
     "metadata": {},
     "output_type": "display_data"
    },
    {
     "data": {
      "image/png": "[encoded data removed]",
      "text/plain": [
       "<Figure size 432x288 with 1 Axes>"
      ]
     },
     "metadata": {},
     "output_type": "display_data"
    },
    {
     "data": {
      "image/png": "[encoded data removed]",
      "text/plain": [
       "<Figure size 432x288 with 1 Axes>"
      ]
     },
     "metadata": {},
     "output_type": "display_data"
    },
    {
     "data": {
      "image/png": "[encoded data removed]",
      "text/plain": [
       "<Figure size 432x288 with 1 Axes>"
      ]
     },
     "metadata": {},
     "output_type": "display_data"
    },
    {
     "data": {
      "image/png": "[encoded data removed]",
      "text/plain": [
       "<Figure size 432x288 with 1 Axes>"
      ]
     },
     "metadata": {},
     "output_type": "display_data"
    },
    {
     "data": {
      "image/png": "[encoded data removed]",
      "text/plain": [
       "<Figure size 432x288 with 1 Axes>"
      ]
     },
     "metadata": {},
     "output_type": "display_data"
    },
    {
     "data": {
      "image/png": "[encoded data removed]",
      "text/plain": [
       "<Figure size 432x288 with 1 Axes>"
      ]
     },
     "metadata": {},
     "output_type": "display_data"
    },
    {
     "data": {
      "image/png": "[encoded data removed]",
      "text/plain": [
       "<Figure size 432x288 with 1 Axes>"
      ]
     },
     "metadata": {},
     "output_type": "display_data"
    },
    {
     "data": {
      "image/png": "[encoded data removed]",
      "text/plain": [
       "<Figure size 432x288 with 1 Axes>"
      ]
     },
     "metadata": {},
     "output_type": "display_data"
    },
    {
     "data": {
      "image/png": "[encoded data removed]",
      "text/plain": [
       "<Figure size 432x288 with 1 Axes>"
      ]
     },
     "metadata": {},
     "output_type": "display_data"
    },
    {
     "data": {
      "image/png": "[encoded data removed]",
      "text/plain": [
       "<Figure size 432x288 with 3 Axes>"
      ]
     },
     "metadata": {},
     "output_type": "display_data"
    }
   ],
   "source": [
    "for c in clusters:\n",
    "    elements = c.get_cluster_elements()\n",
    "    nbr_elements = len(elements)\n",
    "    figure()\n",
    "    price = []\n",
    "    for p in range(nbr_elements):\n",
    "        subplot((nbr_elements//5)+1, 5, p + 1)\n",
    "        print(elements[p],end = \",\")\n",
    "        p = dict[str(elements[p])]\n",
    "        #if p != 'NaN':\n",
    "        price.append(p)\n",
    "    #print(\"The average price of this cluster is {:0.2f}\".format(mean(price)))\n",
    "    print(\"\\n\")\n",
    "    print(price)\n",
    "    print(\"-------------------\")"
   ]
  }
 ],
 "metadata": {
  "kernelspec": {
   "display_name": "Python 3",
   "language": "python",
   "name": "python3"
  },
  "language_info": {
   "codemirror_mode": {
    "name": "ipython",
    "version": 3
   },
   "file_extension": ".py",
   "mimetype": "text/x-python",
   "name": "python",
   "nbconvert_exporter": "python",
   "pygments_lexer": "ipython3",
   "version": "3.6.5"
  }
 },
 "nbformat": 4,
 "nbformat_minor": 2
}
