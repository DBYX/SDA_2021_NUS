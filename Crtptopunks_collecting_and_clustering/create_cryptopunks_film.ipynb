{
 "cells": [
  {
   "cell_type": "code",
   "execution_count": 1,
   "metadata": {},
   "outputs": [],
   "source": [
    "# install cv2 package if you don't have this package\n",
    "import cv2\n",
    "import os\n",
    "import random\n",
    "import numpy as np"
   ]
  },
  {
   "cell_type": "code",
   "execution_count": 2,
   "metadata": {},
   "outputs": [],
   "source": [
    "# make sure you have all the cryptopunks in your Crypto_punks folder. Otherwise you shoulod run Collecting_cryptopunks first\n",
    "path = './Crypto_punks'\n",
    "imlist = [os.path.join(path, f) for f in os.listdir(path) if f.endswith('.png')]"
   ]
  },
  {
   "cell_type": "code",
   "execution_count": 3,
   "metadata": {},
   "outputs": [
    {
     "data": {
      "text/plain": [
       "'./Crypto_punks\\\\0000.png'"
      ]
     },
     "execution_count": 3,
     "metadata": {},
     "output_type": "execute_result"
    }
   ],
   "source": [
    "imlist[0]"
   ]
  },
  {
   "cell_type": "code",
   "execution_count": 10,
   "metadata": {},
   "outputs": [
    {
     "name": "stdout",
     "output_type": "stream",
     "text": [
      "(24, 24)\n"
     ]
    }
   ],
   "source": [
    "img = cv2.imread(imlist[0])  # read the first images\n",
    "# set the fps for the speed of changing images\n",
    "fps = 2\n",
    "imgInfo = img.shape\n",
    "size = (imgInfo[1],imgInfo[0])  # get the length and height of the image info\n",
    "print(size)"
   ]
  },
  {
   "cell_type": "code",
   "execution_count": 11,
   "metadata": {},
   "outputs": [],
   "source": [
    "# here random choose 1000 image index for creating the film\n",
    "nsize = 500\n",
    "index = np.random.randint(0,9999,size=nsize)"
   ]
  },
  {
   "cell_type": "code",
   "execution_count": 12,
   "metadata": {},
   "outputs": [],
   "source": [
    "fourcc = cv2.VideoWriter_fourcc(*\"MJPG\")\n",
    "videoWrite = cv2.VideoWriter('output'+str(nsize)+\"_fps\"+str(fps)+'.avi',fourcc,fps,size) # 根据图片的大小，创建写入对象 （文件名，支持的编码器，5帧，视频大小（图片大小））\n",
    "# videoWrite = cv2.VideoWriter('0.mp4',fourcc,fps,(1920,1080))\n"
   ]
  },
  {
   "cell_type": "code",
   "execution_count": 13,
   "metadata": {},
   "outputs": [],
   "source": [
    "files = os.listdir('./Crypto_punks/')\n",
    "out_num = len(files)\n",
    "for i in range(0,nsize):\n",
    "    fileName = './Crypto_punks/'+str(index[i]).zfill(4)+'.png'    # 循环读取图片,假设以数字顺序命名\n",
    "    #print(fileName)\n",
    "    img = cv2.imread(fileName)\n",
    "    videoWrite.write(img)\n",
    "videoWrite.release();"
   ]
  },
  {
   "cell_type": "code",
   "execution_count": null,
   "metadata": {},
   "outputs": [],
   "source": []
  }
 ],
 "metadata": {
  "kernelspec": {
   "display_name": "Python 3",
   "language": "python",
   "name": "python3"
  },
  "language_info": {
   "codemirror_mode": {
    "name": "ipython",
    "version": 3
   },
   "file_extension": ".py",
   "mimetype": "text/x-python",
   "name": "python",
   "nbconvert_exporter": "python",
   "pygments_lexer": "ipython3",
   "version": "3.6.5"
  }
 },
 "nbformat": 4,
 "nbformat_minor": 2
}
