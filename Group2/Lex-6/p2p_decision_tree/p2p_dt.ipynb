{
 "cells": [
  {
   "cell_type": "code",
   "execution_count": 25,
   "metadata": {},
   "outputs": [],
   "source": [
    "import pandas as pd\n",
    "from sklearn.tree import DecisionTreeClassifier\n",
    "from sklearn.model_selection import train_test_split\n",
    "from sklearn.metrics import accuracy_score\n",
    "import joblib\n",
    "from sklearn import tree\n",
    "import graphviz"
   ]
  },
  {
   "cell_type": "code",
   "execution_count": 5,
   "metadata": {},
   "outputs": [],
   "source": [
    "data = pd.read_csv('./p2p.csv', index_col=0)\n",
    "y = data.status\n",
    "X = data.drop(['status', 'nace'], axis=1)"
   ]
  },
  {
   "cell_type": "code",
   "execution_count": 6,
   "metadata": {},
   "outputs": [
    {
     "data": {
      "text/plain": [
       "1    1\n",
       "2    1\n",
       "3    1\n",
       "4    1\n",
       "5    1\n",
       "Name: status, dtype: int64"
      ]
     },
     "execution_count": 6,
     "metadata": {},
     "output_type": "execute_result"
    }
   ],
   "source": [
    "y.head()"
   ]
  },
  {
   "cell_type": "code",
   "execution_count": 7,
   "metadata": {},
   "outputs": [
    {
     "data": {
      "text/html": [
       "<div>\n",
       "<style scoped>\n",
       "    .dataframe tbody tr th:only-of-type {\n",
       "        vertical-align: middle;\n",
       "    }\n",
       "\n",
       "    .dataframe tbody tr th {\n",
       "        vertical-align: top;\n",
       "    }\n",
       "\n",
       "    .dataframe thead th {\n",
       "        text-align: right;\n",
       "    }\n",
       "</style>\n",
       "<table border=\"1\" class=\"dataframe\">\n",
       "  <thead>\n",
       "    <tr style=\"text-align: right;\">\n",
       "      <th></th>\n",
       "      <th>ratio001</th>\n",
       "      <th>ratio002</th>\n",
       "      <th>ratio003</th>\n",
       "      <th>ratio004</th>\n",
       "      <th>ratio005</th>\n",
       "      <th>ratio006</th>\n",
       "      <th>ratio008</th>\n",
       "      <th>ratio011</th>\n",
       "      <th>ratio012</th>\n",
       "      <th>ratio017</th>\n",
       "      <th>...</th>\n",
       "      <th>ratio029</th>\n",
       "      <th>ratio030</th>\n",
       "      <th>DIO</th>\n",
       "      <th>DPO</th>\n",
       "      <th>DSO</th>\n",
       "      <th>turnover</th>\n",
       "      <th>ratio036</th>\n",
       "      <th>ratio037</th>\n",
       "      <th>ratio039</th>\n",
       "      <th>ratio040</th>\n",
       "    </tr>\n",
       "  </thead>\n",
       "  <tbody>\n",
       "    <tr>\n",
       "      <th>1</th>\n",
       "      <td>-0.238174</td>\n",
       "      <td>-0.155186</td>\n",
       "      <td>-0.124784</td>\n",
       "      <td>-0.422984</td>\n",
       "      <td>-0.441998</td>\n",
       "      <td>-0.281685</td>\n",
       "      <td>-0.476657</td>\n",
       "      <td>-3.467956</td>\n",
       "      <td>-3.405227</td>\n",
       "      <td>-1.297426</td>\n",
       "      <td>...</td>\n",
       "      <td>-0.296393</td>\n",
       "      <td>-0.301233</td>\n",
       "      <td>-0.297901</td>\n",
       "      <td>-0.462928</td>\n",
       "      <td>-0.722769</td>\n",
       "      <td>-0.381662</td>\n",
       "      <td>1</td>\n",
       "      <td>1</td>\n",
       "      <td>1</td>\n",
       "      <td>1</td>\n",
       "    </tr>\n",
       "    <tr>\n",
       "      <th>2</th>\n",
       "      <td>-0.758472</td>\n",
       "      <td>-0.356497</td>\n",
       "      <td>-0.659060</td>\n",
       "      <td>-0.076745</td>\n",
       "      <td>0.260873</td>\n",
       "      <td>-0.515998</td>\n",
       "      <td>-1.119889</td>\n",
       "      <td>1.754630</td>\n",
       "      <td>0.921839</td>\n",
       "      <td>4.328932</td>\n",
       "      <td>...</td>\n",
       "      <td>-0.672340</td>\n",
       "      <td>-0.643458</td>\n",
       "      <td>-0.317154</td>\n",
       "      <td>-0.279493</td>\n",
       "      <td>-0.198444</td>\n",
       "      <td>4.591706</td>\n",
       "      <td>1</td>\n",
       "      <td>1</td>\n",
       "      <td>1</td>\n",
       "      <td>1</td>\n",
       "    </tr>\n",
       "    <tr>\n",
       "      <th>3</th>\n",
       "      <td>-0.333616</td>\n",
       "      <td>-0.207378</td>\n",
       "      <td>0.508892</td>\n",
       "      <td>-0.263181</td>\n",
       "      <td>-0.496910</td>\n",
       "      <td>-0.276421</td>\n",
       "      <td>-0.372174</td>\n",
       "      <td>-0.547247</td>\n",
       "      <td>-0.088445</td>\n",
       "      <td>1.102322</td>\n",
       "      <td>...</td>\n",
       "      <td>-0.254621</td>\n",
       "      <td>-0.263208</td>\n",
       "      <td>-0.224098</td>\n",
       "      <td>-0.268703</td>\n",
       "      <td>-0.603186</td>\n",
       "      <td>0.408384</td>\n",
       "      <td>1</td>\n",
       "      <td>1</td>\n",
       "      <td>1</td>\n",
       "      <td>1</td>\n",
       "    </tr>\n",
       "    <tr>\n",
       "      <th>4</th>\n",
       "      <td>-0.444811</td>\n",
       "      <td>-0.478278</td>\n",
       "      <td>-1.056660</td>\n",
       "      <td>0.145204</td>\n",
       "      <td>-0.255298</td>\n",
       "      <td>-0.239247</td>\n",
       "      <td>-0.424368</td>\n",
       "      <td>-3.467956</td>\n",
       "      <td>0.064050</td>\n",
       "      <td>1.449654</td>\n",
       "      <td>...</td>\n",
       "      <td>-0.547024</td>\n",
       "      <td>-0.529383</td>\n",
       "      <td>-0.166338</td>\n",
       "      <td>-0.398186</td>\n",
       "      <td>-0.685974</td>\n",
       "      <td>0.094786</td>\n",
       "      <td>1</td>\n",
       "      <td>1</td>\n",
       "      <td>1</td>\n",
       "      <td>1</td>\n",
       "    </tr>\n",
       "    <tr>\n",
       "      <th>5</th>\n",
       "      <td>-0.479096</td>\n",
       "      <td>-0.523014</td>\n",
       "      <td>-1.156061</td>\n",
       "      <td>-0.902393</td>\n",
       "      <td>-0.749504</td>\n",
       "      <td>-0.371168</td>\n",
       "      <td>-0.400809</td>\n",
       "      <td>1.754630</td>\n",
       "      <td>-0.107507</td>\n",
       "      <td>0.039276</td>\n",
       "      <td>...</td>\n",
       "      <td>-3.076732</td>\n",
       "      <td>-2.924961</td>\n",
       "      <td>-0.320363</td>\n",
       "      <td>-0.160800</td>\n",
       "      <td>0.638637</td>\n",
       "      <td>0.040900</td>\n",
       "      <td>1</td>\n",
       "      <td>1</td>\n",
       "      <td>1</td>\n",
       "      <td>1</td>\n",
       "    </tr>\n",
       "  </tbody>\n",
       "</table>\n",
       "<p>5 rows × 23 columns</p>\n",
       "</div>"
      ],
      "text/plain": [
       "   ratio001  ratio002  ratio003  ratio004  ratio005  ratio006  ratio008  \\\n",
       "1 -0.238174 -0.155186 -0.124784 -0.422984 -0.441998 -0.281685 -0.476657   \n",
       "2 -0.758472 -0.356497 -0.659060 -0.076745  0.260873 -0.515998 -1.119889   \n",
       "3 -0.333616 -0.207378  0.508892 -0.263181 -0.496910 -0.276421 -0.372174   \n",
       "4 -0.444811 -0.478278 -1.056660  0.145204 -0.255298 -0.239247 -0.424368   \n",
       "5 -0.479096 -0.523014 -1.156061 -0.902393 -0.749504 -0.371168 -0.400809   \n",
       "\n",
       "   ratio011  ratio012  ratio017  ...  ratio029  ratio030       DIO       DPO  \\\n",
       "1 -3.467956 -3.405227 -1.297426  ... -0.296393 -0.301233 -0.297901 -0.462928   \n",
       "2  1.754630  0.921839  4.328932  ... -0.672340 -0.643458 -0.317154 -0.279493   \n",
       "3 -0.547247 -0.088445  1.102322  ... -0.254621 -0.263208 -0.224098 -0.268703   \n",
       "4 -3.467956  0.064050  1.449654  ... -0.547024 -0.529383 -0.166338 -0.398186   \n",
       "5  1.754630 -0.107507  0.039276  ... -3.076732 -2.924961 -0.320363 -0.160800   \n",
       "\n",
       "        DSO  turnover  ratio036  ratio037  ratio039  ratio040  \n",
       "1 -0.722769 -0.381662         1         1         1         1  \n",
       "2 -0.198444  4.591706         1         1         1         1  \n",
       "3 -0.603186  0.408384         1         1         1         1  \n",
       "4 -0.685974  0.094786         1         1         1         1  \n",
       "5  0.638637  0.040900         1         1         1         1  \n",
       "\n",
       "[5 rows x 23 columns]"
      ]
     },
     "execution_count": 7,
     "metadata": {},
     "output_type": "execute_result"
    }
   ],
   "source": [
    "X.head()"
   ]
  },
  {
   "cell_type": "code",
   "execution_count": 8,
   "metadata": {},
   "outputs": [
    {
     "data": {
      "text/plain": [
       "0.864406779661017"
      ]
     },
     "execution_count": 8,
     "metadata": {},
     "output_type": "execute_result"
    }
   ],
   "source": [
    "X_train, X_test, y_train, y_test = train_test_split(X, y, test_size = 0.2)\n",
    "model = DecisionTreeClassifier()\n",
    "model.fit(X_train, y_train)\n",
    "predictions = model.predict(X_test)\n",
    "score = accuracy_score(y_test, predictions)\n",
    "score"
   ]
  },
  {
   "cell_type": "code",
   "execution_count": 10,
   "metadata": {},
   "outputs": [
    {
     "data": {
      "text/plain": [
       "['p2p.joblib']"
      ]
     },
     "execution_count": 10,
     "metadata": {},
     "output_type": "execute_result"
    }
   ],
   "source": [
    "model = DecisionTreeClassifier()\n",
    "model.fit(X, y)\n",
    "joblib.dump(model, \"p2p.joblib\")"
   ]
  },
  {
   "cell_type": "code",
   "execution_count": 17,
   "metadata": {},
   "outputs": [],
   "source": [
    "model = joblib.load(\"p2p.joblib\")"
   ]
  },
  {
   "cell_type": "code",
   "execution_count": 13,
   "metadata": {},
   "outputs": [
    {
     "data": {
      "text/plain": [
       "['ratio001',\n",
       " 'ratio002',\n",
       " 'ratio003',\n",
       " 'ratio004',\n",
       " 'ratio005',\n",
       " 'ratio006',\n",
       " 'ratio008',\n",
       " 'ratio011',\n",
       " 'ratio012',\n",
       " 'ratio017',\n",
       " 'ratio018',\n",
       " 'ratio019',\n",
       " 'ratio027',\n",
       " 'ratio029',\n",
       " 'ratio030',\n",
       " 'DIO',\n",
       " 'DPO',\n",
       " 'DSO',\n",
       " 'turnover',\n",
       " 'ratio036',\n",
       " 'ratio037',\n",
       " 'ratio039',\n",
       " 'ratio040']"
      ]
     },
     "execution_count": 13,
     "metadata": {},
     "output_type": "execute_result"
    }
   ],
   "source": [
    "list(X.columns)"
   ]
  },
  {
   "cell_type": "markdown",
   "metadata": {},
   "source": [
    "## Visualizing a Decision Tree"
   ]
  },
  {
   "cell_type": "code",
   "execution_count": 20,
   "metadata": {},
   "outputs": [
    {
     "data": {
      "text/plain": [
       "DecisionTreeClassifier()"
      ]
     },
     "execution_count": 20,
     "metadata": {},
     "output_type": "execute_result"
    }
   ],
   "source": [
    "p2p_data = pd.read_csv(\"p2p.csv\")\n",
    "X = p2p_data.drop(columns = [\"status\"])\n",
    "y = p2p_data[\"status\"]\n",
    "model = DecisionTreeClassifier()\n",
    "model.fit(X, y)"
   ]
  },
  {
   "cell_type": "code",
   "execution_count": 28,
   "metadata": {},
   "outputs": [
    {
     "data": {
      "text/plain": [
       "'p2p.pdf'"
      ]
     },
     "execution_count": 28,
     "metadata": {},
     "output_type": "execute_result"
    }
   ],
   "source": [
    "dot_data = tree.export_graphviz(model, \n",
    "                    out_file = None,\n",
    "                    feature_names = list(X.columns),\n",
    "                    class_names = ['0', '1'],\n",
    "                    label = \"all\",\n",
    "                    rounded = True,\n",
    "                    impurity=False,\n",
    "                    special_characters=True,\n",
    "                    filled = True)\n",
    "graph = graphviz.Source(dot_data)\n",
    "graph.render(\"p2p\", view = True)"
   ]
  },
  {
   "cell_type": "code",
   "execution_count": null,
   "metadata": {},
   "outputs": [],
   "source": []
  }
 ],
 "metadata": {
  "kernelspec": {
   "display_name": "Python 3",
   "language": "python",
   "name": "python3"
  },
  "language_info": {
   "codemirror_mode": {
    "name": "ipython",
    "version": 3
   },
   "file_extension": ".py",
   "mimetype": "text/x-python",
   "name": "python",
   "nbconvert_exporter": "python",
   "pygments_lexer": "ipython3",
   "version": "3.8.5"
  }
 },
 "nbformat": 4,
 "nbformat_minor": 4
}
