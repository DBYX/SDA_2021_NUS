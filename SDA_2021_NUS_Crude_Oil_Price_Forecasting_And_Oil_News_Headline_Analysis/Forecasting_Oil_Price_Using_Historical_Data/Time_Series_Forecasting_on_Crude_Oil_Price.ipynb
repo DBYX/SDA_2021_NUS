{
 "cells": [
  {
   "cell_type": "code",
   "execution_count": 2,
   "metadata": {},
   "outputs": [
    {
     "name": "stderr",
     "output_type": "stream",
     "text": [
      "Using TensorFlow backend.\n",
      "/anaconda3/lib/python3.6/site-packages/tensorflow/python/framework/dtypes.py:516: FutureWarning: Passing (type, 1) or '1type' as a synonym of type is deprecated; in a future version of numpy, it will be understood as (type, (1,)) / '(1,)type'.\n",
      "  _np_qint8 = np.dtype([(\"qint8\", np.int8, 1)])\n",
      "/anaconda3/lib/python3.6/site-packages/tensorflow/python/framework/dtypes.py:517: FutureWarning: Passing (type, 1) or '1type' as a synonym of type is deprecated; in a future version of numpy, it will be understood as (type, (1,)) / '(1,)type'.\n",
      "  _np_quint8 = np.dtype([(\"quint8\", np.uint8, 1)])\n",
      "/anaconda3/lib/python3.6/site-packages/tensorflow/python/framework/dtypes.py:518: FutureWarning: Passing (type, 1) or '1type' as a synonym of type is deprecated; in a future version of numpy, it will be understood as (type, (1,)) / '(1,)type'.\n",
      "  _np_qint16 = np.dtype([(\"qint16\", np.int16, 1)])\n",
      "/anaconda3/lib/python3.6/site-packages/tensorflow/python/framework/dtypes.py:519: FutureWarning: Passing (type, 1) or '1type' as a synonym of type is deprecated; in a future version of numpy, it will be understood as (type, (1,)) / '(1,)type'.\n",
      "  _np_quint16 = np.dtype([(\"quint16\", np.uint16, 1)])\n",
      "/anaconda3/lib/python3.6/site-packages/tensorflow/python/framework/dtypes.py:520: FutureWarning: Passing (type, 1) or '1type' as a synonym of type is deprecated; in a future version of numpy, it will be understood as (type, (1,)) / '(1,)type'.\n",
      "  _np_qint32 = np.dtype([(\"qint32\", np.int32, 1)])\n",
      "/anaconda3/lib/python3.6/site-packages/tensorflow/python/framework/dtypes.py:525: FutureWarning: Passing (type, 1) or '1type' as a synonym of type is deprecated; in a future version of numpy, it will be understood as (type, (1,)) / '(1,)type'.\n",
      "  np_resource = np.dtype([(\"resource\", np.ubyte, 1)])\n",
      "/anaconda3/lib/python3.6/site-packages/tensorboard/compat/tensorflow_stub/dtypes.py:541: FutureWarning: Passing (type, 1) or '1type' as a synonym of type is deprecated; in a future version of numpy, it will be understood as (type, (1,)) / '(1,)type'.\n",
      "  _np_qint8 = np.dtype([(\"qint8\", np.int8, 1)])\n",
      "/anaconda3/lib/python3.6/site-packages/tensorboard/compat/tensorflow_stub/dtypes.py:542: FutureWarning: Passing (type, 1) or '1type' as a synonym of type is deprecated; in a future version of numpy, it will be understood as (type, (1,)) / '(1,)type'.\n",
      "  _np_quint8 = np.dtype([(\"quint8\", np.uint8, 1)])\n",
      "/anaconda3/lib/python3.6/site-packages/tensorboard/compat/tensorflow_stub/dtypes.py:543: FutureWarning: Passing (type, 1) or '1type' as a synonym of type is deprecated; in a future version of numpy, it will be understood as (type, (1,)) / '(1,)type'.\n",
      "  _np_qint16 = np.dtype([(\"qint16\", np.int16, 1)])\n",
      "/anaconda3/lib/python3.6/site-packages/tensorboard/compat/tensorflow_stub/dtypes.py:544: FutureWarning: Passing (type, 1) or '1type' as a synonym of type is deprecated; in a future version of numpy, it will be understood as (type, (1,)) / '(1,)type'.\n",
      "  _np_quint16 = np.dtype([(\"quint16\", np.uint16, 1)])\n",
      "/anaconda3/lib/python3.6/site-packages/tensorboard/compat/tensorflow_stub/dtypes.py:545: FutureWarning: Passing (type, 1) or '1type' as a synonym of type is deprecated; in a future version of numpy, it will be understood as (type, (1,)) / '(1,)type'.\n",
      "  _np_qint32 = np.dtype([(\"qint32\", np.int32, 1)])\n",
      "/anaconda3/lib/python3.6/site-packages/tensorboard/compat/tensorflow_stub/dtypes.py:550: FutureWarning: Passing (type, 1) or '1type' as a synonym of type is deprecated; in a future version of numpy, it will be understood as (type, (1,)) / '(1,)type'.\n",
      "  np_resource = np.dtype([(\"resource\", np.ubyte, 1)])\n"
     ]
    }
   ],
   "source": [
    "!pip install pandas\n",
    "!pip install numpy\n",
    "!pip install keras\n",
    "import types\n",
    "import pandas as pd\n",
    "import numpy as np\n",
    "from keras.preprocessing import sequence\n",
    "from keras.models import load_model"
   ]
  },
  {
   "cell_type": "code",
   "execution_count": 3,
   "metadata": {},
   "outputs": [
    {
     "data": {
      "text/html": [
       "<div>\n",
       "<style scoped>\n",
       "    .dataframe tbody tr th:only-of-type {\n",
       "        vertical-align: middle;\n",
       "    }\n",
       "\n",
       "    .dataframe tbody tr th {\n",
       "        vertical-align: top;\n",
       "    }\n",
       "\n",
       "    .dataframe thead th {\n",
       "        text-align: right;\n",
       "    }\n",
       "</style>\n",
       "<table border=\"1\" class=\"dataframe\">\n",
       "  <thead>\n",
       "    <tr style=\"text-align: right;\">\n",
       "      <th></th>\n",
       "      <th>DATE</th>\n",
       "      <th>DCOILBRENTEU</th>\n",
       "    </tr>\n",
       "  </thead>\n",
       "  <tbody>\n",
       "    <tr>\n",
       "      <th>0</th>\n",
       "      <td>1987-05-20</td>\n",
       "      <td>18.63</td>\n",
       "    </tr>\n",
       "    <tr>\n",
       "      <th>1</th>\n",
       "      <td>1987-05-21</td>\n",
       "      <td>18.45</td>\n",
       "    </tr>\n",
       "    <tr>\n",
       "      <th>2</th>\n",
       "      <td>1987-05-22</td>\n",
       "      <td>18.55</td>\n",
       "    </tr>\n",
       "    <tr>\n",
       "      <th>3</th>\n",
       "      <td>1987-05-25</td>\n",
       "      <td>18.60</td>\n",
       "    </tr>\n",
       "    <tr>\n",
       "      <th>4</th>\n",
       "      <td>1987-05-26</td>\n",
       "      <td>18.63</td>\n",
       "    </tr>\n",
       "  </tbody>\n",
       "</table>\n",
       "</div>"
      ],
      "text/plain": [
       "         DATE DCOILBRENTEU\n",
       "0  1987-05-20        18.63\n",
       "1  1987-05-21        18.45\n",
       "2  1987-05-22        18.55\n",
       "3  1987-05-25        18.60\n",
       "4  1987-05-26        18.63"
      ]
     },
     "execution_count": 3,
     "metadata": {},
     "output_type": "execute_result"
    }
   ],
   "source": [
    "df_data_1 =pd.DataFrame(pd.read_csv(\"./DCOILBRENTEU.csv\"))\n",
    "df_data_1.head()"
   ]
  },
  {
   "cell_type": "code",
   "execution_count": 4,
   "metadata": {},
   "outputs": [
    {
     "name": "stdout",
     "output_type": "stream",
     "text": [
      "(8587, 2)\n"
     ]
    }
   ],
   "source": [
    "df_data_1 = df_data_1[df_data_1.DCOILBRENTEU != \".\"]\n",
    "print(df_data_1.shape)"
   ]
  },
  {
   "cell_type": "code",
   "execution_count": 5,
   "metadata": {},
   "outputs": [
    {
     "data": {
      "text/plain": [
       "array([[18.63],\n",
       "       [18.45],\n",
       "       [18.55],\n",
       "       ...,\n",
       "       [69.34],\n",
       "       [68.87],\n",
       "       [68.78]], dtype=object)"
      ]
     },
     "execution_count": 5,
     "metadata": {},
     "output_type": "execute_result"
    }
   ],
   "source": [
    "!pip install matplotlib\n",
    "import matplotlib.pyplot as plt\n",
    "df_data_1.iloc[:,1:2]=df_data_1.iloc[:,1:2].values.astype(np.float)\n",
    "df_data_1_plot = df_data_1.iloc[:,1:2].values\n",
    "df_data_1_plot\n",
    "# Visualising the Data"
   ]
  },
  {
   "cell_type": "code",
   "execution_count": 6,
   "metadata": {},
   "outputs": [
    {
     "data": {
      "image/png": "[encoded data removed]",
      "text/plain": [
       "<Figure size 432x288 with 1 Axes>"
      ]
     },
     "metadata": {
      "needs_background": "light"
     },
     "output_type": "display_data"
    }
   ],
   "source": [
    "plt.plot(df_data_1_plot, color = 'red', label = 'Crude Oil Prices')\n",
    "plt.title('Crude Oil Prices Historical Data')\n",
    "plt.xlabel('Time (Days)')\n",
    "plt.ylabel('Crude Oil Prices')\n",
    "plt.legend()\n",
    "plt.show()"
   ]
  },
  {
   "cell_type": "code",
   "execution_count": null,
   "metadata": {},
   "outputs": [],
   "source": []
  },
  {
   "cell_type": "code",
   "execution_count": 7,
   "metadata": {},
   "outputs": [],
   "source": [
    "# defining the batch size and number of epochs\n",
    "batch_size = 64\n",
    "epochs = 200\n",
    "timesteps = 30"
   ]
  },
  {
   "cell_type": "code",
   "execution_count": 8,
   "metadata": {},
   "outputs": [
    {
     "name": "stdout",
     "output_type": "stream",
     "text": [
      "8587\n"
     ]
    }
   ],
   "source": [
    "length = len(df_data_1)\n",
    "print(length)\n",
    "\n",
    "#test set will be 10% of entire data set  \n",
    "#length *= 1 - 0.1\n",
    "#print(length)"
   ]
  },
  {
   "cell_type": "code",
   "execution_count": 9,
   "metadata": {},
   "outputs": [],
   "source": [
    "#get the length of training data set \n",
    "def get_train_length(dataset, batch_size, test_percent):\n",
    "    # substract test_percent to be excluded from training, reserved for testset\n",
    "    length = len(dataset)\n",
    "    length *= 1 - test_percent\n",
    "    train_length_values = []\n",
    "    for x in range(int(length) - 100,int(length)): \n",
    "        modulo=x%batch_size\n",
    "        if (modulo == 0):\n",
    "            train_length_values.append(x)\n",
    "            print(x)\n",
    "    return (max(train_length_values))"
   ]
  },
  {
   "cell_type": "code",
   "execution_count": 10,
   "metadata": {},
   "outputs": [
    {
     "name": "stdout",
     "output_type": "stream",
     "text": [
      "7680\n"
     ]
    }
   ],
   "source": [
    "length = get_train_length(df_data_1, batch_size, 0.1)\n",
    "#print(length)"
   ]
  },
  {
   "cell_type": "code",
   "execution_count": 11,
   "metadata": {},
   "outputs": [
    {
     "data": {
      "text/plain": [
       "(7740, 1)"
      ]
     },
     "execution_count": 11,
     "metadata": {},
     "output_type": "execute_result"
    }
   ],
   "source": [
    "#Adding timesteps * 2\n",
    "upper_train = length + timesteps*2\n",
    "df_data_1_train = df_data_1[0:upper_train]\n",
    "training_set = df_data_1_train.iloc[:,1:2].values\n",
    "training_set.shape"
   ]
  },
  {
   "cell_type": "code",
   "execution_count": 12,
   "metadata": {},
   "outputs": [
    {
     "data": {
      "text/plain": [
       "(7740, 1)"
      ]
     },
     "execution_count": 12,
     "metadata": {},
     "output_type": "execute_result"
    }
   ],
   "source": [
    "# Feature Scaling i.e we scale each and every value between 0 and 1 \n",
    "from sklearn.preprocessing import MinMaxScaler\n",
    "sc = MinMaxScaler(feature_range = (0, 1))\n",
    "training_set_scaled = sc.fit_transform(np.float64(training_set))\n",
    "training_set_scaled.shape"
   ]
  },
  {
   "cell_type": "code",
   "execution_count": 13,
   "metadata": {},
   "outputs": [
    {
     "name": "stdout",
     "output_type": "stream",
     "text": [
      "7710\n",
      "7680\n",
      "7680\n",
      "(7680, 30)\n",
      "(7680, 30)\n"
     ]
    }
   ],
   "source": [
    "X_train = []\n",
    "y_train = []\n",
    "\n",
    "# Creating a data structure with n timesteps\n",
    "\n",
    "print(length + timesteps)\n",
    "for i in range(timesteps, length + timesteps): \n",
    "    X_train.append(training_set_scaled[i-timesteps:i,0])\n",
    "    y_train.append(training_set_scaled[i:i+timesteps,0])\n",
    "\n",
    "print(len(X_train))\n",
    "print(len (y_train))\n",
    "print(np.array(X_train).shape)\n",
    "print(np.array(y_train).shape)"
   ]
  },
  {
   "cell_type": "code",
   "execution_count": 14,
   "metadata": {},
   "outputs": [
    {
     "name": "stdout",
     "output_type": "stream",
     "text": [
      "(7680, 30, 1)\n",
      "(7680, 30, 1)\n"
     ]
    }
   ],
   "source": [
    "# Reshaping\n",
    "X_train, y_train = np.array(X_train), np.array(y_train)\n",
    "X_train = np.reshape(X_train, (X_train.shape[0], X_train.shape[1], 1))\n",
    "y_train = np.reshape(y_train, (y_train.shape[0], y_train.shape[1], 1))\n",
    "print(X_train.shape)\n",
    "print(y_train.shape)"
   ]
  },
  {
   "cell_type": "code",
   "execution_count": 15,
   "metadata": {},
   "outputs": [],
   "source": [
    "# Building the LSTM\n",
    "# Importing the Keras libraries and packages\n",
    "\n",
    "from keras.layers import Dense\n",
    "from keras.layers import Input, LSTM\n",
    "from keras.layers import Dropout\n",
    "from keras.models import Model\n",
    "import h5py"
   ]
  },
  {
   "cell_type": "code",
   "execution_count": 16,
   "metadata": {},
   "outputs": [
    {
     "name": "stdout",
     "output_type": "stream",
     "text": [
      "Model: \"model_1\"\n",
      "_________________________________________________________________\n",
      "Layer (type)                 Output Shape              Param #   \n",
      "=================================================================\n",
      "input_1 (InputLayer)         (64, 30, 1)               0         \n",
      "_________________________________________________________________\n",
      "lstm_1 (LSTM)                (64, 30, 10)              480       \n",
      "_________________________________________________________________\n",
      "lstm_2 (LSTM)                (64, 30, 10)              840       \n",
      "_________________________________________________________________\n",
      "dense_1 (Dense)              (64, 30, 1)               11        \n",
      "=================================================================\n",
      "Total params: 1,331\n",
      "Trainable params: 1,331\n",
      "Non-trainable params: 0\n",
      "_________________________________________________________________\n"
     ]
    }
   ],
   "source": [
    "# Initialising the LSTM Model with MAE Loss-Function\n",
    "# Using Functional API\n",
    "\n",
    "inputs_1_mae = Input(batch_shape=(batch_size,timesteps,1))\n",
    "lstm_1_mae = LSTM(10, stateful=True, return_sequences=True)(inputs_1_mae)\n",
    "#dropout_1=Dropout(0.5)(lstm_1_mae)\n",
    "lstm_2_mae = LSTM(10, stateful=True, return_sequences=True)(lstm_1_mae)\n",
    "\n",
    "output_1_mae = Dense(units = 1)(lstm_2_mae)\n",
    "\n",
    "regressor_mae = Model(inputs=inputs_1_mae, outputs = output_1_mae)\n",
    "\n",
    "regressor_mae.compile(optimizer='adam', loss = 'mae')\n",
    "regressor_mae.summary()"
   ]
  },
  {
   "cell_type": "code",
   "execution_count": 17,
   "metadata": {},
   "outputs": [
    {
     "name": "stdout",
     "output_type": "stream",
     "text": [
      "480\n"
     ]
    }
   ],
   "source": [
    "# 1st LSTM Layer \n",
    "parameters = 4 * 10 * (1 + 10 + 1)\n",
    "print(parameters)"
   ]
  },
  {
   "cell_type": "code",
   "execution_count": 18,
   "metadata": {},
   "outputs": [
    {
     "name": "stdout",
     "output_type": "stream",
     "text": [
      "840\n"
     ]
    }
   ],
   "source": [
    "# 2nd LSTM Layer \n",
    "parameters = 4 * 10 * (10 + 10 + 1)\n",
    "print(parameters)"
   ]
  },
  {
   "cell_type": "code",
   "execution_count": 19,
   "metadata": {},
   "outputs": [
    {
     "name": "stdout",
     "output_type": "stream",
     "text": [
      "Epoch: 0\n",
      "WARNING:tensorflow:From /anaconda3/lib/python3.6/site-packages/keras/backend/tensorflow_backend.py:422: The name tf.global_variables is deprecated. Please use tf.compat.v1.global_variables instead.\n",
      "\n",
      "Epoch 1/1\n",
      "7680/7680 [==============================] - 4s 506us/step - loss: 0.0599\n",
      "Epoch: 1\n",
      "Epoch 1/1\n",
      "7680/7680 [==============================] - 3s 413us/step - loss: 0.0608\n",
      "Epoch: 2\n",
      "Epoch 1/1\n",
      "7680/7680 [==============================] - 3s 419us/step - loss: 0.0723\n",
      "Epoch: 3\n",
      "Epoch 1/1\n",
      "7680/7680 [==============================] - 4s 526us/step - loss: 0.0912\n",
      "Epoch: 4\n",
      "Epoch 1/1\n",
      "7680/7680 [==============================] - 4s 502us/step - loss: 0.0823\n",
      "Epoch: 5\n",
      "Epoch 1/1\n",
      "7680/7680 [==============================] - 3s 411us/step - loss: 0.0824\n",
      "Epoch: 6\n",
      "Epoch 1/1\n",
      "7680/7680 [==============================] - 3s 408us/step - loss: 0.0736\n",
      "Epoch: 7\n",
      "Epoch 1/1\n",
      "7680/7680 [==============================] - 4s 471us/step - loss: 0.0686\n",
      "Epoch: 8\n",
      "Epoch 1/1\n",
      "7680/7680 [==============================] - 4s 526us/step - loss: 0.0643\n",
      "Epoch: 9\n",
      "Epoch 1/1\n",
      "7680/7680 [==============================] - 3s 440us/step - loss: 0.0593\n",
      "Epoch: 10\n",
      "Epoch 1/1\n",
      "7680/7680 [==============================] - 4s 572us/step - loss: 0.0558\n",
      "Epoch: 11\n",
      "Epoch 1/1\n",
      "7680/7680 [==============================] - 4s 496us/step - loss: 0.0529\n",
      "Epoch: 12\n",
      "Epoch 1/1\n",
      "7680/7680 [==============================] - 7s 945us/step - loss: 0.0508\n",
      "Epoch: 13\n",
      "Epoch 1/1\n",
      "7680/7680 [==============================] - 5s 644us/step - loss: 0.0500\n",
      "Epoch: 14\n",
      "Epoch 1/1\n",
      "7680/7680 [==============================] - 7s 865us/step - loss: 0.0494\n",
      "Epoch: 15\n",
      "Epoch 1/1\n",
      "7680/7680 [==============================] - 4s 484us/step - loss: 0.0487\n",
      "Epoch: 16\n",
      "Epoch 1/1\n",
      "7680/7680 [==============================] - 4s 462us/step - loss: 0.0483\n",
      "Epoch: 17\n",
      "Epoch 1/1\n",
      "7680/7680 [==============================] - 4s 488us/step - loss: 0.0479\n",
      "Epoch: 18\n",
      "Epoch 1/1\n",
      "7680/7680 [==============================] - 3s 417us/step - loss: 0.0474\n",
      "Epoch: 19\n",
      "Epoch 1/1\n",
      "7680/7680 [==============================] - 3s 415us/step - loss: 0.0469\n",
      "Epoch: 20\n",
      "Epoch 1/1\n",
      "7680/7680 [==============================] - 4s 460us/step - loss: 0.0464\n",
      "Epoch: 21\n",
      "Epoch 1/1\n",
      "7680/7680 [==============================] - 3s 428us/step - loss: 0.0459\n",
      "Epoch: 22\n",
      "Epoch 1/1\n",
      "7680/7680 [==============================] - 3s 432us/step - loss: 0.0454\n",
      "Epoch: 23\n",
      "Epoch 1/1\n",
      "7680/7680 [==============================] - 4s 514us/step - loss: 0.0451\n",
      "Epoch: 24\n",
      "Epoch 1/1\n",
      "7680/7680 [==============================] - 3s 423us/step - loss: 0.0447\n",
      "Epoch: 25\n",
      "Epoch 1/1\n",
      "7680/7680 [==============================] - 4s 486us/step - loss: 0.0444\n",
      "Epoch: 26\n",
      "Epoch 1/1\n",
      "7680/7680 [==============================] - 3s 434us/step - loss: 0.0440\n",
      "Epoch: 27\n",
      "Epoch 1/1\n",
      "7680/7680 [==============================] - 3s 429us/step - loss: 0.0438\n",
      "Epoch: 28\n",
      "Epoch 1/1\n",
      "7680/7680 [==============================] - 3s 405us/step - loss: 0.0432\n",
      "Epoch: 29\n",
      "Epoch 1/1\n",
      "7680/7680 [==============================] - 3s 423us/step - loss: 0.0434\n",
      "Epoch: 30\n",
      "Epoch 1/1\n",
      "7680/7680 [==============================] - 3s 417us/step - loss: 0.0425\n",
      "Epoch: 31\n",
      "Epoch 1/1\n",
      "7680/7680 [==============================] - 3s 431us/step - loss: 0.0431\n",
      "Epoch: 32\n",
      "Epoch 1/1\n",
      "7680/7680 [==============================] - 3s 441us/step - loss: 0.0422\n",
      "Epoch: 33\n",
      "Epoch 1/1\n",
      "7680/7680 [==============================] - 3s 425us/step - loss: 0.0424\n",
      "Epoch: 34\n",
      "Epoch 1/1\n",
      "7680/7680 [==============================] - 3s 400us/step - loss: 0.0416\n",
      "Epoch: 35\n",
      "Epoch 1/1\n",
      "7680/7680 [==============================] - 4s 472us/step - loss: 0.0420\n",
      "Epoch: 36\n",
      "Epoch 1/1\n",
      "7680/7680 [==============================] - 3s 423us/step - loss: 0.0414\n",
      "Epoch: 37\n",
      "Epoch 1/1\n",
      "7680/7680 [==============================] - 3s 407us/step - loss: 0.0415\n",
      "Epoch: 38\n",
      "Epoch 1/1\n",
      "7680/7680 [==============================] - 3s 396us/step - loss: 0.0410\n",
      "Epoch: 39\n",
      "Epoch 1/1\n",
      "7680/7680 [==============================] - 3s 410us/step - loss: 0.0410\n",
      "Epoch: 40\n",
      "Epoch 1/1\n",
      "7680/7680 [==============================] - 3s 413us/step - loss: 0.0406\n",
      "Epoch: 41\n",
      "Epoch 1/1\n",
      "7680/7680 [==============================] - 4s 549us/step - loss: 0.0405\n",
      "Epoch: 42\n",
      "Epoch 1/1\n",
      "7680/7680 [==============================] - 3s 422us/step - loss: 0.0402\n",
      "Epoch: 43\n",
      "Epoch 1/1\n",
      "7680/7680 [==============================] - 3s 443us/step - loss: 0.0401\n",
      "Epoch: 44\n",
      "Epoch 1/1\n",
      "7680/7680 [==============================] - 3s 411us/step - loss: 0.0399\n",
      "Epoch: 45\n",
      "Epoch 1/1\n",
      "7680/7680 [==============================] - 3s 405us/step - loss: 0.0397\n",
      "Epoch: 46\n",
      "Epoch 1/1\n",
      "7680/7680 [==============================] - 3s 410us/step - loss: 0.0396\n",
      "Epoch: 47\n",
      "Epoch 1/1\n",
      "7680/7680 [==============================] - 3s 411us/step - loss: 0.0394\n",
      "Epoch: 48\n",
      "Epoch 1/1\n",
      "7680/7680 [==============================] - 3s 405us/step - loss: 0.0394\n",
      "Epoch: 49\n",
      "Epoch 1/1\n",
      "7680/7680 [==============================] - 3s 410us/step - loss: 0.0391\n",
      "Epoch: 50\n",
      "Epoch 1/1\n",
      "7680/7680 [==============================] - 3s 416us/step - loss: 0.0392\n",
      "Epoch: 51\n",
      "Epoch 1/1\n",
      "7680/7680 [==============================] - 3s 400us/step - loss: 0.0388\n",
      "Epoch: 52\n",
      "Epoch 1/1\n",
      "7680/7680 [==============================] - 3s 453us/step - loss: 0.0390\n",
      "Epoch: 53\n",
      "Epoch 1/1\n",
      "7680/7680 [==============================] - 3s 417us/step - loss: 0.0386\n",
      "Epoch: 54\n",
      "Epoch 1/1\n",
      "7680/7680 [==============================] - 3s 420us/step - loss: 0.0387\n",
      "Epoch: 55\n",
      "Epoch 1/1\n",
      "7680/7680 [==============================] - 3s 411us/step - loss: 0.0383\n",
      "Epoch: 56\n",
      "Epoch 1/1\n",
      "7680/7680 [==============================] - 3s 412us/step - loss: 0.0384\n",
      "Epoch: 57\n",
      "Epoch 1/1\n",
      "7680/7680 [==============================] - 3s 389us/step - loss: 0.0380\n",
      "Epoch: 58\n",
      "Epoch 1/1\n",
      "7680/7680 [==============================] - 3s 441us/step - loss: 0.0382\n",
      "Epoch: 59\n",
      "Epoch 1/1\n",
      "7680/7680 [==============================] - 3s 441us/step - loss: 0.0376\n",
      "Epoch: 60\n",
      "Epoch 1/1\n",
      "7680/7680 [==============================] - 3s 412us/step - loss: 0.0382\n",
      "Epoch: 61\n",
      "Epoch 1/1\n",
      "7680/7680 [==============================] - 4s 573us/step - loss: 0.0378\n",
      "Epoch: 62\n",
      "Epoch 1/1\n",
      "7680/7680 [==============================] - 6s 740us/step - loss: 0.0381\n",
      "Epoch: 63\n",
      "Epoch 1/1\n",
      "7680/7680 [==============================] - 4s 477us/step - loss: 0.0375\n",
      "Epoch: 64\n",
      "Epoch 1/1\n",
      "7680/7680 [==============================] - 4s 486us/step - loss: 0.0376\n",
      "Epoch: 65\n",
      "Epoch 1/1\n",
      "7680/7680 [==============================] - 4s 510us/step - loss: 0.0372\n",
      "Epoch: 66\n",
      "Epoch 1/1\n",
      "7680/7680 [==============================] - 4s 494us/step - loss: 0.0373\n",
      "Epoch: 67\n",
      "Epoch 1/1\n",
      "7680/7680 [==============================] - 4s 484us/step - loss: 0.0371\n",
      "Epoch: 68\n",
      "Epoch 1/1\n",
      "7680/7680 [==============================] - 4s 479us/step - loss: 0.0372\n",
      "Epoch: 69\n",
      "Epoch 1/1\n",
      "7680/7680 [==============================] - 4s 519us/step - loss: 0.0369\n",
      "Epoch: 70\n",
      "Epoch 1/1\n",
      "7680/7680 [==============================] - 5s 637us/step - loss: 0.0370\n",
      "Epoch: 71\n",
      "Epoch 1/1\n",
      "7680/7680 [==============================] - 8s 1ms/step - loss: 0.0368\n",
      "Epoch: 72\n",
      "Epoch 1/1\n",
      "7680/7680 [==============================] - 9s 1ms/step - loss: 0.0369\n",
      "Epoch: 73\n",
      "Epoch 1/1\n",
      "7680/7680 [==============================] - 6s 719us/step - loss: 0.0366\n",
      "Epoch: 74\n",
      "Epoch 1/1\n",
      "7680/7680 [==============================] - 6s 790us/step - loss: 0.0368\n",
      "Epoch: 75\n",
      "Epoch 1/1\n",
      "7680/7680 [==============================] - 6s 832us/step - loss: 0.0364\n",
      "Epoch: 76\n",
      "Epoch 1/1\n",
      "7680/7680 [==============================] - 4s 529us/step - loss: 0.0367\n",
      "Epoch: 77\n",
      "Epoch 1/1\n",
      "7680/7680 [==============================] - 6s 810us/step - loss: 0.0363\n",
      "Epoch: 78\n",
      "Epoch 1/1\n",
      "7680/7680 [==============================] - 7s 945us/step - loss: 0.0366\n",
      "Epoch: 79\n",
      "Epoch 1/1\n",
      "7680/7680 [==============================] - 7s 953us/step - loss: 0.0362\n",
      "Epoch: 80\n",
      "Epoch 1/1\n",
      "7680/7680 [==============================] - 6s 763us/step - loss: 0.0364\n",
      "Epoch: 81\n",
      "Epoch 1/1\n",
      "7680/7680 [==============================] - 8s 986us/step - loss: 0.0361\n",
      "Epoch: 82\n",
      "Epoch 1/1\n",
      "7680/7680 [==============================] - 11s 1ms/step - loss: 0.0362\n",
      "Epoch: 83\n",
      "Epoch 1/1\n",
      "7680/7680 [==============================] - 14s 2ms/step - loss: 0.0359\n",
      "Epoch: 84\n",
      "Epoch 1/1\n",
      "7680/7680 [==============================] - 8s 1ms/step - loss: 0.0360\n",
      "Epoch: 85\n",
      "Epoch 1/1\n",
      "7680/7680 [==============================] - 11s 1ms/step - loss: 0.0358\n",
      "Epoch: 86\n",
      "Epoch 1/1\n",
      "7680/7680 [==============================] - 5s 627us/step - loss: 0.0359\n",
      "Epoch: 87\n",
      "Epoch 1/1\n",
      "7680/7680 [==============================] - 4s 487us/step - loss: 0.0357\n",
      "Epoch: 88\n",
      "Epoch 1/1\n",
      "7680/7680 [==============================] - 3s 438us/step - loss: 0.0359\n",
      "Epoch: 89\n",
      "Epoch 1/1\n",
      "7680/7680 [==============================] - 4s 465us/step - loss: 0.0357\n",
      "Epoch: 90\n",
      "Epoch 1/1\n",
      "7680/7680 [==============================] - 5s 609us/step - loss: 0.0358\n",
      "Epoch: 91\n",
      "Epoch 1/1\n",
      "7680/7680 [==============================] - 3s 434us/step - loss: 0.0355\n",
      "Epoch: 92\n",
      "Epoch 1/1\n",
      "7680/7680 [==============================] - 4s 579us/step - loss: 0.0357\n",
      "Epoch: 93\n",
      "Epoch 1/1\n",
      "7680/7680 [==============================] - 4s 517us/step - loss: 0.0354\n",
      "Epoch: 94\n",
      "Epoch 1/1\n",
      "7680/7680 [==============================] - 5s 622us/step - loss: 0.0356\n",
      "Epoch: 95\n",
      "Epoch 1/1\n",
      "7680/7680 [==============================] - 3s 419us/step - loss: 0.0354\n",
      "Epoch: 96\n",
      "Epoch 1/1\n",
      "7680/7680 [==============================] - 5s 589us/step - loss: 0.0355\n",
      "Epoch: 97\n",
      "Epoch 1/1\n",
      "7680/7680 [==============================] - 5s 597us/step - loss: 0.0353\n",
      "Epoch: 98\n",
      "Epoch 1/1\n",
      "7680/7680 [==============================] - 4s 508us/step - loss: 0.0354\n",
      "Epoch: 99\n",
      "Epoch 1/1\n",
      "7680/7680 [==============================] - 11s 1ms/step - loss: 0.0353\n",
      "Epoch: 100\n",
      "Epoch 1/1\n",
      "7680/7680 [==============================] - 9s 1ms/step - loss: 0.0353\n",
      "Epoch: 101\n",
      "Epoch 1/1\n",
      "7680/7680 [==============================] - 8s 996us/step - loss: 0.0352\n",
      "Epoch: 102\n",
      "Epoch 1/1\n",
      "7680/7680 [==============================] - 9s 1ms/step - loss: 0.0352\n",
      "Epoch: 103\n",
      "Epoch 1/1\n",
      "7680/7680 [==============================] - 13s 2ms/step - loss: 0.0351\n",
      "Epoch: 104\n",
      "Epoch 1/1\n",
      "7680/7680 [==============================] - 14s 2ms/step - loss: 0.0351\n",
      "Epoch: 105\n",
      "Epoch 1/1\n",
      "7680/7680 [==============================] - 11s 1ms/step - loss: 0.0350\n",
      "Epoch: 106\n",
      "Epoch 1/1\n",
      "7680/7680 [==============================] - 18s 2ms/step - loss: 0.0350\n",
      "Epoch: 107\n",
      "Epoch 1/1\n",
      "7680/7680 [==============================] - 12s 2ms/step - loss: 0.0350\n",
      "Epoch: 108\n",
      "Epoch 1/1\n",
      "7680/7680 [==============================] - 10s 1ms/step - loss: 0.0350\n",
      "Epoch: 109\n",
      "Epoch 1/1\n",
      "7680/7680 [==============================] - 11s 1ms/step - loss: 0.0349\n",
      "Epoch: 110\n",
      "Epoch 1/1\n",
      "7680/7680 [==============================] - 5s 687us/step - loss: 0.0350\n",
      "Epoch: 111\n",
      "Epoch 1/1\n",
      "7680/7680 [==============================] - 19s 2ms/step - loss: 0.0348\n",
      "Epoch: 112\n",
      "Epoch 1/1\n",
      "7680/7680 [==============================] - 11s 1ms/step - loss: 0.0349\n",
      "Epoch: 113\n",
      "Epoch 1/1\n",
      "7680/7680 [==============================] - 10s 1ms/step - loss: 0.0348\n",
      "Epoch: 114\n",
      "Epoch 1/1\n",
      "7680/7680 [==============================] - 6s 809us/step - loss: 0.0350\n",
      "Epoch: 115\n",
      "Epoch 1/1\n",
      "7680/7680 [==============================] - 4s 533us/step - loss: 0.0347\n",
      "Epoch: 116\n",
      "Epoch 1/1\n",
      "7680/7680 [==============================] - 4s 483us/step - loss: 0.0347\n",
      "Epoch: 117\n",
      "Epoch 1/1\n",
      "7680/7680 [==============================] - 4s 507us/step - loss: 0.0346\n",
      "Epoch: 118\n",
      "Epoch 1/1\n",
      "7680/7680 [==============================] - 4s 488us/step - loss: 0.0346\n",
      "Epoch: 119\n",
      "Epoch 1/1\n",
      "7680/7680 [==============================] - 4s 546us/step - loss: 0.0345\n",
      "Epoch: 120\n",
      "Epoch 1/1\n",
      "7680/7680 [==============================] - 5s 662us/step - loss: 0.0345\n",
      "Epoch: 121\n",
      "Epoch 1/1\n",
      "7680/7680 [==============================] - 5s 706us/step - loss: 0.0344\n",
      "Epoch: 122\n",
      "Epoch 1/1\n",
      "7680/7680 [==============================] - 5s 618us/step - loss: 0.0344\n",
      "Epoch: 123\n",
      "Epoch 1/1\n",
      "7680/7680 [==============================] - 5s 623us/step - loss: 0.0343\n",
      "Epoch: 124\n",
      "Epoch 1/1\n",
      "7680/7680 [==============================] - 6s 808us/step - loss: 0.0343\n",
      "Epoch: 125\n",
      "Epoch 1/1\n",
      " 384/7680 [>.............................] - ETA: 39s - loss: 0.0398"
     ]
    },
    {
     "name": "stderr",
     "output_type": "stream",
     "text": [
      "/anaconda3/lib/python3.6/site-packages/keras/callbacks/callbacks.py:95: RuntimeWarning: Method (on_train_batch_end) is slow compared to the batch update (0.113813). Check your callbacks.\n",
      "  % (hook_name, delta_t_median), RuntimeWarning)\n"
     ]
    },
    {
     "name": "stdout",
     "output_type": "stream",
     "text": [
      "7680/7680 [==============================] - 10s 1ms/step - loss: 0.0343\n",
      "Epoch: 126\n",
      "Epoch 1/1\n",
      "7680/7680 [==============================] - 6s 756us/step - loss: 0.0343\n",
      "Epoch: 127\n",
      "Epoch 1/1\n",
      "7680/7680 [==============================] - 4s 511us/step - loss: 0.0343\n",
      "Epoch: 128\n",
      "Epoch 1/1\n",
      "7680/7680 [==============================] - 3s 454us/step - loss: 0.0344\n",
      "Epoch: 129\n",
      "Epoch 1/1\n",
      "7680/7680 [==============================] - 4s 489us/step - loss: 0.0343\n",
      "Epoch: 130\n",
      "Epoch 1/1\n",
      "7680/7680 [==============================] - 5s 631us/step - loss: 0.0344\n",
      "Epoch: 131\n",
      "Epoch 1/1\n",
      "7680/7680 [==============================] - 4s 457us/step - loss: 0.0342\n",
      "Epoch: 132\n",
      "Epoch 1/1\n",
      "7680/7680 [==============================] - 3s 450us/step - loss: 0.0343\n",
      "Epoch: 133\n",
      "Epoch 1/1\n",
      "7680/7680 [==============================] - 8s 1ms/step - loss: 0.0342\n",
      "Epoch: 134\n",
      "Epoch 1/1\n",
      "7680/7680 [==============================] - 5s 607us/step - loss: 0.0341\n",
      "Epoch: 135\n",
      "Epoch 1/1\n",
      "7680/7680 [==============================] - 4s 540us/step - loss: 0.0341\n",
      "Epoch: 136\n",
      "Epoch 1/1\n",
      "7680/7680 [==============================] - 3s 451us/step - loss: 0.0340\n",
      "Epoch: 137\n",
      "Epoch 1/1\n",
      "7680/7680 [==============================] - 3s 453us/step - loss: 0.0340\n",
      "Epoch: 138\n",
      "Epoch 1/1\n",
      "7680/7680 [==============================] - 3s 431us/step - loss: 0.0339\n",
      "Epoch: 139\n",
      "Epoch 1/1\n",
      "7680/7680 [==============================] - 3s 451us/step - loss: 0.0340\n",
      "Epoch: 140\n",
      "Epoch 1/1\n",
      "7680/7680 [==============================] - 3s 443us/step - loss: 0.0339\n",
      "Epoch: 141\n",
      "Epoch 1/1\n",
      "7680/7680 [==============================] - 3s 431us/step - loss: 0.0340\n",
      "Epoch: 142\n",
      "Epoch 1/1\n",
      "7680/7680 [==============================] - 3s 430us/step - loss: 0.0339\n",
      "Epoch: 143\n",
      "Epoch 1/1\n",
      "7680/7680 [==============================] - 4s 466us/step - loss: 0.0339\n",
      "Epoch: 144\n",
      "Epoch 1/1\n",
      "7680/7680 [==============================] - 4s 507us/step - loss: 0.0338\n",
      "Epoch: 145\n",
      "Epoch 1/1\n",
      "7680/7680 [==============================] - 3s 442us/step - loss: 0.0339\n",
      "Epoch: 146\n",
      "Epoch 1/1\n",
      "7680/7680 [==============================] - 3s 429us/step - loss: 0.0338\n",
      "Epoch: 147\n",
      "Epoch 1/1\n",
      "7680/7680 [==============================] - 3s 432us/step - loss: 0.0339\n",
      "Epoch: 148\n",
      "Epoch 1/1\n",
      "7680/7680 [==============================] - 4s 566us/step - loss: 0.0339\n",
      "Epoch: 149\n",
      "Epoch 1/1\n",
      "7680/7680 [==============================] - 3s 438us/step - loss: 0.0339\n",
      "Epoch: 150\n",
      "Epoch 1/1\n",
      "7680/7680 [==============================] - 3s 428us/step - loss: 0.0338\n",
      "Epoch: 151\n",
      "Epoch 1/1\n",
      "7680/7680 [==============================] - 3s 423us/step - loss: 0.0338\n",
      "Epoch: 152\n",
      "Epoch 1/1\n",
      "7680/7680 [==============================] - 3s 451us/step - loss: 0.0337\n",
      "Epoch: 153\n",
      "Epoch 1/1\n",
      "7680/7680 [==============================] - 3s 448us/step - loss: 0.0337\n",
      "Epoch: 154\n",
      "Epoch 1/1\n",
      "7680/7680 [==============================] - 4s 461us/step - loss: 0.0337\n",
      "Epoch: 155\n",
      "Epoch 1/1\n",
      "7680/7680 [==============================] - 3s 428us/step - loss: 0.0338\n",
      "Epoch: 156\n",
      "Epoch 1/1\n",
      "7680/7680 [==============================] - 3s 434us/step - loss: 0.0337\n",
      "Epoch: 157\n",
      "Epoch 1/1\n",
      "7680/7680 [==============================] - 3s 423us/step - loss: 0.0338\n",
      "Epoch: 158\n",
      "Epoch 1/1\n",
      "7680/7680 [==============================] - 3s 411us/step - loss: 0.0337\n",
      "Epoch: 159\n",
      "Epoch 1/1\n",
      "7680/7680 [==============================] - 3s 400us/step - loss: 0.0336\n",
      "Epoch: 160\n",
      "Epoch 1/1\n",
      "7680/7680 [==============================] - 3s 429us/step - loss: 0.0336\n",
      "Epoch: 161\n",
      "Epoch 1/1\n",
      "7680/7680 [==============================] - 3s 411us/step - loss: 0.0336\n",
      "Epoch: 162\n",
      "Epoch 1/1\n",
      "7680/7680 [==============================] - 3s 415us/step - loss: 0.0335\n",
      "Epoch: 163\n",
      "Epoch 1/1\n",
      "7680/7680 [==============================] - 3s 424us/step - loss: 0.0336\n",
      "Epoch: 164\n",
      "Epoch 1/1\n",
      "7680/7680 [==============================] - 3s 431us/step - loss: 0.0335\n",
      "Epoch: 165\n",
      "Epoch 1/1\n",
      "7680/7680 [==============================] - 3s 416us/step - loss: 0.0336\n",
      "Epoch: 166\n",
      "Epoch 1/1\n",
      "7680/7680 [==============================] - 4s 479us/step - loss: 0.0335\n",
      "Epoch: 167\n",
      "Epoch 1/1\n",
      "7680/7680 [==============================] - 3s 439us/step - loss: 0.0336\n",
      "Epoch: 168\n",
      "Epoch 1/1\n",
      "7680/7680 [==============================] - 3s 430us/step - loss: 0.0335\n",
      "Epoch: 169\n",
      "Epoch 1/1\n",
      "7680/7680 [==============================] - 3s 427us/step - loss: 0.0335\n",
      "Epoch: 170\n",
      "Epoch 1/1\n",
      "7680/7680 [==============================] - 3s 424us/step - loss: 0.0335\n",
      "Epoch: 171\n",
      "Epoch 1/1\n",
      "7680/7680 [==============================] - 3s 410us/step - loss: 0.0334\n",
      "Epoch: 172\n",
      "Epoch 1/1\n",
      "7680/7680 [==============================] - 3s 426us/step - loss: 0.0335\n",
      "Epoch: 173\n",
      "Epoch 1/1\n",
      "7680/7680 [==============================] - 3s 438us/step - loss: 0.0334\n",
      "Epoch: 174\n",
      "Epoch 1/1\n",
      "7680/7680 [==============================] - 4s 537us/step - loss: 0.0335\n",
      "Epoch: 175\n",
      "Epoch 1/1\n",
      "7680/7680 [==============================] - 5s 674us/step - loss: 0.0334\n",
      "Epoch: 176\n",
      "Epoch 1/1\n",
      "7680/7680 [==============================] - 4s 511us/step - loss: 0.0334\n",
      "Epoch: 177\n",
      "Epoch 1/1\n",
      "7680/7680 [==============================] - 3s 418us/step - loss: 0.0333\n",
      "Epoch: 178\n",
      "Epoch 1/1\n",
      "7680/7680 [==============================] - 3s 434us/step - loss: 0.0333\n",
      "Epoch: 179\n",
      "Epoch 1/1\n",
      "7680/7680 [==============================] - 4s 465us/step - loss: 0.0333\n",
      "Epoch: 180\n",
      "Epoch 1/1\n",
      "7680/7680 [==============================] - 3s 455us/step - loss: 0.0333\n",
      "Epoch: 181\n",
      "Epoch 1/1\n",
      "7680/7680 [==============================] - 3s 422us/step - loss: 0.0332\n",
      "Epoch: 182\n",
      "Epoch 1/1\n",
      "7680/7680 [==============================] - 3s 419us/step - loss: 0.0333\n",
      "Epoch: 183\n",
      "Epoch 1/1\n",
      "7680/7680 [==============================] - 4s 476us/step - loss: 0.0332\n",
      "Epoch: 184\n",
      "Epoch 1/1\n",
      "7680/7680 [==============================] - 3s 413us/step - loss: 0.0333\n",
      "Epoch: 185\n",
      "Epoch 1/1\n",
      "7680/7680 [==============================] - 3s 440us/step - loss: 0.0332\n",
      "Epoch: 186\n",
      "Epoch 1/1\n",
      "7680/7680 [==============================] - 3s 423us/step - loss: 0.0333\n",
      "Epoch: 187\n",
      "Epoch 1/1\n",
      "7680/7680 [==============================] - 3s 426us/step - loss: 0.0331\n",
      "Epoch: 188\n",
      "Epoch 1/1\n",
      "7680/7680 [==============================] - 3s 418us/step - loss: 0.0332\n",
      "Epoch: 189\n",
      "Epoch 1/1\n",
      "7680/7680 [==============================] - 3s 426us/step - loss: 0.0331\n",
      "Epoch: 190\n",
      "Epoch 1/1\n",
      "7680/7680 [==============================] - 3s 419us/step - loss: 0.0332\n",
      "Epoch: 191\n",
      "Epoch 1/1\n",
      "7680/7680 [==============================] - 3s 415us/step - loss: 0.0331\n",
      "Epoch: 192\n",
      "Epoch 1/1\n",
      "7680/7680 [==============================] - 3s 414us/step - loss: 0.0332\n",
      "Epoch: 193\n",
      "Epoch 1/1\n",
      "7680/7680 [==============================] - 4s 541us/step - loss: 0.0331\n",
      "Epoch: 194\n",
      "Epoch 1/1\n",
      "7680/7680 [==============================] - 3s 430us/step - loss: 0.0332\n",
      "Epoch: 195\n",
      "Epoch 1/1\n",
      "7680/7680 [==============================] - 4s 488us/step - loss: 0.0331\n",
      "Epoch: 196\n",
      "Epoch 1/1\n",
      "7680/7680 [==============================] - 3s 444us/step - loss: 0.0332\n",
      "Epoch: 197\n",
      "Epoch 1/1\n",
      "7680/7680 [==============================] - 3s 427us/step - loss: 0.0331\n",
      "Epoch: 198\n",
      "Epoch 1/1\n",
      "7680/7680 [==============================] - 3s 450us/step - loss: 0.0332\n",
      "Epoch: 199\n",
      "Epoch 1/1\n",
      "7680/7680 [==============================] - 3s 411us/step - loss: 0.0331\n"
     ]
    }
   ],
   "source": [
    "for i in range(epochs):\n",
    "    print(\"Epoch: \" + str(i))\n",
    "    regressor_mae.fit(X_train, y_train, shuffle=False, epochs = 1, batch_size = batch_size)\n",
    "    regressor_mae.reset_states()"
   ]
  },
  {
   "cell_type": "code",
   "execution_count": 20,
   "metadata": {},
   "outputs": [
    {
     "name": "stdout",
     "output_type": "stream",
     "text": [
      "/Users/penghui/FE5225/project/baseline\n",
      "models/my_model_with_mae_30_ts.h5\n"
     ]
    }
   ],
   "source": [
    "!pwd\n",
    "!ls models/*.h5"
   ]
  },
  {
   "cell_type": "code",
   "execution_count": 21,
   "metadata": {},
   "outputs": [],
   "source": [
    "def get_test_length(dataset, batch_size):\n",
    "    \n",
    "    test_length_values = []\n",
    "    for x in range(len(dataset) - 200, len(dataset) - timesteps*2): \n",
    "        modulo=(x-upper_train)%batch_size\n",
    "        if (modulo == 0):\n",
    "            test_length_values.append(x)\n",
    "            print(x)\n",
    "    return (max(test_length_values))"
   ]
  },
  {
   "cell_type": "code",
   "execution_count": 22,
   "metadata": {},
   "outputs": [
    {
     "name": "stdout",
     "output_type": "stream",
     "text": [
      "8444\n",
      "8508\n",
      "8508\n",
      "768\n"
     ]
    }
   ],
   "source": [
    "test_length = get_test_length(df_data_1, batch_size)\n",
    "print(test_length)\n",
    "upper_test = test_length + timesteps*2\n",
    "testset_length = test_length - upper_train\n",
    "print(testset_length)"
   ]
  },
  {
   "cell_type": "code",
   "execution_count": 23,
   "metadata": {},
   "outputs": [
    {
     "name": "stdout",
     "output_type": "stream",
     "text": [
      "7740 8568 8587\n"
     ]
    }
   ],
   "source": [
    "print(upper_train, upper_test, len(df_data_1))"
   ]
  },
  {
   "cell_type": "code",
   "execution_count": 24,
   "metadata": {},
   "outputs": [],
   "source": [
    "# construct test set\n",
    "\n",
    "#subsetting\n",
    "df_data_1_test = df_data_1[upper_train:upper_test] \n",
    "test_set = df_data_1_test.iloc[:,1:2].values\n",
    "\n",
    "#scaling\n",
    "scaled_real_bcg_values_test = sc.fit_transform(np.float64(test_set))\n",
    "\n",
    "#creating input data\n",
    "X_test = []\n",
    "for i in range(timesteps, testset_length + timesteps):\n",
    "    X_test.append(scaled_real_bcg_values_test[i-timesteps:i, 0])\n",
    "X_test = np.array(X_test)\n",
    "\n",
    "\n",
    "#reshaping\n",
    "X_test = np.reshape(X_test, (X_test.shape[0], X_test.shape[1], 1))"
   ]
  },
  {
   "cell_type": "code",
   "execution_count": 25,
   "metadata": {},
   "outputs": [
    {
     "name": "stdout",
     "output_type": "stream",
     "text": [
      "(768, 30, 1)\n",
      "(768, 30)\n",
      "(738, 1)\n"
     ]
    }
   ],
   "source": [
    "#prediction\n",
    "predicted_bcg_values_test_mae = regressor_mae.predict(X_test, batch_size=batch_size)\n",
    "regressor_mae.reset_states()\n",
    "\n",
    "print(predicted_bcg_values_test_mae.shape)\n",
    "\n",
    "#reshaping\n",
    "predicted_bcg_values_test_mae = np.reshape(predicted_bcg_values_test_mae, \n",
    "                                       (predicted_bcg_values_test_mae.shape[0], \n",
    "                                        predicted_bcg_values_test_mae.shape[1]))\n",
    "\n",
    "print(predicted_bcg_values_test_mae.shape)\n",
    "#inverse transform\n",
    "predicted_bcg_values_test_mae = sc.inverse_transform(predicted_bcg_values_test_mae)\n",
    "\n",
    "\n",
    "#creating y_test data\n",
    "y_test = []\n",
    "for j in range(0, testset_length - timesteps):\n",
    "    y_test = np.append(y_test, predicted_bcg_values_test_mae[j, timesteps-1])\n",
    "\n",
    "# reshaping\n",
    "y_test = np.reshape(y_test, (y_test.shape[0], 1))\n",
    "\n",
    "print(y_test.shape)"
   ]
  },
  {
   "cell_type": "code",
   "execution_count": 26,
   "metadata": {},
   "outputs": [
    {
     "data": {
      "image/png": "[encoded data removed]",
      "text/plain": [
       "<Figure size 432x288 with 1 Axes>"
      ]
     },
     "metadata": {
      "needs_background": "light"
     },
     "output_type": "display_data"
    }
   ],
   "source": [
    "# Visualising the results\n",
    "plt.plot(test_set[timesteps:len(y_test)], color = 'red', label = 'Real Crude Oil Prices')\n",
    "plt.plot(y_test[0:len(y_test) - timesteps], color = 'blue', label = 'Predicted Crude Oil Prices')\n",
    "plt.title('Crude Oil Prices Prediction - MAE')\n",
    "plt.xlabel('Time')\n",
    "plt.ylabel('Crude Oil Prices')\n",
    "plt.legend()\n",
    "plt.show()"
   ]
  },
  {
   "cell_type": "code",
   "execution_count": 27,
   "metadata": {},
   "outputs": [
    {
     "name": "stdout",
     "output_type": "stream",
     "text": [
      "4.4841142239567775\n"
     ]
    }
   ],
   "source": [
    "\n",
    "import math\n",
    "from sklearn.metrics import mean_squared_error\n",
    "rmse = math.sqrt(mean_squared_error(test_set[timesteps:len(y_test)], y_test[0:len(y_test) - timesteps]))\n",
    "print(rmse)"
   ]
  },
  {
   "cell_type": "code",
   "execution_count": 28,
   "metadata": {},
   "outputs": [
    {
     "name": "stdout",
     "output_type": "stream",
     "text": [
      "3.3460338852230445\n"
     ]
    }
   ],
   "source": [
    "from sklearn.metrics import mean_absolute_error\n",
    "mae = mean_absolute_error(test_set[timesteps:len(y_test)], y_test[0:len(y_test) - timesteps])\n",
    "print(mae)"
   ]
  },
  {
   "cell_type": "code",
   "execution_count": 29,
   "metadata": {},
   "outputs": [],
   "source": [
    "import h5py\n",
    "regressor_mae.save(filepath=\"models/my_model_with_mae_30_ts.h5\")"
   ]
  },
  {
   "cell_type": "code",
   "execution_count": null,
   "metadata": {},
   "outputs": [],
   "source": []
  },
  {
   "cell_type": "code",
   "execution_count": null,
   "metadata": {},
   "outputs": [],
   "source": []
  },
  {
   "cell_type": "code",
   "execution_count": null,
   "metadata": {},
   "outputs": [],
   "source": []
  }
 ],
 "metadata": {
  "kernelspec": {
   "display_name": "Python 3",
   "language": "python",
   "name": "python3"
  },
  "language_info": {
   "codemirror_mode": {
    "name": "ipython",
    "version": 3
   },
   "file_extension": ".py",
   "mimetype": "text/x-python",
   "name": "python",
   "nbconvert_exporter": "python",
   "pygments_lexer": "ipython3",
   "version": "3.6.12"
  }
 },
 "nbformat": 4,
 "nbformat_minor": 1
}
