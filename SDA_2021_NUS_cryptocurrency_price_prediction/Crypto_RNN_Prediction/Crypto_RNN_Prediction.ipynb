{
 "cells": [
  {
   "cell_type": "code",
   "execution_count": 1,
   "metadata": {
    "id": "A3F2tABbhDB7"
   },
   "outputs": [],
   "source": [
    "import tensorflow as tf\n",
    "import numpy as np\n",
    "import pandas as pd\n",
    "import matplotlib.pyplot as plt\n",
    "import os"
   ]
  },
  {
   "cell_type": "code",
   "execution_count": 2,
   "metadata": {
    "id": "yhnrc5ZLhDCK"
   },
   "outputs": [],
   "source": [
    "from tensorflow.keras import Sequential\n",
    "from tensorflow.keras.layers import Dense, SimpleRNN, Dropout,Flatten"
   ]
  },
  {
   "cell_type": "code",
   "execution_count": 3,
   "metadata": {},
   "outputs": [],
   "source": [
    "path = os.path.abspath(\"result_BTC.csv\")"
   ]
  },
  {
   "cell_type": "code",
   "execution_count": 4,
   "metadata": {
    "id": "yzJcK4RqhDCO"
   },
   "outputs": [],
   "source": [
    "bit_data_close=pd.read_csv(path,index_col='open_time',parse_dates=[\"open_time\"])[['close']]"
   ]
  },
  {
   "cell_type": "code",
   "execution_count": 8,
   "metadata": {
    "colab": {
     "base_uri": "https://localhost:8080/",
     "height": 233
    },
    "id": "ZMoXgwR4hDCP",
    "outputId": "4e636237-2296-4e45-d7bb-1efc0c935762"
   },
   "outputs": [
    {
     "data": {
      "text/html": [
       "<div>\n",
       "<style scoped>\n",
       "    .dataframe tbody tr th:only-of-type {\n",
       "        vertical-align: middle;\n",
       "    }\n",
       "\n",
       "    .dataframe tbody tr th {\n",
       "        vertical-align: top;\n",
       "    }\n",
       "\n",
       "    .dataframe thead th {\n",
       "        text-align: right;\n",
       "    }\n",
       "</style>\n",
       "<table border=\"1\" class=\"dataframe\">\n",
       "  <thead>\n",
       "    <tr style=\"text-align: right;\">\n",
       "      <th></th>\n",
       "      <th>close</th>\n",
       "    </tr>\n",
       "    <tr>\n",
       "      <th>open_time</th>\n",
       "      <th></th>\n",
       "    </tr>\n",
       "  </thead>\n",
       "  <tbody>\n",
       "    <tr>\n",
       "      <th>2018-03-22 00:00:00</th>\n",
       "      <td>9023.07</td>\n",
       "    </tr>\n",
       "    <tr>\n",
       "      <th>2018-03-22 01:00:00</th>\n",
       "      <td>9067.43</td>\n",
       "    </tr>\n",
       "    <tr>\n",
       "      <th>2018-03-22 02:00:00</th>\n",
       "      <td>9049.96</td>\n",
       "    </tr>\n",
       "    <tr>\n",
       "      <th>2018-03-22 03:00:00</th>\n",
       "      <td>9017.01</td>\n",
       "    </tr>\n",
       "    <tr>\n",
       "      <th>2018-03-22 04:00:00</th>\n",
       "      <td>9030.00</td>\n",
       "    </tr>\n",
       "  </tbody>\n",
       "</table>\n",
       "</div>"
      ],
      "text/plain": [
       "                       close\n",
       "open_time                   \n",
       "2018-03-22 00:00:00  9023.07\n",
       "2018-03-22 01:00:00  9067.43\n",
       "2018-03-22 02:00:00  9049.96\n",
       "2018-03-22 03:00:00  9017.01\n",
       "2018-03-22 04:00:00  9030.00"
      ]
     },
     "execution_count": 8,
     "metadata": {
      "tags": []
     },
     "output_type": "execute_result"
    }
   ],
   "source": [
    "bit_data_close.head(5)"
   ]
  },
  {
   "cell_type": "code",
   "execution_count": 9,
   "metadata": {
    "colab": {
     "base_uri": "https://localhost:8080/"
    },
    "id": "ZhHaAiUdhDCU",
    "outputId": "d43a1e27-1b57-4b5f-aa93-ea0479096e40"
   },
   "outputs": [
    {
     "data": {
      "text/plain": [
       "(26241, 1)"
      ]
     },
     "execution_count": 9,
     "metadata": {
      "tags": []
     },
     "output_type": "execute_result"
    }
   ],
   "source": [
    "bit_data_close.shape"
   ]
  },
  {
   "cell_type": "code",
   "execution_count": 10,
   "metadata": {
    "colab": {
     "base_uri": "https://localhost:8080/"
    },
    "id": "d0EVRJMEhDCY",
    "outputId": "8e159eea-efe1-450d-8ea5-600eae32cb87"
   },
   "outputs": [
    {
     "data": {
      "text/plain": [
       "close    0\n",
       "dtype: int64"
      ]
     },
     "execution_count": 10,
     "metadata": {
      "tags": []
     },
     "output_type": "execute_result"
    }
   ],
   "source": [
    "bit_data_close.isnull().sum()"
   ]
  },
  {
   "cell_type": "code",
   "execution_count": 11,
   "metadata": {
    "colab": {
     "base_uri": "https://localhost:8080/"
    },
    "id": "jfT96J38hDCZ",
    "outputId": "349ef056-ea3a-48be-c844-41a522c4c1a9"
   },
   "outputs": [
    {
     "data": {
      "text/plain": [
       "(25978, 1)"
      ]
     },
     "execution_count": 11,
     "metadata": {
      "tags": []
     },
     "output_type": "execute_result"
    }
   ],
   "source": [
    "train_size = int(0.99*(len(bit_data_close)))\n",
    "close_train=bit_data_close.iloc[:train_size]          \n",
    "close_test=bit_data_close.iloc[len(close_train):]                  #test set\n",
    "close_train=np.array(close_train)\n",
    "close_train=close_train.reshape(close_train.shape[0],1)           #reshape the train data\n",
    "close_train.shape   "
   ]
  },
  {
   "cell_type": "code",
   "execution_count": 12,
   "metadata": {
    "colab": {
     "base_uri": "https://localhost:8080/"
    },
    "id": "Wjg1Y9MjhDCa",
    "outputId": "175836f8-b763-4336-b18d-41dc4fc64685"
   },
   "outputs": [
    {
     "data": {
      "text/plain": [
       "(25978, 1)"
      ]
     },
     "execution_count": 12,
     "metadata": {
      "tags": []
     },
     "output_type": "execute_result"
    }
   ],
   "source": [
    "from sklearn.preprocessing import MinMaxScaler\n",
    "scaler=MinMaxScaler(feature_range=(0,1))               #standardlize data\n",
    "close_scaled=scaler.fit_transform(close_train)         #{x_i - u}/sigma\n",
    "close_scaled.shape"
   ]
  },
  {
   "cell_type": "code",
   "execution_count": 13,
   "metadata": {
    "colab": {
     "base_uri": "https://localhost:8080/"
    },
    "id": "tEqPMGGshDCa",
    "outputId": "b2847fc1-2b1d-4eb9-8d6b-8b09a0bc7a28"
   },
   "outputs": [
    {
     "name": "stdout",
     "output_type": "stream",
     "text": [
      "x_train shape=  (25954, 24, 1)\n",
      "y_train shape=  (25954,)\n"
     ]
    }
   ],
   "source": [
    "# process train set: each y include 24 characteristics \n",
    "timestep=24\n",
    "x_train=[]\n",
    "y_train=[]\n",
    "\n",
    "for i in range(timestep,close_scaled.shape[0]):\n",
    "    x_train.append(close_scaled[i-timestep:i,0])\n",
    "    y_train.append(close_scaled[i,0])\n",
    "\n",
    "x_train,y_train=np.array(x_train),np.array(y_train)\n",
    "x_train=x_train.reshape(x_train.shape[0],x_train.shape[1],1) \n",
    "print(\"x_train shape= \",x_train.shape)                       \n",
    "print(\"y_train shape= \",y_train.shape)                      "
   ]
  },
  {
   "cell_type": "code",
   "execution_count": 14,
   "metadata": {
    "colab": {
     "base_uri": "https://localhost:8080/"
    },
    "id": "6BbBxvq8hDCd",
    "outputId": "11f2f912-ea9b-43ed-ab4f-d96893a7afed"
   },
   "outputs": [
    {
     "name": "stdout",
     "output_type": "stream",
     "text": [
      "Epoch 1/100\n",
      "406/406 [==============================] - 122s 290ms/step - loss: 0.0022\n",
      "Epoch 2/100\n",
      "406/406 [==============================] - 116s 285ms/step - loss: 3.3842e-04\n",
      "Epoch 3/100\n",
      "406/406 [==============================] - 116s 284ms/step - loss: 2.8824e-04\n",
      "Epoch 4/100\n",
      "406/406 [==============================] - 116s 286ms/step - loss: 2.3841e-04\n",
      "Epoch 5/100\n",
      "406/406 [==============================] - 116s 286ms/step - loss: 3.3621e-04\n",
      "Epoch 6/100\n",
      "406/406 [==============================] - 115s 284ms/step - loss: 1.8081e-04\n",
      "Epoch 7/100\n",
      "406/406 [==============================] - 115s 284ms/step - loss: 1.8255e-04\n",
      "Epoch 8/100\n",
      "406/406 [==============================] - 115s 284ms/step - loss: 1.7707e-04\n",
      "Epoch 9/100\n",
      "406/406 [==============================] - 115s 284ms/step - loss: 2.0007e-04\n",
      "Epoch 10/100\n",
      "406/406 [==============================] - 115s 284ms/step - loss: 2.1561e-04\n",
      "Epoch 11/100\n",
      "406/406 [==============================] - 115s 283ms/step - loss: 2.4129e-04\n",
      "Epoch 12/100\n",
      "406/406 [==============================] - 114s 282ms/step - loss: 1.3124e-04\n",
      "Epoch 13/100\n",
      "406/406 [==============================] - 116s 286ms/step - loss: 1.6090e-04\n",
      "Epoch 14/100\n",
      "406/406 [==============================] - 115s 283ms/step - loss: 1.6653e-04\n",
      "Epoch 15/100\n",
      "406/406 [==============================] - 116s 287ms/step - loss: 1.5119e-04\n",
      "Epoch 16/100\n",
      "406/406 [==============================] - 117s 287ms/step - loss: 1.8691e-04\n",
      "Epoch 17/100\n",
      "406/406 [==============================] - 116s 286ms/step - loss: 1.3633e-04\n",
      "Epoch 18/100\n",
      "406/406 [==============================] - 116s 286ms/step - loss: 1.4271e-04\n",
      "Epoch 19/100\n",
      "406/406 [==============================] - 116s 287ms/step - loss: 1.6237e-04\n",
      "Epoch 20/100\n",
      "406/406 [==============================] - 116s 286ms/step - loss: 1.4524e-04\n",
      "Epoch 21/100\n",
      "406/406 [==============================] - 116s 286ms/step - loss: 1.6131e-04\n",
      "Epoch 22/100\n",
      "406/406 [==============================] - 115s 282ms/step - loss: 1.4851e-04\n",
      "Epoch 23/100\n",
      "406/406 [==============================] - 114s 281ms/step - loss: 1.3415e-04\n",
      "Epoch 24/100\n",
      "406/406 [==============================] - 115s 283ms/step - loss: 1.6221e-04\n",
      "Epoch 25/100\n",
      "406/406 [==============================] - 115s 283ms/step - loss: 1.2622e-04\n",
      "Epoch 26/100\n",
      "406/406 [==============================] - 115s 284ms/step - loss: 1.3101e-04\n",
      "Epoch 27/100\n",
      "406/406 [==============================] - 116s 287ms/step - loss: 1.4446e-04\n",
      "Epoch 28/100\n",
      "406/406 [==============================] - 117s 288ms/step - loss: 1.2659e-04\n",
      "Epoch 29/100\n",
      "406/406 [==============================] - 118s 292ms/step - loss: 1.2605e-04\n",
      "Epoch 30/100\n",
      "406/406 [==============================] - 116s 287ms/step - loss: 1.2980e-04\n",
      "Epoch 31/100\n",
      "406/406 [==============================] - 117s 288ms/step - loss: 1.2571e-04\n",
      "Epoch 32/100\n",
      "406/406 [==============================] - 117s 288ms/step - loss: 1.2354e-04\n",
      "Epoch 33/100\n",
      "406/406 [==============================] - 116s 286ms/step - loss: 1.1552e-04\n",
      "Epoch 34/100\n",
      "406/406 [==============================] - 116s 285ms/step - loss: 1.1693e-04\n",
      "Epoch 35/100\n",
      "406/406 [==============================] - 115s 283ms/step - loss: 1.2501e-04\n",
      "Epoch 36/100\n",
      "406/406 [==============================] - 116s 287ms/step - loss: 1.2477e-04\n",
      "Epoch 37/100\n",
      "406/406 [==============================] - 116s 285ms/step - loss: 1.2551e-04\n",
      "Epoch 38/100\n",
      "406/406 [==============================] - 116s 286ms/step - loss: 1.1503e-04\n",
      "Epoch 39/100\n",
      "406/406 [==============================] - 116s 287ms/step - loss: 1.2276e-04\n",
      "Epoch 40/100\n",
      "406/406 [==============================] - 117s 288ms/step - loss: 1.1099e-04\n",
      "Epoch 41/100\n",
      "406/406 [==============================] - 116s 287ms/step - loss: 1.1642e-04\n",
      "Epoch 42/100\n",
      "406/406 [==============================] - 116s 286ms/step - loss: 1.2282e-04\n",
      "Epoch 43/100\n",
      "406/406 [==============================] - 116s 287ms/step - loss: 1.1733e-04\n",
      "Epoch 44/100\n",
      "406/406 [==============================] - 116s 286ms/step - loss: 1.1562e-04\n",
      "Epoch 45/100\n",
      "406/406 [==============================] - 116s 286ms/step - loss: 1.1964e-04\n",
      "Epoch 46/100\n",
      "406/406 [==============================] - 117s 288ms/step - loss: 1.2094e-04\n",
      "Epoch 47/100\n",
      "406/406 [==============================] - 118s 291ms/step - loss: 1.1905e-04\n",
      "Epoch 48/100\n",
      "406/406 [==============================] - 116s 286ms/step - loss: 1.1060e-04\n",
      "Epoch 49/100\n",
      "406/406 [==============================] - 117s 289ms/step - loss: 1.1624e-04\n",
      "Epoch 50/100\n",
      "406/406 [==============================] - 117s 288ms/step - loss: 1.1421e-04\n",
      "Epoch 51/100\n",
      "406/406 [==============================] - 115s 284ms/step - loss: 1.0883e-04\n",
      "Epoch 52/100\n",
      "406/406 [==============================] - 116s 286ms/step - loss: 1.1982e-04\n",
      "Epoch 53/100\n",
      "406/406 [==============================] - 116s 285ms/step - loss: 1.0413e-04\n",
      "Epoch 54/100\n",
      "406/406 [==============================] - 116s 287ms/step - loss: 1.0357e-04\n",
      "Epoch 55/100\n",
      "406/406 [==============================] - 116s 287ms/step - loss: 1.0862e-04\n",
      "Epoch 56/100\n",
      "406/406 [==============================] - 116s 285ms/step - loss: 1.0775e-04\n",
      "Epoch 57/100\n",
      "406/406 [==============================] - 116s 286ms/step - loss: 1.0586e-04\n",
      "Epoch 58/100\n",
      "406/406 [==============================] - 117s 288ms/step - loss: 1.3051e-04\n",
      "Epoch 59/100\n",
      "406/406 [==============================] - 117s 287ms/step - loss: 1.2010e-04\n",
      "Epoch 60/100\n",
      "406/406 [==============================] - 117s 287ms/step - loss: 1.0538e-04\n",
      "Epoch 61/100\n",
      "406/406 [==============================] - 116s 286ms/step - loss: 1.0648e-04\n",
      "Epoch 62/100\n",
      "406/406 [==============================] - 116s 285ms/step - loss: 1.2189e-04\n",
      "Epoch 63/100\n",
      "406/406 [==============================] - 116s 286ms/step - loss: 1.3449e-04\n",
      "Epoch 64/100\n",
      "406/406 [==============================] - 116s 287ms/step - loss: 1.0843e-04\n",
      "Epoch 65/100\n",
      "406/406 [==============================] - 121s 298ms/step - loss: 1.1189e-04\n",
      "Epoch 66/100\n",
      "406/406 [==============================] - 118s 291ms/step - loss: 1.1293e-04\n",
      "Epoch 67/100\n",
      "406/406 [==============================] - 118s 290ms/step - loss: 9.8554e-05\n",
      "Epoch 68/100\n",
      "406/406 [==============================] - 117s 288ms/step - loss: 1.1513e-04\n",
      "Epoch 69/100\n",
      "406/406 [==============================] - 119s 292ms/step - loss: 1.0552e-04\n",
      "Epoch 70/100\n",
      "406/406 [==============================] - 117s 289ms/step - loss: 1.2235e-04\n",
      "Epoch 71/100\n",
      "406/406 [==============================] - 119s 294ms/step - loss: 1.0526e-04\n",
      "Epoch 72/100\n",
      "406/406 [==============================] - 117s 289ms/step - loss: 1.2229e-04\n",
      "Epoch 73/100\n",
      "406/406 [==============================] - 117s 288ms/step - loss: 1.0855e-04\n",
      "Epoch 74/100\n",
      "406/406 [==============================] - 118s 290ms/step - loss: 1.1157e-04\n",
      "Epoch 75/100\n",
      "406/406 [==============================] - 118s 290ms/step - loss: 1.1607e-04\n",
      "Epoch 76/100\n",
      "406/406 [==============================] - 117s 289ms/step - loss: 1.0945e-04\n",
      "Epoch 77/100\n",
      "406/406 [==============================] - 119s 293ms/step - loss: 1.0278e-04\n",
      "Epoch 78/100\n",
      "406/406 [==============================] - 118s 290ms/step - loss: 1.0382e-04\n",
      "Epoch 79/100\n",
      "406/406 [==============================] - 118s 290ms/step - loss: 1.0947e-04\n",
      "Epoch 80/100\n",
      "406/406 [==============================] - 117s 289ms/step - loss: 1.0538e-04\n",
      "Epoch 81/100\n",
      "406/406 [==============================] - 117s 288ms/step - loss: 1.1045e-04\n",
      "Epoch 82/100\n",
      "406/406 [==============================] - 116s 286ms/step - loss: 1.1395e-04\n",
      "Epoch 83/100\n",
      "406/406 [==============================] - 117s 289ms/step - loss: 1.1401e-04\n",
      "Epoch 84/100\n",
      "406/406 [==============================] - 116s 286ms/step - loss: 1.2436e-04\n",
      "Epoch 85/100\n",
      "406/406 [==============================] - 117s 288ms/step - loss: 1.0044e-04\n",
      "Epoch 86/100\n",
      "406/406 [==============================] - 116s 285ms/step - loss: 1.0566e-04\n",
      "Epoch 87/100\n",
      "406/406 [==============================] - 116s 285ms/step - loss: 1.0061e-04\n",
      "Epoch 88/100\n",
      "406/406 [==============================] - 116s 286ms/step - loss: 1.0273e-04\n",
      "Epoch 89/100\n",
      "406/406 [==============================] - 115s 284ms/step - loss: 9.6830e-05\n",
      "Epoch 90/100\n",
      "406/406 [==============================] - 115s 284ms/step - loss: 9.7472e-05\n",
      "Epoch 91/100\n",
      "406/406 [==============================] - 116s 285ms/step - loss: 9.6457e-05\n",
      "Epoch 92/100\n",
      "406/406 [==============================] - 115s 283ms/step - loss: 1.1266e-04\n",
      "Epoch 93/100\n",
      "406/406 [==============================] - 116s 286ms/step - loss: 9.9886e-05\n",
      "Epoch 94/100\n",
      "406/406 [==============================] - 117s 288ms/step - loss: 1.1663e-04\n",
      "Epoch 95/100\n",
      "406/406 [==============================] - 117s 289ms/step - loss: 1.0875e-04\n",
      "Epoch 96/100\n",
      "406/406 [==============================] - 121s 299ms/step - loss: 1.0686e-04\n",
      "Epoch 97/100\n",
      "406/406 [==============================] - 119s 292ms/step - loss: 1.0660e-04\n",
      "Epoch 98/100\n",
      "406/406 [==============================] - 121s 297ms/step - loss: 1.0741e-04\n",
      "Epoch 99/100\n",
      "406/406 [==============================] - 118s 290ms/step - loss: 1.0879e-04\n",
      "Epoch 100/100\n",
      "406/406 [==============================] - 116s 287ms/step - loss: 1.0155e-04\n"
     ]
    },
    {
     "data": {
      "text/plain": [
       "<tensorflow.python.keras.callbacks.History at 0x7f551b69d890>"
      ]
     },
     "execution_count": 14,
     "metadata": {
      "tags": []
     },
     "output_type": "execute_result"
    }
   ],
   "source": [
    "#RNN\n",
    "regressor=Sequential()\n",
    "#the first layer\n",
    "regressor.add(SimpleRNN(128,activation=\"relu\",input_shape=(x_train.shape[1],1),return_sequences=True))\n",
    "# return_sequences:default is false.whcih means return to the output of the last stride. If true,return to the output of the all stride in the last layer.\n",
    "# hidden states: 128\n",
    "regressor.add(Dropout(0.25))   #not work in 25% situation（avoid overfit）\n",
    "###\n",
    "#the second layer\n",
    "regressor.add(SimpleRNN(256,activation=\"relu\",return_sequences=True))\n",
    "regressor.add(Dropout(0.25))\n",
    "#the third layer\n",
    "regressor.add(SimpleRNN(512,activation=\"relu\",return_sequences=True))\n",
    "regressor.add(Dropout(0.35))\n",
    "#the fourth layer\n",
    "regressor.add(SimpleRNN(256,activation=\"relu\",return_sequences=True))\n",
    "regressor.add(Dropout(0.25))\n",
    "###\n",
    "#the fifth layer\n",
    "regressor.add(SimpleRNN(128,activation=\"relu\",return_sequences=True))\n",
    "regressor.add(Dropout(0.25))\n",
    "#multi-dimension- one dimension\n",
    "regressor.add(Flatten())\n",
    "#output\n",
    "regressor.add(Dense(1))     #one dimension\n",
    "\n",
    "regressor.compile(optimizer=\"adam\",loss=\"mean_squared_error\")  \n",
    "regressor.fit(x_train,y_train,epochs=100,batch_size=64)       #100 epoch，64 samples each epoch"
   ]
  },
  {
   "cell_type": "code",
   "execution_count": 15,
   "metadata": {
    "id": "0bc3wRhehDCl"
   },
   "outputs": [],
   "source": [
    "#predict\n",
    "inputs=bit_data_close[len(bit_data_close)-len(close_test)-timestep:]           #input is the characteristic in test set\n",
    "inputs=inputs.values.reshape(-1,1)\n",
    "inputs=scaler.transform(inputs)                           \n",
    "\n",
    "x_test=[]\n",
    "for i in range(timestep,inputs.shape[0]):\n",
    "    x_test.append(inputs[i-timestep:i,0])\n",
    "x_test=np.array(x_test)\n",
    "x_test=x_test.reshape(x_test.shape[0],x_test.shape[1],1)\n",
    "x_test.shape                                                  \n",
    "\n",
    "predicted_data=regressor.predict(x_test)                      #using the trained model to predict\n",
    "predicted_data1=scaler.inverse_transform(predicted_data)       "
   ]
  },
  {
   "cell_type": "code",
   "execution_count": 16,
   "metadata": {
    "colab": {
     "base_uri": "https://localhost:8080/",
     "height": 310
    },
    "id": "gZPnQRGNhDCo",
    "outputId": "aad9296b-690e-4bbf-b845-02e9b789d2ff"
   },
   "outputs": [
    {
     "data": {
      "image/png": "[encoded data removed]",
      "text/plain": [
       "<Figure size 640x320 with 1 Axes>"
      ]
     },
     "metadata": {
      "tags": []
     },
     "output_type": "display_data"
    }
   ],
   "source": [
    "data_test=np.array(close_test)                           #true price\n",
    "data_test=data_test.reshape(len(data_test),1)\n",
    "#plot show the relationship between the true price and the predicted price\n",
    "plt.figure(figsize=(8,4), dpi=80, facecolor='w', edgecolor='k')\n",
    "plt.plot(data_test,color=\"r\",label=\"true result\")\n",
    "plt.plot(predicted_data1,color=\"b\",label=\"predicted result\")\n",
    "plt.legend()\n",
    "plt.xlabel(\"Time(24 h)\")\n",
    "plt.ylabel(\"Close Values\")\n",
    "plt.grid(True)\n",
    "plt.show()"
   ]
  },
  {
   "cell_type": "code",
   "execution_count": 17,
   "metadata": {
    "colab": {
     "base_uri": "https://localhost:8080/"
    },
    "id": "aCArLy0FhDCq",
    "outputId": "c18a0622-d588-49e3-a3ae-1abead6d4c99"
   },
   "outputs": [
    {
     "name": "stdout",
     "output_type": "stream",
     "text": [
      "0.8903297883852385\n"
     ]
    }
   ],
   "source": [
    "# RNN Correlation coefficient \n",
    "test_series = pd.Series(data_test.flatten().tolist())  \n",
    "predicted_series1 = pd.Series(predicted_data1.flatten().tolist())\n",
    "print(test_series.corr(predicted_series1))"
   ]
  },
  {
   "cell_type": "code",
   "execution_count": 3,
   "metadata": {},
   "outputs": [
    {
     "name": "stdout",
     "output_type": "stream",
     "text": [
      "bnb_data:  (26241, 1)\n"
     ]
    },
    {
     "data": {
      "text/html": [
       "<div>\n",
       "<style scoped>\n",
       "    .dataframe tbody tr th:only-of-type {\n",
       "        vertical-align: middle;\n",
       "    }\n",
       "\n",
       "    .dataframe tbody tr th {\n",
       "        vertical-align: top;\n",
       "    }\n",
       "\n",
       "    .dataframe thead th {\n",
       "        text-align: right;\n",
       "    }\n",
       "</style>\n",
       "<table border=\"1\" class=\"dataframe\">\n",
       "  <thead>\n",
       "    <tr style=\"text-align: right;\">\n",
       "      <th></th>\n",
       "      <th>close</th>\n",
       "    </tr>\n",
       "    <tr>\n",
       "      <th>open_time</th>\n",
       "      <th></th>\n",
       "    </tr>\n",
       "  </thead>\n",
       "  <tbody>\n",
       "    <tr>\n",
       "      <th>2018-03-22 00:00:00</th>\n",
       "      <td>10.2678</td>\n",
       "    </tr>\n",
       "    <tr>\n",
       "      <th>2018-03-22 01:00:00</th>\n",
       "      <td>10.2300</td>\n",
       "    </tr>\n",
       "    <tr>\n",
       "      <th>2018-03-22 02:00:00</th>\n",
       "      <td>10.1498</td>\n",
       "    </tr>\n",
       "    <tr>\n",
       "      <th>2018-03-22 03:00:00</th>\n",
       "      <td>10.0805</td>\n",
       "    </tr>\n",
       "    <tr>\n",
       "      <th>2018-03-22 04:00:00</th>\n",
       "      <td>10.4000</td>\n",
       "    </tr>\n",
       "  </tbody>\n",
       "</table>\n",
       "</div>"
      ],
      "text/plain": [
       "                       close\n",
       "open_time                   \n",
       "2018-03-22 00:00:00  10.2678\n",
       "2018-03-22 01:00:00  10.2300\n",
       "2018-03-22 02:00:00  10.1498\n",
       "2018-03-22 03:00:00  10.0805\n",
       "2018-03-22 04:00:00  10.4000"
      ]
     },
     "execution_count": 3,
     "metadata": {},
     "output_type": "execute_result"
    }
   ],
   "source": [
    "#RNN for BNB\n",
    "bnb_data=pd.read_csv(\"result_BNB.csv\",index_col='open_time',parse_dates=[\"open_time\"])[[\"close\"]]\n",
    "print(\"bnb_data: \",bnb_data.shape)\n",
    "bnb_data.head(5)"
   ]
  },
  {
   "cell_type": "code",
   "execution_count": 4,
   "metadata": {},
   "outputs": [
    {
     "data": {
      "text/plain": [
       "close    0\n",
       "dtype: int64"
      ]
     },
     "execution_count": 4,
     "metadata": {},
     "output_type": "execute_result"
    }
   ],
   "source": [
    "bnb_data.isnull().sum()"
   ]
  },
  {
   "cell_type": "code",
   "execution_count": 5,
   "metadata": {},
   "outputs": [
    {
     "name": "stdout",
     "output_type": "stream",
     "text": [
      "close_train_bnb:  (25978, 1)\n"
     ]
    }
   ],
   "source": [
    "train_size_bnb=int(0.99*(len(bnb_data)))\n",
    "close_train_bnb=bnb_data.iloc[:train_size_bnb]          \n",
    "close_test_bnb=bnb_data.iloc[len(close_train_bnb):]    \n",
    "close_train_bnb=np.array(close_train_bnb)\n",
    "close_train_bnb=close_train_bnb.reshape(close_train_bnb.shape[0],1)  \n",
    "print (\"close_train_bnb: \", close_train_bnb.shape )  "
   ]
  },
  {
   "cell_type": "code",
   "execution_count": 6,
   "metadata": {},
   "outputs": [],
   "source": [
    "from sklearn.preprocessing import MinMaxScaler\n",
    "scaler=MinMaxScaler(feature_range=(0,1))               \n",
    "close_scaled_bnb=scaler.fit_transform(close_train_bnb)         #standardlize data"
   ]
  },
  {
   "cell_type": "code",
   "execution_count": 7,
   "metadata": {},
   "outputs": [
    {
     "name": "stdout",
     "output_type": "stream",
     "text": [
      "x_train_bnb shape=  (25954, 24, 1)\n",
      "y_train_bnb shape=  (25954,)\n"
     ]
    }
   ],
   "source": [
    "# process train set: each y include 24 characteristics \n",
    "timestep=24\n",
    "x_train_bnb=[]\n",
    "y_train_bnb=[]\n",
    "\n",
    "for i in range(timestep,close_scaled_bnb.shape[0]):\n",
    "    x_train_bnb.append(close_scaled_bnb[i-timestep:i,0])\n",
    "    y_train_bnb.append(close_scaled_bnb[i,0])\n",
    "\n",
    "x_train_bnb,y_train_bnb=np.array(x_train_bnb),np.array(y_train_bnb)\n",
    "x_train_bnb=x_train_bnb.reshape(x_train_bnb.shape[0],x_train_bnb.shape[1],1) \n",
    "print(\"x_train_bnb shape= \",x_train_bnb.shape)                       \n",
    "print(\"y_train_bnb shape= \",y_train_bnb.shape)     "
   ]
  },
  {
   "cell_type": "code",
   "execution_count": 8,
   "metadata": {},
   "outputs": [
    {
     "name": "stdout",
     "output_type": "stream",
     "text": [
      "Epoch 1/50\n",
      "406/406 [==============================] - 38s 85ms/step - loss: 0.0011\n",
      "Epoch 2/50\n",
      "406/406 [==============================] - 39s 96ms/step - loss: 2.9602e-04\n",
      "Epoch 3/50\n",
      "406/406 [==============================] - 36s 88ms/step - loss: 3.1822e-04\n",
      "Epoch 4/50\n",
      "406/406 [==============================] - 36s 88ms/step - loss: 2.4864e-04\n",
      "Epoch 5/50\n",
      "406/406 [==============================] - 36s 89ms/step - loss: 1.9368e-04\n",
      "Epoch 6/50\n",
      "406/406 [==============================] - 36s 88ms/step - loss: 2.1456e-04\n",
      "Epoch 7/50\n",
      "406/406 [==============================] - 36s 89ms/step - loss: 2.1217e-04\n",
      "Epoch 8/50\n",
      "406/406 [==============================] - 40s 98ms/step - loss: 1.8442e-04\n",
      "Epoch 9/50\n",
      "406/406 [==============================] - 42s 104ms/step - loss: 1.5729e-04\n",
      "Epoch 10/50\n",
      "406/406 [==============================] - 38s 94ms/step - loss: 1.4321e-04\n",
      "Epoch 11/50\n",
      "406/406 [==============================] - 36s 90ms/step - loss: 1.1422e-04\n",
      "Epoch 12/50\n",
      "406/406 [==============================] - 37s 91ms/step - loss: 1.0913e-04\n",
      "Epoch 13/50\n",
      "406/406 [==============================] - 37s 91ms/step - loss: 1.1318e-04\n",
      "Epoch 14/50\n",
      "406/406 [==============================] - 36s 90ms/step - loss: 1.2912e-04\n",
      "Epoch 15/50\n",
      "406/406 [==============================] - 37s 90ms/step - loss: 1.4679e-04\n",
      "Epoch 16/50\n",
      "406/406 [==============================] - 39s 97ms/step - loss: 8.0987e-05\n",
      "Epoch 17/50\n",
      "406/406 [==============================] - 42s 103ms/step - loss: 1.0296e-04\n",
      "Epoch 18/50\n",
      "406/406 [==============================] - 39s 96ms/step - loss: 1.0269e-04\n",
      "Epoch 19/50\n",
      "406/406 [==============================] - 40s 98ms/step - loss: 1.0643e-04\n",
      "Epoch 20/50\n",
      "406/406 [==============================] - 37s 90ms/step - loss: 9.7865e-05\n",
      "Epoch 21/50\n",
      "406/406 [==============================] - 37s 92ms/step - loss: 8.8425e-05\n",
      "Epoch 22/50\n",
      "406/406 [==============================] - 37s 91ms/step - loss: 9.1449e-05\n",
      "Epoch 23/50\n",
      "406/406 [==============================] - 37s 91ms/step - loss: 1.0137e-04\n",
      "Epoch 24/50\n",
      "406/406 [==============================] - 38s 94ms/step - loss: 1.0842e-04\n",
      "Epoch 25/50\n",
      "406/406 [==============================] - 39s 95ms/step - loss: 1.1708e-04\n",
      "Epoch 26/50\n",
      "406/406 [==============================] - 40s 100ms/step - loss: 7.5832e-05\n",
      "Epoch 27/50\n",
      "406/406 [==============================] - 42s 103ms/step - loss: 8.8569e-05\n",
      "Epoch 28/50\n",
      "406/406 [==============================] - 58s 143ms/step - loss: 1.2981e-04\n",
      "Epoch 29/50\n",
      "406/406 [==============================] - 47s 116ms/step - loss: 8.5120e-05\n",
      "Epoch 30/50\n",
      "406/406 [==============================] - 41s 100ms/step - loss: 9.1717e-05\n",
      "Epoch 31/50\n",
      "406/406 [==============================] - 49s 120ms/step - loss: 7.9543e-05\n",
      "Epoch 32/50\n",
      "406/406 [==============================] - 39s 97ms/step - loss: 7.3439e-05\n",
      "Epoch 33/50\n",
      "406/406 [==============================] - 41s 101ms/step - loss: 7.1649e-05\n",
      "Epoch 34/50\n",
      "406/406 [==============================] - 35s 86ms/step - loss: 9.5136e-05\n",
      "Epoch 35/50\n",
      "406/406 [==============================] - 35s 86ms/step - loss: 7.6735e-05\n",
      "Epoch 36/50\n",
      "406/406 [==============================] - 35s 87ms/step - loss: 8.6043e-05\n",
      "Epoch 37/50\n",
      "406/406 [==============================] - 35s 86ms/step - loss: 9.6453e-05\n",
      "Epoch 38/50\n",
      "406/406 [==============================] - 35s 87ms/step - loss: 1.2221e-04\n",
      "Epoch 39/50\n",
      "406/406 [==============================] - 37s 91ms/step - loss: 7.3920e-05\n",
      "Epoch 40/50\n",
      "406/406 [==============================] - 42s 102ms/step - loss: 8.6998e-05\n",
      "Epoch 41/50\n",
      "406/406 [==============================] - 39s 96ms/step - loss: 7.6994e-05\n",
      "Epoch 42/50\n",
      "406/406 [==============================] - 39s 96ms/step - loss: 8.4701e-05\n",
      "Epoch 43/50\n",
      "406/406 [==============================] - 38s 94ms/step - loss: 7.0628e-05\n",
      "Epoch 44/50\n",
      "406/406 [==============================] - 40s 99ms/step - loss: 9.4875e-05\n",
      "Epoch 45/50\n",
      "406/406 [==============================] - 40s 98ms/step - loss: 8.7641e-05\n",
      "Epoch 46/50\n",
      "406/406 [==============================] - 36s 88ms/step - loss: 6.8559e-05\n",
      "Epoch 47/50\n",
      "406/406 [==============================] - 42s 103ms/step - loss: 7.4180e-05\n",
      "Epoch 48/50\n",
      "406/406 [==============================] - 39s 96ms/step - loss: 8.0268e-05\n",
      "Epoch 49/50\n",
      "406/406 [==============================] - 38s 93ms/step - loss: 5.9944e-05\n",
      "Epoch 50/50\n",
      "406/406 [==============================] - 43s 105ms/step - loss: 8.3963e-05\n"
     ]
    },
    {
     "data": {
      "text/plain": [
       "<tensorflow.python.keras.callbacks.History at 0x26598f4dfa0>"
      ]
     },
     "execution_count": 8,
     "metadata": {},
     "output_type": "execute_result"
    }
   ],
   "source": [
    "# RNN\n",
    "regressor_bnb=Sequential()\n",
    "#the first layer\n",
    "regressor_bnb.add(SimpleRNN(128,activation=\"relu\",input_shape=(x_train_bnb.shape[1],1),return_sequences=True))\n",
    "# return_sequences:default is false.whcih means return to the output of the last stride. If true,return to the output of the all stride in the last layer.\n",
    "# hidden states: 128\n",
    "regressor_bnb.add(Dropout(0.25))   #not work in 25% situation（avoid overfit）\n",
    "###\n",
    "#the second layer\n",
    "regressor_bnb.add(SimpleRNN(256,activation=\"relu\",return_sequences=True))\n",
    "regressor_bnb.add(Dropout(0.25))\n",
    "#the third layer\n",
    "regressor_bnb.add(SimpleRNN(256,activation=\"relu\",return_sequences=True))\n",
    "regressor_bnb.add(Dropout(0.25))\n",
    "#the fourth layer\n",
    "regressor_bnb.add(SimpleRNN(128,activation=\"relu\",return_sequences=True))\n",
    "regressor_bnb.add(Dropout(0.25))\n",
    "###\n",
    "#the fifith layer\n",
    "regressor_bnb.add(SimpleRNN(128,activation=\"relu\",return_sequences=True))\n",
    "regressor_bnb.add(Dropout(0.25))\n",
    "#multi-dimension- one dimension\n",
    "regressor_bnb.add(Flatten())\n",
    "#output\n",
    "regressor_bnb.add(Dense(1))     #one dimension\n",
    "\n",
    "regressor_bnb.compile(optimizer=\"adam\",loss=\"mean_squared_error\")  \n",
    "regressor_bnb.fit(x_train_bnb,y_train_bnb,epochs=50,batch_size=64)       #50 epochs，64 samples each epoch"
   ]
  },
  {
   "cell_type": "code",
   "execution_count": 9,
   "metadata": {},
   "outputs": [],
   "source": [
    "#Predict\n",
    "inputs_bnb=bnb_data[len(bnb_data)-len(close_test_bnb)-timestep:]           #input is the characteristic in test set\n",
    "inputs_bnb=inputs_bnb.values.reshape(-1,1)\n",
    "inputs_bnb=scaler.transform(inputs_bnb)                            \n",
    "\n",
    "x_test_bnb=[]\n",
    "for i in range(timestep,inputs_bnb.shape[0]):\n",
    "    x_test_bnb.append(inputs_bnb[i-timestep:i,0])\n",
    "x_test_bnb=np.array(x_test_bnb)\n",
    "x_test_bnb=x_test_bnb.reshape(x_test_bnb.shape[0],x_test_bnb.shape[1],1)\n",
    "x_test_bnb.shape    \n",
    "\n",
    "predicted_data_bnb=regressor_bnb.predict(x_test_bnb)                      #using the trained model to predict\n",
    "predicted_data_bnb=scaler.inverse_transform(predicted_data_bnb)    "
   ]
  },
  {
   "cell_type": "code",
   "execution_count": 10,
   "metadata": {},
   "outputs": [
    {
     "data": {
      "image/png": "[encoded data removed]",
      "text/plain": [
       "<Figure size 640x320 with 1 Axes>"
      ]
     },
     "metadata": {},
     "output_type": "display_data"
    }
   ],
   "source": [
    "data_test_bnb=np.array(close_test_bnb)                           \n",
    "data_test_bnb=data_test_bnb.reshape(len(data_test_bnb),1)\n",
    "#plot show the relationship between the true price and the predicted price\n",
    "plt.figure(figsize=(8,4), dpi=80, facecolor='w', edgecolor='k')\n",
    "plt.plot(data_test_bnb,color=\"r\",label=\"true result\")\n",
    "plt.plot(predicted_data_bnb,color=\"b\",label=\"predicted result\")\n",
    "plt.legend()\n",
    "plt.xlabel(\"Time(h)\")\n",
    "plt.ylabel(\"Close Values\")\n",
    "plt.grid(True)\n",
    "plt.show()"
   ]
  },
  {
   "cell_type": "code",
   "execution_count": 12,
   "metadata": {},
   "outputs": [
    {
     "name": "stdout",
     "output_type": "stream",
     "text": [
      "0.9201359954367712\n"
     ]
    }
   ],
   "source": [
    "#BNB RNN Correlation coefficient \n",
    "test_series_bnb = pd.Series(data_test_bnb.flatten().tolist())  \n",
    "predicted_series_bnb = pd.Series(predicted_data_bnb.flatten().tolist())\n",
    "print(test_series_bnb.corr(predicted_series_bnb))"
   ]
  },
  {
   "cell_type": "code",
   "execution_count": 1,
   "metadata": {},
   "outputs": [],
   "source": [
    "import tensorflow as tf\n",
    "import numpy as np\n",
    "import pandas as pd\n",
    "import matplotlib.pyplot as plt\n",
    "import os\n",
    "from tensorflow.keras import Sequential\n",
    "from tensorflow.keras.layers import Dense, SimpleRNN, Dropout,Flatten"
   ]
  },
  {
   "cell_type": "code",
   "execution_count": 3,
   "metadata": {},
   "outputs": [
    {
     "name": "stdout",
     "output_type": "stream",
     "text": [
      "eth_data:  (26241, 1)\n"
     ]
    },
    {
     "data": {
      "text/html": [
       "<div>\n",
       "<style scoped>\n",
       "    .dataframe tbody tr th:only-of-type {\n",
       "        vertical-align: middle;\n",
       "    }\n",
       "\n",
       "    .dataframe tbody tr th {\n",
       "        vertical-align: top;\n",
       "    }\n",
       "\n",
       "    .dataframe thead th {\n",
       "        text-align: right;\n",
       "    }\n",
       "</style>\n",
       "<table border=\"1\" class=\"dataframe\">\n",
       "  <thead>\n",
       "    <tr style=\"text-align: right;\">\n",
       "      <th></th>\n",
       "      <th>close</th>\n",
       "    </tr>\n",
       "    <tr>\n",
       "      <th>open_time</th>\n",
       "      <th></th>\n",
       "    </tr>\n",
       "  </thead>\n",
       "  <tbody>\n",
       "    <tr>\n",
       "      <th>2018-03-22 00:00:00</th>\n",
       "      <td>570.72</td>\n",
       "    </tr>\n",
       "    <tr>\n",
       "      <th>2018-03-22 01:00:00</th>\n",
       "      <td>572.78</td>\n",
       "    </tr>\n",
       "    <tr>\n",
       "      <th>2018-03-22 02:00:00</th>\n",
       "      <td>573.83</td>\n",
       "    </tr>\n",
       "    <tr>\n",
       "      <th>2018-03-22 03:00:00</th>\n",
       "      <td>569.58</td>\n",
       "    </tr>\n",
       "    <tr>\n",
       "      <th>2018-03-22 04:00:00</th>\n",
       "      <td>570.00</td>\n",
       "    </tr>\n",
       "  </tbody>\n",
       "</table>\n",
       "</div>"
      ],
      "text/plain": [
       "                      close\n",
       "open_time                  \n",
       "2018-03-22 00:00:00  570.72\n",
       "2018-03-22 01:00:00  572.78\n",
       "2018-03-22 02:00:00  573.83\n",
       "2018-03-22 03:00:00  569.58\n",
       "2018-03-22 04:00:00  570.00"
      ]
     },
     "execution_count": 3,
     "metadata": {},
     "output_type": "execute_result"
    }
   ],
   "source": [
    "#RNN for ETH\n",
    "eth_data=pd.read_csv(\"result_ETH.csv\",index_col='open_time',parse_dates=[\"open_time\"])[[\"close\"]]\n",
    "print(\"eth_data: \",eth_data.shape)\n",
    "eth_data.head(5)"
   ]
  },
  {
   "cell_type": "code",
   "execution_count": 4,
   "metadata": {},
   "outputs": [
    {
     "data": {
      "text/plain": [
       "close    0\n",
       "dtype: int64"
      ]
     },
     "execution_count": 4,
     "metadata": {},
     "output_type": "execute_result"
    }
   ],
   "source": [
    "eth_data.isnull().sum()"
   ]
  },
  {
   "cell_type": "code",
   "execution_count": 6,
   "metadata": {},
   "outputs": [
    {
     "name": "stdout",
     "output_type": "stream",
     "text": [
      "close_train_eth:  (25978, 1)\n"
     ]
    }
   ],
   "source": [
    "train_size_eth=int(0.99*(len(eth_data)))\n",
    "close_train_eth=eth_data.iloc[:train_size_eth]          \n",
    "close_test_eth=eth_data.iloc[len(close_train_eth):]    \n",
    "close_train_eth=np.array(close_train_eth)\n",
    "close_train_eth=close_train_eth.reshape(close_train_eth.shape[0],1)  \n",
    "print (\"close_train_eth: \", close_train_eth.shape )  "
   ]
  },
  {
   "cell_type": "code",
   "execution_count": 8,
   "metadata": {},
   "outputs": [],
   "source": [
    "from sklearn.preprocessing import MinMaxScaler\n",
    "scaler=MinMaxScaler(feature_range=(0,1))               \n",
    "close_scaled_eth=scaler.fit_transform(close_train_eth)         #standardlize data"
   ]
  },
  {
   "cell_type": "code",
   "execution_count": 9,
   "metadata": {},
   "outputs": [
    {
     "name": "stdout",
     "output_type": "stream",
     "text": [
      "x_train_eth shape=  (25954, 24, 1)\n",
      "y_train_eth shape=  (25954,)\n"
     ]
    }
   ],
   "source": [
    "# process train set: each y include 24 characteristics \n",
    "timestep=24\n",
    "x_train_eth=[]\n",
    "y_train_eth=[]\n",
    "\n",
    "for i in range(timestep,close_scaled_eth.shape[0]):\n",
    "    x_train_eth.append(close_scaled_eth[i-timestep:i,0])\n",
    "    y_train_eth.append(close_scaled_eth[i,0])\n",
    "\n",
    "x_train_eth,y_train_eth=np.array(x_train_eth),np.array(y_train_eth)\n",
    "x_train_eth=x_train_eth.reshape(x_train_eth.shape[0],x_train_eth.shape[1],1) \n",
    "print(\"x_train_eth shape= \",x_train_eth.shape)                       \n",
    "print(\"y_train_eth shape= \",y_train_eth.shape)    \n"
   ]
  },
  {
   "cell_type": "code",
   "execution_count": 10,
   "metadata": {},
   "outputs": [
    {
     "name": "stdout",
     "output_type": "stream",
     "text": [
      "Epoch 1/20\n",
      "406/406 [==============================] - 77s 180ms/step - loss: 0.0103\n",
      "Epoch 2/20\n",
      "406/406 [==============================] - 80s 198ms/step - loss: 2.9244e-04\n",
      "Epoch 3/20\n",
      "406/406 [==============================] - 79s 195ms/step - loss: 2.9969e-04\n",
      "Epoch 4/20\n",
      "406/406 [==============================] - 78s 192ms/step - loss: 2.9447e-04\n",
      "Epoch 5/20\n",
      "406/406 [==============================] - 80s 197ms/step - loss: 2.4181e-04\n",
      "Epoch 6/20\n",
      "406/406 [==============================] - 86s 211ms/step - loss: 2.1557e-04\n",
      "Epoch 7/20\n",
      "406/406 [==============================] - 80s 198ms/step - loss: 2.0143e-04\n",
      "Epoch 8/20\n",
      "406/406 [==============================] - 81s 200ms/step - loss: 1.8409e-04\n",
      "Epoch 9/20\n",
      "406/406 [==============================] - 81s 199ms/step - loss: 1.9376e-040s - loss: 1.9377\n",
      "Epoch 10/20\n",
      "406/406 [==============================] - 81s 198ms/step - loss: 1.7290e-04\n",
      "Epoch 11/20\n",
      "406/406 [==============================] - 80s 198ms/step - loss: 1.5988e-04\n",
      "Epoch 12/20\n",
      "406/406 [==============================] - 81s 199ms/step - loss: 1.9253e-04\n",
      "Epoch 13/20\n",
      "406/406 [==============================] - 80s 198ms/step - loss: 1.7063e-04\n",
      "Epoch 14/20\n",
      "406/406 [==============================] - 80s 198ms/step - loss: 1.8693e-04\n",
      "Epoch 15/20\n",
      "406/406 [==============================] - 81s 198ms/step - loss: 1.5368e-04\n",
      "Epoch 16/20\n",
      "406/406 [==============================] - 80s 197ms/step - loss: 1.4264e-04\n",
      "Epoch 17/20\n",
      "406/406 [==============================] - 82s 201ms/step - loss: 1.9165e-04\n",
      "Epoch 18/20\n",
      "406/406 [==============================] - 88s 216ms/step - loss: 1.7120e-04\n",
      "Epoch 19/20\n",
      "406/406 [==============================] - 79s 194ms/step - loss: 1.6119e-04\n",
      "Epoch 20/20\n",
      "406/406 [==============================] - 77s 190ms/step - loss: 1.8859e-04\n"
     ]
    },
    {
     "data": {
      "text/plain": [
       "<tensorflow.python.keras.callbacks.History at 0x182e31d37c0>"
      ]
     },
     "execution_count": 10,
     "metadata": {},
     "output_type": "execute_result"
    }
   ],
   "source": [
    "#RNN\n",
    "regressor_eth=Sequential()\n",
    "#the first layer\n",
    "regressor_eth.add(SimpleRNN(128,activation=\"relu\",input_shape=(x_train_eth.shape[1],1),return_sequences=True))\n",
    "# return_sequences:default is false.whcih means return to the output of the last stride. If true,return to the output of the all stride in the last layer.\n",
    "# hidden states: 128\n",
    "regressor_eth.add(Dropout(0.25))   \n",
    "###\n",
    "#the second layer\n",
    "regressor_eth.add(SimpleRNN(256,activation=\"relu\",return_sequences=True))\n",
    "regressor_eth.add(Dropout(0.25))\n",
    "#the third layer\n",
    "regressor_eth.add(SimpleRNN(512,activation=\"relu\",return_sequences=True))\n",
    "regressor_eth.add(Dropout(0.35))\n",
    "#the fourth layer\n",
    "regressor_eth.add(SimpleRNN(256,activation=\"relu\",return_sequences=True))\n",
    "regressor_eth.add(Dropout(0.25))\n",
    "###\n",
    "#the fifth layer\n",
    "regressor_eth.add(SimpleRNN(256,activation=\"relu\",return_sequences=True))\n",
    "regressor_eth.add(Dropout(0.25))\n",
    "#multi-dimension- one dimension\n",
    "regressor_eth.add(Flatten())\n",
    "#output\n",
    "regressor_eth.add(Dense(1))     #one dimension\n",
    "\n",
    "regressor_eth.compile(optimizer=\"adam\",loss=\"mean_squared_error\")  \n",
    "regressor_eth.fit(x_train_eth,y_train_eth,epochs=20,batch_size=64)       "
   ]
  },
  {
   "cell_type": "code",
   "execution_count": 11,
   "metadata": {},
   "outputs": [],
   "source": [
    "#Predict\n",
    "inputs_eth=eth_data[len(eth_data)-len(close_test_eth)-timestep:]           #input is the characteristic in test set\n",
    "inputs_eth=inputs_eth.values.reshape(-1,1)\n",
    "inputs_eth=scaler.transform(inputs_eth)                            \n",
    "\n",
    "x_test_eth=[]\n",
    "for i in range(timestep,inputs_eth.shape[0]):\n",
    "    x_test_eth.append(inputs_eth[i-timestep:i,0])\n",
    "x_test_eth=np.array(x_test_eth)\n",
    "x_test_eth=x_test_eth.reshape(x_test_eth.shape[0],x_test_eth.shape[1],1)\n",
    "x_test_eth.shape    \n",
    "\n",
    "predicted_data_eth=regressor_eth.predict(x_test_eth)                      #using the trained model to predict\n",
    "predicted_data_eth=scaler.inverse_transform(predicted_data_eth)  \n"
   ]
  },
  {
   "cell_type": "code",
   "execution_count": 12,
   "metadata": {},
   "outputs": [
    {
     "data": {
      "image/png": "[encoded data removed]",
      "text/plain": [
       "<Figure size 640x320 with 1 Axes>"
      ]
     },
     "metadata": {},
     "output_type": "display_data"
    }
   ],
   "source": [
    "data_test_eth=np.array(close_test_eth)                           \n",
    "data_test_eth=data_test_eth.reshape(len(data_test_eth),1)\n",
    "#plot show the relationship between the true price and the predicted price\n",
    "plt.figure(figsize=(8,4), dpi=80, facecolor='w', edgecolor='k')\n",
    "plt.plot(data_test_eth,color=\"r\",label=\"true result\")\n",
    "plt.plot(predicted_data_eth,color=\"b\",label=\"predicted result\")\n",
    "plt.legend()\n",
    "plt.xlabel(\"Time(h)\")\n",
    "plt.ylabel(\"Close Values\")\n",
    "plt.grid(True)\n",
    "plt.show()\n"
   ]
  },
  {
   "cell_type": "code",
   "execution_count": 13,
   "metadata": {},
   "outputs": [
    {
     "name": "stdout",
     "output_type": "stream",
     "text": [
      "0.7604387195939123\n"
     ]
    }
   ],
   "source": [
    "#ETH RNN Correlation coefficient \n",
    "test_series_eth = pd.Series(data_test_eth.flatten().tolist())  \n",
    "predicted_series_eth = pd.Series(predicted_data_eth.flatten().tolist())\n",
    "print(test_series_eth.corr(predicted_series_eth))\n"
   ]
  },
  {
   "cell_type": "code",
   "execution_count": null,
   "metadata": {},
   "outputs": [],
   "source": []
  }
 ],
 "metadata": {
  "colab": {
   "name": "cryptocurrency.ipynb",
   "provenance": []
  },
  "kernelspec": {
   "display_name": "Python 3",
   "language": "python",
   "name": "python3"
  },
  "language_info": {
   "codemirror_mode": {
    "name": "ipython",
    "version": 3
   },
   "file_extension": ".py",
   "mimetype": "text/x-python",
   "name": "python",
   "nbconvert_exporter": "python",
   "pygments_lexer": "ipython3",
   "version": "3.8.5"
  }
 },
 "nbformat": 4,
 "nbformat_minor": 1
}
