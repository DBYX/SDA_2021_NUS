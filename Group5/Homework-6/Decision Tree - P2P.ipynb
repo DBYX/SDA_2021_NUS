{
 "cells": [
  {
   "cell_type": "code",
   "execution_count": 2,
   "id": "located-happening",
   "metadata": {},
   "outputs": [
    {
     "name": "stderr",
     "output_type": "stream",
     "text": [
      "In C:\\Users\\ASUS\\Anaconda3\\lib\\site-packages\\matplotlib\\mpl-data\\stylelib\\_classic_test.mplstyle: \n",
      "The text.latex.unicode rcparam was deprecated in Matplotlib 3.0 and will be removed in 3.2.\n",
      "In C:\\Users\\ASUS\\Anaconda3\\lib\\site-packages\\matplotlib\\mpl-data\\stylelib\\_classic_test.mplstyle: \n",
      "The savefig.frameon rcparam was deprecated in Matplotlib 3.1 and will be removed in 3.3.\n",
      "In C:\\Users\\ASUS\\Anaconda3\\lib\\site-packages\\matplotlib\\mpl-data\\stylelib\\_classic_test.mplstyle: \n",
      "The pgf.debug rcparam was deprecated in Matplotlib 3.0 and will be removed in 3.2.\n",
      "In C:\\Users\\ASUS\\Anaconda3\\lib\\site-packages\\matplotlib\\mpl-data\\stylelib\\_classic_test.mplstyle: \n",
      "The verbose.level rcparam was deprecated in Matplotlib 3.1 and will be removed in 3.3.\n",
      "In C:\\Users\\ASUS\\Anaconda3\\lib\\site-packages\\matplotlib\\mpl-data\\stylelib\\_classic_test.mplstyle: \n",
      "The verbose.fileo rcparam was deprecated in Matplotlib 3.1 and will be removed in 3.3.\n"
     ]
    }
   ],
   "source": [
    "import numpy as np\n",
    "import pandas as pd\n",
    "import matplotlib.pyplot as plt\n",
    "from sklearn import manifold\n",
    "from sklearn import tree\n",
    "from sklearn.metrics import accuracy_score as acc_rate\n",
    "from sklearn.model_selection import train_test_split\n",
    "import graphviz"
   ]
  },
  {
   "cell_type": "code",
   "execution_count": 11,
   "id": "double-frequency",
   "metadata": {},
   "outputs": [],
   "source": [
    "data = pd.read_csv('p2p.csv', index_col=0)"
   ]
  },
  {
   "cell_type": "code",
   "execution_count": 12,
   "id": "fitting-moderator",
   "metadata": {},
   "outputs": [],
   "source": [
    "data = data.dropna()\n",
    "y = data.status\n",
    "data = data.drop(['status'], axis=1)"
   ]
  },
  {
   "cell_type": "code",
   "execution_count": 13,
   "id": "refined-lemon",
   "metadata": {},
   "outputs": [],
   "source": [
    "#reduce the data to 2D to reduce overfitting\n",
    "X_r, err = manifold.locally_linear_embedding(data.dropna(), n_neighbors=15, n_components=2, random_state=0)"
   ]
  },
  {
   "cell_type": "code",
   "execution_count": 14,
   "id": "ultimate-hollywood",
   "metadata": {},
   "outputs": [],
   "source": [
    "# split into training and testing sets\n",
    "X_train, X_test, y_train, y_test = train_test_split(X_r, y.values, test_size=0.3, random_state=123)"
   ]
  },
  {
   "cell_type": "code",
   "execution_count": 15,
   "id": "covered-andrew",
   "metadata": {},
   "outputs": [
    {
     "name": "stdout",
     "output_type": "stream",
     "text": [
      "\n",
      "The target test data set is:\n",
      " [0. 0. 1. ... 0. 0. 0.]\n",
      "\n",
      "The predicted result is:\n",
      " [0. 0. 0. ... 0. 0. 0.]\n",
      "\n",
      "Accuracy rate is:\n",
      " 0.876615150747403\n"
     ]
    }
   ],
   "source": [
    "# Decision Tree model\n",
    "clf = tree.DecisionTreeClassifier(criterion='entropy', splitter='best')\n",
    "clf.fit(X=X_train, y=y_train)\n",
    "print('\\nThe target test data set is:\\n', y_test)\n",
    "print('\\nThe predicted result is:\\n', clf.predict(X_test))\n",
    "print('\\nAccuracy rate is:\\n', acc_rate(y_test, clf.predict(X_test)))"
   ]
  },
  {
   "cell_type": "code",
   "execution_count": 17,
   "id": "discrete-import",
   "metadata": {},
   "outputs": [
    {
     "data": {
      "text/plain": [
       "'p2p.pdf'"
      ]
     },
     "execution_count": 17,
     "metadata": {},
     "output_type": "execute_result"
    }
   ],
   "source": [
    "#Visualize the graph\n",
    "dot_data = tree.export_graphviz(clf,\n",
    "                                out_file=None,\n",
    "                                class_names=\"status\",\n",
    "                                filled=True,\n",
    "                                rounded=True,\n",
    "                                impurity=False,\n",
    "                                special_characters=True)\n",
    "graph = graphviz.Source(dot_data)\n",
    "graph.render(\"p2p\", view = True)"
   ]
  },
  {
   "cell_type": "code",
   "execution_count": 18,
   "id": "cathedral-objective",
   "metadata": {},
   "outputs": [
    {
     "data": {
      "text/plain": [
       "array(['ratio001', 'ratio002', 'ratio003', 'ratio004', 'ratio005',\n",
       "       'ratio006', 'ratio008', 'ratio011', 'ratio012', 'ratio017',\n",
       "       'ratio018', 'ratio019', 'ratio027', 'ratio029', 'ratio030', 'DIO',\n",
       "       'DPO', 'DSO', 'turnover', 'nace', 'ratio036', 'ratio037',\n",
       "       'ratio039', 'ratio040'], dtype=object)"
      ]
     },
     "execution_count": 18,
     "metadata": {},
     "output_type": "execute_result"
    }
   ],
   "source": [
    "# Method without using LLE to flatten the data structure.\n",
    "\n",
    "feature_names = data.columns.values\n",
    "X_train, X_test, y_train, y_test = train_test_split(data, y.values, test_size=0.3, random_state=123)\n",
    "feature_names"
   ]
  },
  {
   "cell_type": "code",
   "execution_count": 19,
   "id": "tropical-blogger",
   "metadata": {},
   "outputs": [
    {
     "name": "stdout",
     "output_type": "stream",
     "text": [
      "\n",
      "The target test data set is:\n",
      " [0. 0. 1. ... 0. 0. 0.]\n",
      "\n",
      "The predicted result is:\n",
      " [0. 0. 0. ... 0. 0. 1.]\n",
      "\n",
      "Accuracy rate is:\n",
      " 0.8631872308082088\n"
     ]
    },
    {
     "data": {
      "text/plain": [
       "'p2p-2.pdf'"
      ]
     },
     "execution_count": 19,
     "metadata": {},
     "output_type": "execute_result"
    }
   ],
   "source": [
    "# initial an decision tree classifier object with given arguments\n",
    "clf = tree.DecisionTreeClassifier(criterion='entropy', splitter='best')\n",
    "clf.fit(X=X_train, y=y_train)\n",
    "\n",
    "# make prediction\n",
    "print('\\nThe target test data set is:\\n', y_test)\n",
    "print('\\nThe predicted result is:\\n', clf.predict(X_test))\n",
    "print('\\nAccuracy rate is:\\n', acc_rate(y_test, clf.predict(X_test)))\n",
    "\n",
    "# visualizing the tree\n",
    "\n",
    "dot_data = tree.export_graphviz(clf,\n",
    "                                out_file=None,\n",
    "                                feature_names=feature_names,\n",
    "                                class_names=\"status\",\n",
    "                                filled=True,\n",
    "                                rounded=True,\n",
    "                                impurity=False,\n",
    "                                special_characters=True)\n",
    "graph = graphviz.Source(dot_data)\n",
    "graph.render(\"p2p-2\", view = True)"
   ]
  },
  {
   "cell_type": "code",
   "execution_count": null,
   "id": "knowing-strip",
   "metadata": {},
   "outputs": [],
   "source": []
  }
 ],
 "metadata": {
  "kernelspec": {
   "display_name": "Python 3",
   "language": "python",
   "name": "python3"
  },
  "language_info": {
   "codemirror_mode": {
    "name": "ipython",
    "version": 3
   },
   "file_extension": ".py",
   "mimetype": "text/x-python",
   "name": "python",
   "nbconvert_exporter": "python",
   "pygments_lexer": "ipython3",
   "version": "3.7.9"
  }
 },
 "nbformat": 4,
 "nbformat_minor": 5
}
