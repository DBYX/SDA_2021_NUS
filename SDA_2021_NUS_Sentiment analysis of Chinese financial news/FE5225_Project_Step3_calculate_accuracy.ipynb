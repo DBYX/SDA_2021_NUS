{
 "cells": [
  {
   "cell_type": "markdown",
   "metadata": {},
   "source": [
    "# Please make sure that you have modify the data_path in \"_init_\" under your \".../site-packages/snownlp/sentiment\" to your new model's directory. Or replace the old model with the new model (must be the same name)"
   ]
  },
  {
   "cell_type": "code",
   "execution_count": 1,
   "metadata": {},
   "outputs": [],
   "source": [
    "from snownlp import sentiment\n",
    "from snownlp import SnowNLP\n",
    "import pandas as pd\n",
    "import numpy as np\n",
    "import time"
   ]
  },
  {
   "cell_type": "code",
   "execution_count": 2,
   "metadata": {},
   "outputs": [],
   "source": [
    "pos_test_data = pd.read_table(\"./pos_test_data.txt\",header = None,engine=\"python\",error_bad_lines=False,encoding = \"utf-8\")\n",
    "neg_test_data = pd.read_table(\"./neg_test_data.txt\",header = None,engine=\"python\",error_bad_lines=False,encoding = \"utf-8\")"
   ]
  },
  {
   "cell_type": "code",
   "execution_count": 3,
   "metadata": {},
   "outputs": [],
   "source": [
    "# define a function to calculate the sentiment\n",
    "def sentiment(text):\n",
    "    nlp =SnowNLP(text)\n",
    "    return nlp.sentiments"
   ]
  },
  {
   "cell_type": "code",
   "execution_count": 4,
   "metadata": {},
   "outputs": [
    {
     "name": "stdout",
     "output_type": "stream",
     "text": [
      "The accuracy rate in positive dataset is 76.94%\n"
     ]
    }
   ],
   "source": [
    "# calculate the accuracy rate of positive data test set\n",
    "# create an empty list for storing the sentiment of positive_test_set\n",
    "pos_test_outcome = []\n",
    "for i in range(len(pos_test_data)):\n",
    "    text=pos_test_data.iloc[i,0]\n",
    "    #print(text,sentiment(text))\n",
    "    pos_test_outcome.append(sentiment(text))\n",
    "pos_test_array = np.array(pos_test_outcome)\n",
    "a = sum(pos_test_array>0.5)\n",
    "b = sum(pos_test_array<0.5)\n",
    "\n",
    "# if the boundary of positive is score above 0.6\n",
    "print(\"The accuracy rate in positive dataset is {:.2f}%\".format(sum(pos_test_array>0.6)/len(pos_test_outcome)*100))"
   ]
  },
  {
   "cell_type": "code",
   "execution_count": 5,
   "metadata": {},
   "outputs": [
    {
     "name": "stdout",
     "output_type": "stream",
     "text": [
      "The accuracy rate in positive dataset is 80.29%\n"
     ]
    }
   ],
   "source": [
    "# if the boundary of positive is score above 0.5\n",
    "print(\"The accuracy rate in positive dataset is {:.2f}%\".format(sum(pos_test_array>0.5)/len(pos_test_outcome)*100))"
   ]
  },
  {
   "cell_type": "code",
   "execution_count": 6,
   "metadata": {},
   "outputs": [
    {
     "name": "stdout",
     "output_type": "stream",
     "text": [
      "The accuracy rate in negative dataset is 72.64%\n"
     ]
    }
   ],
   "source": [
    "# calculate the accuracy rate of negative data test set\n",
    "# create an empty list for storing the sentiment of positive_test_set\n",
    "neg_test_outcome = []\n",
    "for i in range(len(neg_test_data)):\n",
    "    text=neg_test_data.iloc[i,0]\n",
    "    #print(text,sentiment(text))\n",
    "    neg_test_outcome.append(sentiment(text))\n",
    "neg_test_array = np.array(neg_test_outcome)\n",
    "c = sum(neg_test_array>0.5)\n",
    "d = sum(neg_test_array<0.5)\n",
    "# if the boundary of positive is score below 0.4\n",
    "print(\"The accuracy rate in negative dataset is {:.2f}%\".format(sum(neg_test_array<0.4)/len(neg_test_outcome)*100))"
   ]
  },
  {
   "cell_type": "code",
   "execution_count": 7,
   "metadata": {},
   "outputs": [
    {
     "name": "stdout",
     "output_type": "stream",
     "text": [
      "The accuracy rate in negative dataset is 76.01%\n"
     ]
    }
   ],
   "source": [
    "# if the boundary of positive is score below 0.5\n",
    "print(\"The accuracy rate in negative dataset is {:.2f}%\".format(sum(neg_test_array<0.5)/len(neg_test_outcome)*100))"
   ]
  },
  {
   "cell_type": "code",
   "execution_count": 8,
   "metadata": {},
   "outputs": [
    {
     "name": "stdout",
     "output_type": "stream",
     "text": [
      "The accuracy rate in total is 78.15%\n"
     ]
    }
   ],
   "source": [
    "# calculate the total accuracy rate of this model\n",
    "acc = (sum(pos_test_array>0.5)+sum(neg_test_array<0.5))/(len(pos_test_outcome)+len(neg_test_outcome))*100\n",
    "print(\"The accuracy rate in total is {:.2f}%\".format(acc))"
   ]
  },
  {
   "cell_type": "code",
   "execution_count": 9,
   "metadata": {},
   "outputs": [
    {
     "name": "stdout",
     "output_type": "stream",
     "text": [
      "The recall rate is 76.01%\n",
      "The precision rate is 79.41%\n"
     ]
    }
   ],
   "source": [
    "print(\"The recall rate is {:.2f}%\".format(d/(c+d)*100))\n",
    "print(\"The precision rate is {:.2f}%\".format(d/(b+d)*100))"
   ]
  },
  {
   "cell_type": "code",
   "execution_count": null,
   "metadata": {},
   "outputs": [],
   "source": []
  }
 ],
 "metadata": {
  "kernelspec": {
   "display_name": "Python 3",
   "language": "python",
   "name": "python3"
  },
  "language_info": {
   "codemirror_mode": {
    "name": "ipython",
    "version": 3
   },
   "file_extension": ".py",
   "mimetype": "text/x-python",
   "name": "python",
   "nbconvert_exporter": "python",
   "pygments_lexer": "ipython3",
   "version": "3.6.5"
  }
 },
 "nbformat": 4,
 "nbformat_minor": 2
}
