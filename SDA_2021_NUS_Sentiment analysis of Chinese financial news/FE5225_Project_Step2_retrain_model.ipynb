{
 "cells": [
  {
   "cell_type": "code",
   "execution_count": 1,
   "metadata": {},
   "outputs": [],
   "source": [
    "# Install snownlp if you didn't use it before \n",
    "from snownlp import sentiment\n",
    "from snownlp import SnowNLP\n",
    "import pandas as pd\n",
    "import numpy as np"
   ]
  },
  {
   "cell_type": "markdown",
   "metadata": {},
   "source": [
    "# Re-train the snownlp model"
   ]
  },
  {
   "cell_type": "code",
   "execution_count": 2,
   "metadata": {
    "scrolled": true
   },
   "outputs": [
    {
     "name": "stdout",
     "output_type": "stream",
     "text": [
      "(3774552, 1)\n",
      "(4671653, 1)\n"
     ]
    }
   ],
   "source": [
    "# load the data for training ,positve and negative text we generate in step 1\n",
    "negative_txt = \"./neg_data0331.txt\"\n",
    "positive_txt = \"./pos_data0331.txt\"\n",
    "neg_data0331 = pd.read_csv(negative_txt,sep='\\n',error_bad_lines=False,encoding = \"utf-8\")\n",
    "pos_data0331 = pd.read_csv(positive_txt,sep='\\n',error_bad_lines=False,encoding = \"utf-8\")\n",
    "# See how big the size of the data is.\n",
    "print(np.shape(neg_data0331))\n",
    "print(np.shape(pos_data0331))"
   ]
  },
  {
   "cell_type": "code",
   "execution_count": 3,
   "metadata": {},
   "outputs": [],
   "source": [
    "# if we just put all the data for training, it will take a very long long time,exceed 10 hours we guess.\n",
    "# And the convergency rate is very low when data size is large.\n",
    "# So we define a function to choose sample of the sourcedata for training.\n",
    "def choose_sample(q,neg_data,pos_data):\n",
    "    neg_sample_idx = np.random.randint(0, len(neg_data), q)\n",
    "    pos_sample_idx = np.random.randint(0, len(pos_data), q)\n",
    "    pos_sample_data = np.array(pos_data)[pos_sample_idx]\n",
    "    neg_sample_data = np.array(neg_data)[neg_sample_idx]\n",
    "    return pos_sample_data,neg_sample_data"
   ]
  },
  {
   "cell_type": "code",
   "execution_count": 4,
   "metadata": {},
   "outputs": [],
   "source": [
    "# Here we random select 100000 data for each type(positive and negative)\n",
    "pos_data,neg_data=choose_sample(100000,neg_data0331,pos_data0331)"
   ]
  },
  {
   "cell_type": "code",
   "execution_count": 5,
   "metadata": {},
   "outputs": [
    {
     "name": "stdout",
     "output_type": "stream",
     "text": [
      "(33333,) (33333,)\n"
     ]
    }
   ],
   "source": [
    "# Then randomly choose 1/3 of the choosen data  as the train set\n",
    "np.random.seed(123)\n",
    "neg_test_idx = np.random.randint(0, len(neg_data), len(neg_data) // 3)\n",
    "pos_test_idx = np.random.randint(0, len(pos_data), len(pos_data) // 3)\n",
    "#print(neg_test_idx,pos_test_idx)\n",
    "print(np.shape(neg_test_idx),np.shape(pos_test_idx))"
   ]
  },
  {
   "cell_type": "code",
   "execution_count": 6,
   "metadata": {},
   "outputs": [
    {
     "name": "stdout",
     "output_type": "stream",
     "text": [
      "(71719, 1)\n",
      "(71479, 1)\n"
     ]
    }
   ],
   "source": [
    "# training data\n",
    "pos_train_data = np.delete(np.array(pos_data), pos_test_idx, axis=0)\n",
    "neg_train_data = np.delete(np.array(neg_data), neg_test_idx, axis=0)\n",
    "print(np.shape(pos_train_data))\n",
    "print(np.shape(neg_train_data))"
   ]
  },
  {
   "cell_type": "code",
   "execution_count": 7,
   "metadata": {},
   "outputs": [],
   "source": [
    "# testing data\n",
    "pos_test_data = np.array(pos_data)[pos_test_idx]\n",
    "neg_test_data = np.array(neg_data)[neg_test_idx]"
   ]
  },
  {
   "cell_type": "code",
   "execution_count": 8,
   "metadata": {},
   "outputs": [],
   "source": [
    "# save the test data to txt files for accuracy calculation in Step 3\n",
    "pos_test_df = pd.DataFrame(pos_test_data)\n",
    "neg_test_df = pd.DataFrame(neg_test_data)\n",
    "pos_test_df.to_csv('./pos_test_data.txt',index=False,header = None,encoding='UTF-8')\n",
    "neg_test_df.to_csv('./neg_test_data.txt',index=False,header = None,encoding='UTF-8')"
   ]
  },
  {
   "cell_type": "code",
   "execution_count": 9,
   "metadata": {},
   "outputs": [],
   "source": [
    "# save the train data to txt files for training\n",
    "pos_train_df = pd.DataFrame(pos_train_data)\n",
    "neg_train_df = pd.DataFrame(neg_train_data)\n",
    "pos_train_df.to_csv('./pos_train_data.txt',index=False,header = None,encoding='UTF-8')\n",
    "neg_train_df.to_csv('./neg_train_data.txt',index=False,header = None,encoding='UTF-8')"
   ]
  },
  {
   "cell_type": "code",
   "execution_count": 10,
   "metadata": {},
   "outputs": [],
   "source": [
    "# load the train data file\n",
    "train_negative_txt = \"./neg_train_data.txt\"\n",
    "train_positive_txt = \"./pos_train_data.txt\"\n",
    "sentiment.train(train_negative_txt,train_positive_txt)\n",
    "sentiment.save(\"./sentiment.marshal\")\n"
   ]
  },
  {
   "cell_type": "markdown",
   "metadata": {},
   "source": [
    "After you get the new model, there are two ways to use this model:\n",
    "The first one is to change the \"_init_\" file in your \"./site-packages/snownlp/sentiment\" directory, you need to modify your data_path to your new model's directory;\n",
    "The second one is delete the original model and put the new model(renamed as \"sentiment.marshal\" in your \"./site-packages/snownlp/sentiment\" directory."
   ]
  },
  {
   "cell_type": "code",
   "execution_count": null,
   "metadata": {},
   "outputs": [],
   "source": []
  }
 ],
 "metadata": {
  "kernelspec": {
   "display_name": "Python 3",
   "language": "python",
   "name": "python3"
  },
  "language_info": {
   "codemirror_mode": {
    "name": "ipython",
    "version": 3
   },
   "file_extension": ".py",
   "mimetype": "text/x-python",
   "name": "python",
   "nbconvert_exporter": "python",
   "pygments_lexer": "ipython3",
   "version": "3.6.5"
  }
 },
 "nbformat": 4,
 "nbformat_minor": 2
}
